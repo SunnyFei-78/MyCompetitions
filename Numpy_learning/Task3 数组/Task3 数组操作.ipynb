{
 "cells": [
  {
   "cell_type": "markdown",
   "metadata": {},
   "source": [
    "# Task3 数组操作"
   ]
  },
  {
   "cell_type": "markdown",
   "metadata": {},
   "source": [
    "## 1. 更改形状\n",
    "numpy.ndarray.shape表示数组的维度，返回一个元祖。\n",
    "\n",
    "元祖的长度就是秩，即ndim属性。\n",
    "\n",
    "可以通过自改shape属性来改变数组的形状。"
   ]
  },
  {
   "cell_type": "code",
   "execution_count": 1,
   "metadata": {},
   "outputs": [
    {
     "name": "stdout",
     "output_type": "stream",
     "text": [
      "(8,)\n",
      "[[1 8 5 6]\n",
      " [3 4 1 0]]\n"
     ]
    }
   ],
   "source": [
    "import numpy as np\n",
    "x = np.array([1, 8, 5, 6, 3, 4, 1, 0])\n",
    "print(x.shape)\n",
    "x.shape = [2, 4]\n",
    "print(x)"
   ]
  },
  {
   "cell_type": "code",
   "execution_count": 10,
   "metadata": {},
   "outputs": [
    {
     "name": "stdout",
     "output_type": "stream",
     "text": [
      "<numpy.flatiter object at 0x7ff832505800>\n",
      "11 12 13 14 15 16 17 18 19 20 21 22 23 24 25 26 27 28 29 30 31 32 33 34 35 \n",
      "[[11 12 13  0 15]\n",
      " [16 17 18 19 20]\n",
      " [21 22 23 24 25]\n",
      " [26 27 28 29 30]\n",
      " [31 32 33 34 35]]\n"
     ]
    }
   ],
   "source": [
    "# numpy.ndarray.flat 是将数组转化为一维的迭代器，可以用for访问数组的每一个元素\n",
    "import numpy as np\n",
    "\n",
    "x = np.array([[11, 12, 13, 14, 15],\n",
    "              [16, 17, 18, 19, 20],\n",
    "              [21, 22, 23, 24, 25],\n",
    "              [26, 27, 28, 29, 30],\n",
    "              [31, 32, 33, 34, 35]])\n",
    "y = x.flat\n",
    "print(y)\n",
    "for i in y:\n",
    "    print(i, end=' ')\n",
    "    \n",
    "y[3] = 0\n",
    "print(end='\\n')    \n",
    "print(x)"
   ]
  },
  {
   "cell_type": "markdown",
   "metadata": {},
   "source": [
    "- numpy.ndarray.flatten([order='C']) 将数组的副本转换为一维数组，并返回。\n",
    "order：'C' -- 按行，'F' -- 按列，'A' -- 原顺序，'k' -- 元素在内存中的出现顺序。(简记)\n",
    "order：{'C / F，'A，K}，可选使用此索引顺序读取a的元素。'C'意味着以行大的C风格顺序对元素进行索引，最后一个轴索引会更改F表示以列大的Fortran样式顺序索引元素，其中第一个索引变化最快，最后一个索引变化最快。请注意，'C'和'F'选项不考虑基础数组的内存布局，仅引用轴索引的顺序.A'表示如果a为Fortran，则以类似Fortran的索引顺序读取元素在内存中连续，否则类似C的顺序。“ K”表示按照步序在内存中的顺序读取元素，但步幅为负时反转数据除外。默认情况下，使用Cindex顺序。"
   ]
  },
  {
   "cell_type": "code",
   "execution_count": 9,
   "metadata": {},
   "outputs": [
    {
     "name": "stdout",
     "output_type": "stream",
     "text": [
      "[11 12 13 14 15 16 17 18 19 20 21 22 23 24 25 26 27 28 29 30 31 32 33 34\n",
      " 35]\n",
      "\n",
      "[[11 12 13 14 15]\n",
      " [16 17 18 19 20]\n",
      " [21 22 23 24 25]\n",
      " [26 27 28 29 30]\n",
      " [31 32 33 34 35]]\n"
     ]
    }
   ],
   "source": [
    "# flatten()函数返回的是拷贝\n",
    "x = np.array([[11, 12, 13, 14, 15],\n",
    "              [16, 17, 18, 19, 20],\n",
    "              [21, 22, 23, 24, 25],\n",
    "              [26, 27, 28, 29, 30],\n",
    "              [31, 32, 33, 34, 35]])\n",
    "y = x.flatten()\n",
    "print(y)\n",
    "\n",
    "y[3] = 0\n",
    "print(end='\\n')\n",
    "print(x)"
   ]
  },
  {
   "cell_type": "code",
   "execution_count": 11,
   "metadata": {},
   "outputs": [
    {
     "name": "stdout",
     "output_type": "stream",
     "text": [
      "[11 16 21 26 31 12 17 22 27 32 13 18 23 28 33 14 19 24 29 34 15 20 25 30\n",
      " 35]\n"
     ]
    }
   ],
   "source": [
    "x = np.array([[11, 12, 13, 14, 15],\n",
    "              [16, 17, 18, 19, 20],\n",
    "              [21, 22, 23, 24, 25],\n",
    "              [26, 27, 28, 29, 30],\n",
    "              [31, 32, 33, 34, 35]])\n",
    "y = x.flatten(order='F')\n",
    "print(y)"
   ]
  },
  {
   "cell_type": "code",
   "execution_count": 12,
   "metadata": {},
   "outputs": [
    {
     "name": "stdout",
     "output_type": "stream",
     "text": [
      "[11 16 21  0 31 12 17 22 27 32 13 18 23 28 33 14 19 24 29 34 15 20 25 30\n",
      " 35]\n",
      "********************\n",
      "[[11 12 13 14 15]\n",
      " [16 17 18 19 20]\n",
      " [21 22 23 24 25]\n",
      " [26 27 28 29 30]\n",
      " [31 32 33 34 35]]\n"
     ]
    }
   ],
   "source": [
    "y[3] = 0\n",
    "print(y)\n",
    "print('*'*20)\n",
    "print(x)"
   ]
  },
  {
   "cell_type": "code",
   "execution_count": 13,
   "metadata": {},
   "outputs": [
    {
     "name": "stdout",
     "output_type": "stream",
     "text": [
      "[11 12 13 14 15 16 17 18 19 20 21 22 23 24 25 26 27 28 29 30 31 32 33 34\n",
      " 35]\n",
      "[[11 12 13  0 15]\n",
      " [16 17 18 19 20]\n",
      " [21 22 23 24 25]\n",
      " [26 27 28 29 30]\n",
      " [31 32 33 34 35]]\n"
     ]
    }
   ],
   "source": [
    "# numpy.ravel(a, order='C')\n",
    "# ravel()返回的是视图。\n",
    "\n",
    "x = np.array([[11, 12, 13, 14, 15],\n",
    "              [16, 17, 18, 19, 20],\n",
    "              [21, 22, 23, 24, 25],\n",
    "              [26, 27, 28, 29, 30],\n",
    "              [31, 32, 33, 34, 35]])\n",
    "y = np.ravel(x)\n",
    "print(y)\n",
    "\n",
    "\n",
    "y[3] = 0\n",
    "print(x)"
   ]
  },
  {
   "cell_type": "code",
   "execution_count": 14,
   "metadata": {},
   "outputs": [
    {
     "name": "stdout",
     "output_type": "stream",
     "text": [
      "[11 16 21 26 31 12 17 22 27 32 13 18 23 28 33 14 19 24 29 34 15 20 25 30\n",
      " 35]\n",
      "[[11 12 13 14 15]\n",
      " [16 17 18 19 20]\n",
      " [21 22 23 24 25]\n",
      " [26 27 28 29 30]\n",
      " [31 32 33 34 35]]\n"
     ]
    }
   ],
   "source": [
    "# order=F 就是拷贝\n",
    "\n",
    "x = np.array([[11, 12, 13, 14, 15],\n",
    "              [16, 17, 18, 19, 20],\n",
    "              [21, 22, 23, 24, 25],\n",
    "              [26, 27, 28, 29, 30],\n",
    "              [31, 32, 33, 34, 35]])\n",
    "\n",
    "y = np.ravel(x, order='F')\n",
    "print(y)\n",
    "y[3] = 0\n",
    "print(x)"
   ]
  },
  {
   "cell_type": "code",
   "execution_count": 15,
   "metadata": {},
   "outputs": [
    {
     "name": "stdout",
     "output_type": "stream",
     "text": [
      "[[ 0  1  2  3  4]\n",
      " [ 5  6  7  8  9]\n",
      " [10 11 12 13 14]] int64\n"
     ]
    }
   ],
   "source": [
    "# numpy.reshape(a, newshape[,order='C'])在不更改数据的情况下为数组赋予新的形状\n",
    "\n",
    "# 当 newshape = [row, -1]时，可以根据行数自动确定列数\n",
    "\n",
    "x = np.arange(15)\n",
    "y = np.reshape(x, [3, 5])\n",
    "print(y, y.dtype)"
   ]
  },
  {
   "cell_type": "code",
   "execution_count": 16,
   "metadata": {},
   "outputs": [
    {
     "name": "stdout",
     "output_type": "stream",
     "text": [
      "[[ 0  1  2  3  4]\n",
      " [ 5  6  7  8  9]\n",
      " [10 11 12 13 14]]\n",
      "[[ 0  1  2]\n",
      " [ 3  4  5]\n",
      " [ 6  7  8]\n",
      " [ 9 10 11]\n",
      " [12 13 14]]\n"
     ]
    }
   ],
   "source": [
    "y1 = np.reshape(x, [3, -1])\n",
    "print(y1)\n",
    "y2 = np.reshape(x, [-1, 3])\n",
    "print(y2)"
   ]
  },
  {
   "cell_type": "code",
   "execution_count": 17,
   "metadata": {},
   "outputs": [
    {
     "name": "stdout",
     "output_type": "stream",
     "text": [
      "[ 0 10  2  3  4  5  6  7  8  9 10 11 12 13 14]\n"
     ]
    }
   ],
   "source": [
    "y2[0, 1] = 10\n",
    "print(x)"
   ]
  },
  {
   "cell_type": "code",
   "execution_count": 18,
   "metadata": {},
   "outputs": [
    {
     "name": "stdout",
     "output_type": "stream",
     "text": [
      "[[[ 5  0 11]\n",
      "  [ 8 11  1]]\n",
      "\n",
      " [[ 9  9  0]\n",
      "  [ 9  2  0]]]\n",
      "********************\n",
      "[ 5  0 11  8 11  1  9  9  0  9  2  0]\n"
     ]
    }
   ],
   "source": [
    "# reshape()函数当参数 newshape=-1 时，表示将数组降为一维\n",
    "x = np.random.randint(12, size = [2, 2, 3])\n",
    "print(x)\n",
    "print('*'*20)\n",
    "print(np.reshape(x, -1))"
   ]
  },
  {
   "cell_type": "markdown",
   "metadata": {},
   "source": [
    "## 2. 数组转置\n",
    "numpy.transpose(a, axes=None)\n",
    "\n",
    "numpy.ndarray.T 当维度小于2时返回本身"
   ]
  },
  {
   "cell_type": "code",
   "execution_count": 22,
   "metadata": {},
   "outputs": [
    {
     "name": "stdout",
     "output_type": "stream",
     "text": [
      "[[3.49 5.98 6.44 9.69 9.78]\n",
      " [0.55 5.58 5.13 9.08 2.95]\n",
      " [1.65 1.73 2.17 0.86 0.3 ]\n",
      " [2.78 9.8  0.88 9.24 9.49]\n",
      " [0.34 4.22 8.66 1.15 9.06]]\n",
      "********************\n",
      "[[3.49 0.55 1.65 2.78 0.34]\n",
      " [5.98 5.58 1.73 9.8  4.22]\n",
      " [6.44 5.13 2.17 0.88 8.66]\n",
      " [9.69 9.08 0.86 9.24 1.15]\n",
      " [9.78 2.95 0.3  9.49 9.06]]\n",
      "********************\n",
      "[[3.49 0.55 1.65 2.78 0.34]\n",
      " [5.98 5.58 1.73 9.8  4.22]\n",
      " [6.44 5.13 2.17 0.88 8.66]\n",
      " [9.69 9.08 0.86 9.24 1.15]\n",
      " [9.78 2.95 0.3  9.49 9.06]]\n"
     ]
    }
   ],
   "source": [
    "# np.random.rand(d0,d1,d2……dn) 使用方法与np.random.randn()函数相同 \n",
    "# 作用： \n",
    "# 通过本函数可以返回一个或一组服从“0~1”均匀分布的随机样本值。\n",
    "# 随机样本取值范围是[0,1)，不包括1。 \n",
    "\n",
    "                                          \n",
    "x = np.random.rand(5, 5) * 10\n",
    "x = np.around(x, 2)\n",
    "print(x)\n",
    "print('*'*20)\n",
    "print(x.T)\n",
    "print('*'*20)\n",
    "print(np.transpose(x))"
   ]
  },
  {
   "cell_type": "code",
   "execution_count": 23,
   "metadata": {},
   "outputs": [
    {
     "name": "stdout",
     "output_type": "stream",
     "text": [
      "[[1 9]\n",
      " [2 8]\n",
      " [3 7]]\n"
     ]
    }
   ],
   "source": [
    "x = np.array([[1,2, 3], [9,8,7]])\n",
    "y = x.T\n",
    "print(y)"
   ]
  },
  {
   "cell_type": "markdown",
   "metadata": {},
   "source": [
    "## 3. 更改维度\n",
    "当创建一个数组后，还可以使用newaxis参数来增加一个维度。\n",
    "numpy.newaxis = None"
   ]
  },
  {
   "cell_type": "code",
   "execution_count": 26,
   "metadata": {},
   "outputs": [
    {
     "name": "stdout",
     "output_type": "stream",
     "text": [
      "[1 3 4 6 8 9] (6,)\n",
      "(1, 6)\n",
      "[[1 3 4 6 8 9]]\n",
      "[[1]\n",
      " [3]\n",
      " [4]\n",
      " [6]\n",
      " [8]\n",
      " [9]]\n",
      "[[1 3 4]\n",
      " [6 8 9]]\n"
     ]
    }
   ],
   "source": [
    "import numpy as np\n",
    "x = np.array([1,3,4,6,8,9])\n",
    "print(x, x.shape)\n",
    "\n",
    "y1 = x[np.newaxis,:]\n",
    "print(y1.shape)\n",
    "print(y1)\n",
    "\n",
    "y2 = x[:,np.newaxis]\n",
    "print(y2)\n",
    "\n",
    "y3 = x.reshape(2,3)\n",
    "print(y3)"
   ]
  },
  {
   "cell_type": "markdown",
   "metadata": {},
   "source": [
    "numpy.squeeze(a, axis=None):\n",
    "\n",
    "可以删除数组形状中的单维度条目，即把shape为1的维度去掉，但对非单维的维度不起作用。\n"
   ]
  },
  {
   "cell_type": "code",
   "execution_count": 29,
   "metadata": {},
   "outputs": [
    {
     "name": "stdout",
     "output_type": "stream",
     "text": [
      "(8,)\n",
      "(1, 8)\n",
      "(8,)\n",
      "(8,)\n"
     ]
    }
   ],
   "source": [
    "import numpy as np\n",
    "x = np.arange(8)\n",
    "print(x.shape)\n",
    "x1 = x[np.newaxis,:]\n",
    "print(x1.shape)\n",
    "x2 = np.squeeze(x1)\n",
    "print(x2.shape)\n",
    "\n",
    "print(np.squeeze(x).shape)\n"
   ]
  },
  {
   "cell_type": "code",
   "execution_count": 30,
   "metadata": {},
   "outputs": [
    {
     "name": "stdout",
     "output_type": "stream",
     "text": [
      "(1, 3, 1)\n",
      "[[[0]\n",
      "  [1]\n",
      "  [2]]]\n",
      "(3,)\n",
      "[0 1 2]\n"
     ]
    }
   ],
   "source": [
    "import numpy as np\n",
    "\n",
    "x = np.array([[[0], [1], [2]]])\n",
    "print(x.shape)\n",
    "print(x)\n",
    "\n",
    "y = np.squeeze(x)\n",
    "print(y.shape) \n",
    "print(y)"
   ]
  },
  {
   "cell_type": "code",
   "execution_count": 35,
   "metadata": {},
   "outputs": [
    {
     "name": "stdout",
     "output_type": "stream",
     "text": [
      "(3, 1)\n",
      "[[0]\n",
      " [1]\n",
      " [2]]\n",
      "**********\n",
      "(1, 3)\n",
      "[[0 1 2]]\n"
     ]
    }
   ],
   "source": [
    "# 相当于去掉了第一个维度\n",
    "y = np.squeeze(x, axis=0)\n",
    "print(y.shape)\n",
    "print(y)\n",
    "print('*'*10)\n",
    "\n",
    "# 相当于去掉了第三个维度\n",
    "y = np.squeeze(x, axis=2)\n",
    "print(y.shape) \n",
    "print(y)"
   ]
  },
  {
   "cell_type": "code",
   "execution_count": 36,
   "metadata": {},
   "outputs": [
    {
     "ename": "ValueError",
     "evalue": "cannot select an axis to squeeze out which has size not equal to one",
     "output_type": "error",
     "traceback": [
      "\u001b[0;31m---------------------------------------------------------------------------\u001b[0m",
      "\u001b[0;31mValueError\u001b[0m                                Traceback (most recent call last)",
      "\u001b[0;32m<ipython-input-36-0f1f1bba2b51>\u001b[0m in \u001b[0;36m<module>\u001b[0;34m\u001b[0m\n\u001b[1;32m      1\u001b[0m \u001b[0;31m# 报错了\u001b[0m\u001b[0;34m\u001b[0m\u001b[0;34m\u001b[0m\u001b[0;34m\u001b[0m\u001b[0m\n\u001b[0;32m----> 2\u001b[0;31m \u001b[0my\u001b[0m \u001b[0;34m=\u001b[0m \u001b[0mnp\u001b[0m\u001b[0;34m.\u001b[0m\u001b[0msqueeze\u001b[0m\u001b[0;34m(\u001b[0m\u001b[0mx\u001b[0m\u001b[0;34m,\u001b[0m \u001b[0maxis\u001b[0m\u001b[0;34m=\u001b[0m\u001b[0;36m1\u001b[0m\u001b[0;34m)\u001b[0m\u001b[0;34m\u001b[0m\u001b[0;34m\u001b[0m\u001b[0m\n\u001b[0m",
      "\u001b[0;32m<__array_function__ internals>\u001b[0m in \u001b[0;36msqueeze\u001b[0;34m(*args, **kwargs)\u001b[0m\n",
      "\u001b[0;32m/opt/anaconda3/envs/csdn/lib/python3.7/site-packages/numpy/core/fromnumeric.py\u001b[0m in \u001b[0;36msqueeze\u001b[0;34m(a, axis)\u001b[0m\n\u001b[1;32m   1493\u001b[0m         \u001b[0;32mreturn\u001b[0m \u001b[0msqueeze\u001b[0m\u001b[0;34m(\u001b[0m\u001b[0;34m)\u001b[0m\u001b[0;34m\u001b[0m\u001b[0;34m\u001b[0m\u001b[0m\n\u001b[1;32m   1494\u001b[0m     \u001b[0;32melse\u001b[0m\u001b[0;34m:\u001b[0m\u001b[0;34m\u001b[0m\u001b[0;34m\u001b[0m\u001b[0m\n\u001b[0;32m-> 1495\u001b[0;31m         \u001b[0;32mreturn\u001b[0m \u001b[0msqueeze\u001b[0m\u001b[0;34m(\u001b[0m\u001b[0maxis\u001b[0m\u001b[0;34m=\u001b[0m\u001b[0maxis\u001b[0m\u001b[0;34m)\u001b[0m\u001b[0;34m\u001b[0m\u001b[0;34m\u001b[0m\u001b[0m\n\u001b[0m\u001b[1;32m   1496\u001b[0m \u001b[0;34m\u001b[0m\u001b[0m\n\u001b[1;32m   1497\u001b[0m \u001b[0;34m\u001b[0m\u001b[0m\n",
      "\u001b[0;31mValueError\u001b[0m: cannot select an axis to squeeze out which has size not equal to one"
     ]
    }
   ],
   "source": [
    "# 报错的原因：指定的维度不是单维\n",
    "y = np.squeeze(x, axis=1)"
   ]
  },
  {
   "cell_type": "markdown",
   "metadata": {},
   "source": [
    "\n",
    "在机器学习和深度学习中，通常算法的结果是可以表示向量的数组（即包含两对或以上的方括号形式[[]]），如果直接利用这个数组进行画图可能显示界面为空（见后面的示例）。我们可以利用squeeze()函数将表示向量的数组转换为秩为1的数组，这样利用 matplotlib 库函数画图时，就可以正常的显示结果了"
   ]
  },
  {
   "cell_type": "code",
   "execution_count": 37,
   "metadata": {},
   "outputs": [
    {
     "name": "stdout",
     "output_type": "stream",
     "text": [
      "(1, 6)\n"
     ]
    },
    {
     "data": {
      "text/plain": [
       "<Figure size 640x480 with 1 Axes>"
      ]
     },
     "metadata": {},
     "output_type": "display_data"
    }
   ],
   "source": [
    "import numpy as np\n",
    "import matplotlib.pyplot as plt\n",
    "\n",
    "x = np.array([[1, 4, 5, 9, 35, 20]])\n",
    "print(x.shape)\n",
    "plt.plot(x)\n",
    "plt.show()"
   ]
  },
  {
   "cell_type": "code",
   "execution_count": 38,
   "metadata": {},
   "outputs": [
    {
     "name": "stdout",
     "output_type": "stream",
     "text": [
      "(1, 6)\n"
     ]
    },
    {
     "data": {
      "image/png": "[encoded data removed]",
      "text/plain": [
       "<Figure size 432x288 with 1 Axes>"
      ]
     },
     "metadata": {
      "needs_background": "light"
     },
     "output_type": "display_data"
    }
   ],
   "source": [
    "import numpy as np\n",
    "import matplotlib.pyplot as plt\n",
    "\n",
    "x = np.array([[1, 4, 5, 9, 35, 20]])\n",
    "print(x.shape)\n",
    "x = np.squeeze(x)\n",
    "plt.plot(x)\n",
    "plt.show()"
   ]
  },
  {
   "cell_type": "markdown",
   "metadata": {},
   "source": [
    "## 4. 数组组合\n",
    "如果要将两份数据组合在一起，需要用到拼接操作。\n",
    "\n",
    "numpy.concatenate((a1,a2,...), axis=0, out=None)：\n",
    "\n",
    "连接轴可以指定，默认axis=0"
   ]
  },
  {
   "cell_type": "code",
   "execution_count": 42,
   "metadata": {},
   "outputs": [
    {
     "name": "stdout",
     "output_type": "stream",
     "text": [
      "[ 1  3  5  7  9  8 10 20 30 40 50 60]\n",
      "****************************************\n",
      "[ 1  3  5  7  9  8 10 20 30 40 50 60]\n"
     ]
    }
   ],
   "source": [
    "# 如果原来拼接的两个数组是一维的，那拼接后结果也是一维\n",
    "# 如果是二维的，那拼接后结果也是二维\n",
    "import numpy as np\n",
    "x = np.array([1,3,5,7,9,8])\n",
    "y = np.array([10,20,30,40,50,60])\n",
    "z = np.concatenate([x,y])\n",
    "print(z)\n",
    "print('*'*40)\n",
    "print(np.concatenate([x,y], axis=0))"
   ]
  },
  {
   "cell_type": "code",
   "execution_count": 44,
   "metadata": {},
   "outputs": [
    {
     "name": "stdout",
     "output_type": "stream",
     "text": [
      "[[1 3 5]\n",
      " [7 9 8]]\n",
      "[[10 20 30]\n",
      " [40 50 60]]\n",
      "********************\n",
      "[[ 1  3  5]\n",
      " [ 7  9  8]\n",
      " [10 20 30]\n",
      " [40 50 60]]\n",
      "********************\n",
      "[[ 1  3  5 10 20 30]\n",
      " [ 7  9  8 40 50 60]]\n"
     ]
    }
   ],
   "source": [
    "x = x.reshape(2,3)\n",
    "y = y.reshape(2,3)\n",
    "print(x)\n",
    "print(y)\n",
    "print('*'*20)\n",
    "print(np.concatenate([x, y]))\n",
    "print('*'*20)\n",
    "print(np.concatenate([x,y], axis=1))"
   ]
  },
  {
   "cell_type": "markdown",
   "metadata": {},
   "source": [
    "numpy.stack(arrays, axis=0, out=None)：增加维度的拼接"
   ]
  },
  {
   "cell_type": "code",
   "execution_count": 47,
   "metadata": {},
   "outputs": [
    {
     "name": "stdout",
     "output_type": "stream",
     "text": [
      "[[ 1  2  3]\n",
      " [10 20 30]] (2, 3)\n"
     ]
    }
   ],
   "source": [
    "import numpy as np\n",
    "x = np.array([1, 2, 3])\n",
    "y = np.array([10, 20, 30])\n",
    "z = np.stack([x, y])\n",
    "print(z, z.shape)"
   ]
  },
  {
   "cell_type": "code",
   "execution_count": 49,
   "metadata": {},
   "outputs": [
    {
     "data": {
      "text/plain": [
       "(3,)"
      ]
     },
     "execution_count": 49,
     "metadata": {},
     "output_type": "execute_result"
    }
   ],
   "source": [
    "x.shape"
   ]
  },
  {
   "cell_type": "code",
   "execution_count": 50,
   "metadata": {},
   "outputs": [
    {
     "name": "stdout",
     "output_type": "stream",
     "text": [
      "[[ 1 10]\n",
      " [ 2 20]\n",
      " [ 3 30]] (3, 2)\n"
     ]
    }
   ],
   "source": [
    "z2 = np.stack([x,y], axis=1)\n",
    "print(z2, z2.shape)"
   ]
  },
  {
   "cell_type": "code",
   "execution_count": 52,
   "metadata": {},
   "outputs": [
    {
     "name": "stdout",
     "output_type": "stream",
     "text": [
      "[[1 2 3]]\n",
      "[[7 8 9]]\n",
      "********************\n",
      "[[[1 2 3]]\n",
      "\n",
      " [[7 8 9]]] (2, 1, 3)\n"
     ]
    }
   ],
   "source": [
    "x = np.array([1, 2, 3]).reshape(1, 3)\n",
    "y = np.array([7, 8, 9]).reshape(1, 3)\n",
    "print(x)\n",
    "print(y)\n",
    "print('*'*20)\n",
    "z = np.stack([x, y])\n",
    "print(z, z.shape)"
   ]
  },
  {
   "cell_type": "code",
   "execution_count": 53,
   "metadata": {},
   "outputs": [
    {
     "name": "stdout",
     "output_type": "stream",
     "text": [
      "[[[1 2 3]\n",
      "  [7 8 9]]] (1, 2, 3)\n"
     ]
    }
   ],
   "source": [
    "z = np.stack([x, y], axis=1)\n",
    "print(z, z.shape)"
   ]
  },
  {
   "cell_type": "code",
   "execution_count": 54,
   "metadata": {},
   "outputs": [
    {
     "name": "stdout",
     "output_type": "stream",
     "text": [
      "[[[1 7]\n",
      "  [2 8]\n",
      "  [3 9]]] (1, 3, 2)\n"
     ]
    }
   ],
   "source": [
    "z = np.stack([x, y],axis=2)\n",
    "print(z, z.shape)"
   ]
  },
  {
   "cell_type": "markdown",
   "metadata": {},
   "source": [
    "### numpy.vstack(tup):  vertically（垂直的）, row wise\n",
    "\n",
    "### numpy.hstack(tup):  horizontally(水平的), column wise\n",
    "\n",
    "vstack() 和 hstack()分别表示垂直和水平的拼接，\n",
    "\n",
    "当数据维度是一维时比较特殊：vstack相当于stack操作（增加维度），而hstack相当于concatenate。\n",
    "\n",
    "当维度大于等于2时：他们分别相当于concatenate(axis=0), concatenate(axis=1)，用于在已有轴上操作"
   ]
  },
  {
   "cell_type": "code",
   "execution_count": 59,
   "metadata": {},
   "outputs": [
    {
     "name": "stdout",
     "output_type": "stream",
     "text": [
      "(2, 3)\n",
      "[[1 2 3]\n",
      " [7 8 9]]\n",
      "********************\n",
      "(2, 3)\n",
      "[[1 2 3]\n",
      " [7 8 9]]\n",
      "********************\n",
      "(6,)\n",
      "[1 2 3 7 8 9]\n",
      "********************\n",
      "(6,)\n",
      "[1 2 3 7 8 9]\n",
      "********************\n"
     ]
    }
   ],
   "source": [
    "## 一维的时候\n",
    "x = np.array([1, 2, 3])\n",
    "y = np.array([7, 8, 9])\n",
    "z = np.vstack((x, y))\n",
    "print(z.shape)\n",
    "print(z)\n",
    "print('*'*20)\n",
    "\n",
    "z = np.stack([x, y])\n",
    "print(z.shape) \n",
    "print(z)\n",
    "print('*'*20)\n",
    "\n",
    "z = np.hstack((x, y))\n",
    "print(z.shape) \n",
    "print(z)\n",
    "print('*'*20)\n",
    "\n",
    "z = np.concatenate((x, y))\n",
    "print(z.shape) \n",
    "print(z)\n",
    "print('*'*20)"
   ]
  },
  {
   "cell_type": "code",
   "execution_count": 56,
   "metadata": {},
   "outputs": [
    {
     "name": "stdout",
     "output_type": "stream",
     "text": [
      "(2, 3)\n",
      "[[1 2 3]\n",
      " [7 8 9]]\n",
      "********************\n",
      "(2, 3)\n",
      "[[1 2 3]\n",
      " [7 8 9]]\n",
      "********************\n",
      "(1, 6)\n",
      "[[1 2 3 7 8 9]]\n",
      "********************\n",
      "(1, 6)\n",
      "[[1 2 3 7 8 9]]\n",
      "********************\n"
     ]
    }
   ],
   "source": [
    "## 二维的时候\n",
    "import numpy as np\n",
    "\n",
    "x = np.array([1, 2, 3]).reshape(1, 3)\n",
    "y = np.array([7, 8, 9]).reshape(1, 3)\n",
    "z = np.vstack((x, y))\n",
    "print(z.shape)\n",
    "print(z)\n",
    "print('*'*20)\n",
    "\n",
    "z = np.concatenate((x, y), axis=0)\n",
    "print(z.shape)\n",
    "print(z)\n",
    "print('*'*20)\n",
    "\n",
    "z = np.hstack((x, y))\n",
    "print(z.shape)\n",
    "print(z)\n",
    "print('*'*20)\n",
    "\n",
    "z = np.concatenate((x, y), axis=1)\n",
    "print(z.shape)\n",
    "print(z)\n",
    "print('*'*20)"
   ]
  },
  {
   "cell_type": "code",
   "execution_count": 65,
   "metadata": {},
   "outputs": [
    {
     "name": "stdout",
     "output_type": "stream",
     "text": [
      "[ 1  2  3  4 50]\n"
     ]
    },
    {
     "ename": "ValueError",
     "evalue": "all the input arrays must have same number of dimensions, but the array at index 0 has 1 dimension(s) and the array at index 1 has 0 dimension(s)",
     "output_type": "error",
     "traceback": [
      "\u001b[0;31m---------------------------------------------------------------------------\u001b[0m",
      "\u001b[0;31mValueError\u001b[0m                                Traceback (most recent call last)",
      "\u001b[0;32m<ipython-input-65-5674fa539583>\u001b[0m in \u001b[0;36m<module>\u001b[0;34m\u001b[0m\n\u001b[1;32m      6\u001b[0m \u001b[0mprint\u001b[0m\u001b[0;34m(\u001b[0m\u001b[0ma\u001b[0m\u001b[0;34m)\u001b[0m\u001b[0;34m\u001b[0m\u001b[0;34m\u001b[0m\u001b[0m\n\u001b[1;32m      7\u001b[0m \u001b[0;34m\u001b[0m\u001b[0m\n\u001b[0;32m----> 8\u001b[0;31m \u001b[0mb\u001b[0m \u001b[0;34m=\u001b[0m \u001b[0mnp\u001b[0m\u001b[0;34m.\u001b[0m\u001b[0mconcatenate\u001b[0m\u001b[0;34m(\u001b[0m\u001b[0;34m[\u001b[0m\u001b[0mnp\u001b[0m\u001b[0;34m.\u001b[0m\u001b[0marray\u001b[0m\u001b[0;34m(\u001b[0m\u001b[0;34m[\u001b[0m\u001b[0;36m1\u001b[0m\u001b[0;34m,\u001b[0m \u001b[0;36m2\u001b[0m\u001b[0;34m,\u001b[0m \u001b[0;36m3\u001b[0m\u001b[0;34m]\u001b[0m\u001b[0;34m)\u001b[0m\u001b[0;34m,\u001b[0m \u001b[0;36m100\u001b[0m\u001b[0;34m]\u001b[0m\u001b[0;34m)\u001b[0m\u001b[0;34m\u001b[0m\u001b[0;34m\u001b[0m\u001b[0m\n\u001b[0m\u001b[1;32m      9\u001b[0m \u001b[0mprint\u001b[0m\u001b[0;34m(\u001b[0m\u001b[0mb\u001b[0m\u001b[0;34m)\u001b[0m\u001b[0;34m\u001b[0m\u001b[0;34m\u001b[0m\u001b[0m\n",
      "\u001b[0;32m<__array_function__ internals>\u001b[0m in \u001b[0;36mconcatenate\u001b[0;34m(*args, **kwargs)\u001b[0m\n",
      "\u001b[0;31mValueError\u001b[0m: all the input arrays must have same number of dimensions, but the array at index 0 has 1 dimension(s) and the array at index 1 has 0 dimension(s)"
     ]
    }
   ],
   "source": [
    "import numpy as np\n",
    "x = np.array([1,2,3,4,])\n",
    "y = np.array([50])\n",
    "\n",
    "a = np.hstack([x,y])\n",
    "print(a)\n",
    "\n",
    "b = np.concatenate([np.array([1, 2, 3]), 100])\n",
    "print(b)"
   ]
  },
  {
   "cell_type": "markdown",
   "metadata": {},
   "source": [
    "## 5. 数据拆分\n",
    "numpy.split(array, indices_or_sections, axis=0): return res\n",
    "\n",
    "spli函数只能用于均等分割， 如果不能均等分割则会报错：array split does not result in an equal division。\n",
    "\n",
    "array：类型为ndarray（n维数组），表示待分割的原始数组\n",
    "\n",
    "indices_or_sections：类型为int或者一维数组，表示一个索引，也就是切的位置所在。值如果是一个整数的话，就用这个数平均分割原数组。值如果是一个数组的话，就以数组中的数字为索引切开。\n",
    "\n",
    "axis：表示的是沿哪个维度切。ary为2维数组时，axis默认为0表示横向切，为1时表示纵向切。\n",
    "\n",
    "res：返回值res的类型为ndarray（n维数组），表示返回的是一组字数组。\n",
    "    "
   ]
  },
  {
   "cell_type": "code",
   "execution_count": 66,
   "metadata": {},
   "outputs": [
    {
     "name": "stdout",
     "output_type": "stream",
     "text": [
      "(3, 4)\n"
     ]
    }
   ],
   "source": [
    "import numpy as np\n",
    "\n",
    "x = np.array([[11, 12, 13, 14],\n",
    "              [16, 17, 18, 19],\n",
    "              [21, 22, 23, 24]])\n",
    "print(x.shape)"
   ]
  },
  {
   "cell_type": "code",
   "execution_count": 72,
   "metadata": {},
   "outputs": [
    {
     "name": "stdout",
     "output_type": "stream",
     "text": [
      "[array([[11, 12, 13, 14]]), array([[16, 17, 18, 19],\n",
      "       [21, 22, 23, 24]]), array([], shape=(0, 4), dtype=int64)]\n"
     ]
    }
   ],
   "source": [
    "# [0,1) [1,3) [3,) 默认axis=0\n",
    "# np.split(x, [1, 3])表示的是将数组A沿shape中第0个维度方向\n",
    "# 分割为[0,1) [1,3) [3,) 3个数组\n",
    "y = np.split(x, [1,3])\n",
    "print(y)"
   ]
  },
  {
   "cell_type": "code",
   "execution_count": 70,
   "metadata": {},
   "outputs": [
    {
     "name": "stdout",
     "output_type": "stream",
     "text": [
      "[array([[11],\n",
      "       [16],\n",
      "       [21]]), array([[12, 13],\n",
      "       [17, 18],\n",
      "       [22, 23]]), array([[14],\n",
      "       [19],\n",
      "       [24]])]\n"
     ]
    }
   ],
   "source": [
    "# [0,1) [1,3) [3,) \n",
    "print(np.split(x, [1, 3], axis=1))"
   ]
  },
  {
   "cell_type": "markdown",
   "metadata": {},
   "source": [
    "### numpy.vsplit(array, indices_or_sections): row wise"
   ]
  },
  {
   "cell_type": "code",
   "execution_count": 73,
   "metadata": {},
   "outputs": [
    {
     "name": "stdout",
     "output_type": "stream",
     "text": [
      "[array([[11, 12, 13, 14]]), array([[16, 17, 18, 19]]), array([[21, 22, 23, 24]])]\n"
     ]
    }
   ],
   "source": [
    "x = np.array([[11, 12, 13, 14],\n",
    "              [16, 17, 18, 19],\n",
    "              [21, 22, 23, 24]])\n",
    "print(np.vsplit(x,3))"
   ]
  },
  {
   "cell_type": "code",
   "execution_count": 74,
   "metadata": {},
   "outputs": [
    {
     "name": "stdout",
     "output_type": "stream",
     "text": [
      "[array([[11, 12, 13, 14]]), array([[16, 17, 18, 19]]), array([[21, 22, 23, 24]])]\n"
     ]
    }
   ],
   "source": [
    "print(np.split(x,3))"
   ]
  },
  {
   "cell_type": "code",
   "execution_count": 75,
   "metadata": {},
   "outputs": [
    {
     "name": "stdout",
     "output_type": "stream",
     "text": [
      "[array([[11, 12, 13, 14]]), array([[16, 17, 18, 19],\n",
      "       [21, 22, 23, 24]])]\n"
     ]
    }
   ],
   "source": [
    "# [0,1) [1,)\n",
    "print(np.vsplit(x, [1]))"
   ]
  },
  {
   "cell_type": "code",
   "execution_count": 76,
   "metadata": {},
   "outputs": [
    {
     "name": "stdout",
     "output_type": "stream",
     "text": [
      "[array([[11, 12, 13, 14]]), array([[16, 17, 18, 19],\n",
      "       [21, 22, 23, 24]])]\n"
     ]
    }
   ],
   "source": [
    "print(np.split(x, [1]))"
   ]
  },
  {
   "cell_type": "code",
   "execution_count": 77,
   "metadata": {},
   "outputs": [
    {
     "name": "stdout",
     "output_type": "stream",
     "text": [
      "[array([[11, 12, 13, 14]]), array([[16, 17, 18, 19],\n",
      "       [21, 22, 23, 24]]), array([], shape=(0, 4), dtype=int64)]\n"
     ]
    }
   ],
   "source": [
    "# [0,1) [1,3) [3,) row wise\n",
    "print(np.vsplit(x, [1,3]))"
   ]
  },
  {
   "cell_type": "markdown",
   "metadata": {},
   "source": [
    "### numpy.hsplit(array, indices_or_sections): column wise"
   ]
  },
  {
   "cell_type": "code",
   "execution_count": 78,
   "metadata": {},
   "outputs": [
    {
     "name": "stdout",
     "output_type": "stream",
     "text": [
      "[array([[11, 12],\n",
      "       [16, 17],\n",
      "       [21, 22]]), array([[13, 14],\n",
      "       [18, 19],\n",
      "       [23, 24]])]\n"
     ]
    }
   ],
   "source": [
    "x = np.array([[11, 12, 13, 14],\n",
    "              [16, 17, 18, 19],\n",
    "              [21, 22, 23, 24]])\n",
    "print(np.hsplit(x,2))"
   ]
  },
  {
   "cell_type": "code",
   "execution_count": 82,
   "metadata": {},
   "outputs": [
    {
     "name": "stdout",
     "output_type": "stream",
     "text": [
      "[array([[11, 12],\n",
      "       [16, 17],\n",
      "       [21, 22]]), array([[13, 14],\n",
      "       [18, 19],\n",
      "       [23, 24]])]\n"
     ]
    }
   ],
   "source": [
    "print(np.split(x, 2, axis=1))"
   ]
  },
  {
   "cell_type": "code",
   "execution_count": 84,
   "metadata": {},
   "outputs": [
    {
     "name": "stdout",
     "output_type": "stream",
     "text": [
      "[array([[11, 12, 13],\n",
      "       [16, 17, 18],\n",
      "       [21, 22, 23]]), array([[14],\n",
      "       [19],\n",
      "       [24]])]\n"
     ]
    }
   ],
   "source": [
    "# [0,3) [3,)\n",
    "print(np.hsplit(x, [3]))"
   ]
  },
  {
   "cell_type": "code",
   "execution_count": 85,
   "metadata": {},
   "outputs": [
    {
     "name": "stdout",
     "output_type": "stream",
     "text": [
      "[array([[11, 12, 13],\n",
      "       [16, 17, 18],\n",
      "       [21, 22, 23]]), array([[14],\n",
      "       [19],\n",
      "       [24]])]\n"
     ]
    }
   ],
   "source": [
    "print(np.split(x, [3], axis=1))"
   ]
  },
  {
   "cell_type": "code",
   "execution_count": 86,
   "metadata": {},
   "outputs": [
    {
     "name": "stdout",
     "output_type": "stream",
     "text": [
      "[array([[11],\n",
      "       [16],\n",
      "       [21]]), array([[12, 13],\n",
      "       [17, 18],\n",
      "       [22, 23]]), array([[14],\n",
      "       [19],\n",
      "       [24]])]\n"
     ]
    }
   ],
   "source": [
    "# [0,1) [1,3) [3,) column wise\n",
    "print(np.hsplit(x, [1, 3]))"
   ]
  },
  {
   "cell_type": "code",
   "execution_count": 87,
   "metadata": {},
   "outputs": [
    {
     "name": "stdout",
     "output_type": "stream",
     "text": [
      "[array([[11],\n",
      "       [16],\n",
      "       [21]]), array([[12, 13],\n",
      "       [17, 18],\n",
      "       [22, 23]]), array([[14],\n",
      "       [19],\n",
      "       [24]])]\n"
     ]
    }
   ],
   "source": [
    "print(np.split(x, [1, 3], axis=1))"
   ]
  },
  {
   "cell_type": "markdown",
   "metadata": {},
   "source": [
    "## 6. 数据平铺\n",
    "numpy.tile(A, reps): 功能是将数组A重复reps次，构成一个新的数组， \n",
    "\n",
    "- A: Array类的都可以,即A是一个ndarry数组\n",
    "- rep：A沿着各个维度重复的次数，表示变成的矩阵的形状，例如rep=(2,2,3)表示把A当成一个元素，形成一个(2,2,3) 形状的数组。"
   ]
  },
  {
   "cell_type": "code",
   "execution_count": 89,
   "metadata": {},
   "outputs": [
    {
     "name": "stdout",
     "output_type": "stream",
     "text": [
      "[[1 2]\n",
      " [3 4]]\n"
     ]
    }
   ],
   "source": [
    "x = np.array([[1,2], [3,4]])\n",
    "print(x)"
   ]
  },
  {
   "cell_type": "code",
   "execution_count": 90,
   "metadata": {},
   "outputs": [
    {
     "name": "stdout",
     "output_type": "stream",
     "text": [
      "[[1 2 1 2 1 2]\n",
      " [3 4 3 4 3 4]]\n"
     ]
    }
   ],
   "source": [
    "# 若输入一个二元祖，第一个数表示复制的行数，第二个数表示对 x的重复的次数\n",
    "print(np.tile(x, (1, 3)))"
   ]
  },
  {
   "cell_type": "code",
   "execution_count": 91,
   "metadata": {},
   "outputs": [
    {
     "name": "stdout",
     "output_type": "stream",
     "text": [
      "[[1 2]\n",
      " [3 4]\n",
      " [1 2]\n",
      " [3 4]\n",
      " [1 2]\n",
      " [3 4]]\n"
     ]
    }
   ],
   "source": [
    "print(np.tile(x, (3, 1)))"
   ]
  },
  {
   "cell_type": "code",
   "execution_count": 92,
   "metadata": {},
   "outputs": [
    {
     "name": "stdout",
     "output_type": "stream",
     "text": [
      "[[1 2 1 2 1 2]\n",
      " [3 4 3 4 3 4]\n",
      " [1 2 1 2 1 2]\n",
      " [3 4 3 4 3 4]\n",
      " [1 2 1 2 1 2]\n",
      " [3 4 3 4 3 4]]\n"
     ]
    }
   ],
   "source": [
    "print(np.tile(x, (3,3)))"
   ]
  },
  {
   "cell_type": "markdown",
   "metadata": {},
   "source": [
    "### numpy.repeat(a, repeats, axis=None)\n",
    "- `numpy.repeat(a, repeats, axis=None)` Repeat elements of an array.\n",
    "    - `axis=0`，沿着y轴复制，实际上增加了行数。\n",
    "    - `axis=1`，沿着x轴复制，实际上增加了列数。\n",
    "    - `repeats`，可以为一个数，也可以为一个矩阵。\n",
    "    - `axis=None`时就会flatten当前矩阵，实际上就是变成了一个行向量。"
   ]
  },
  {
   "cell_type": "code",
   "execution_count": 94,
   "metadata": {},
   "outputs": [
    {
     "name": "stdout",
     "output_type": "stream",
     "text": [
      "[3 3 3 3]\n"
     ]
    }
   ],
   "source": [
    "# 默认 axis=None，实际上就是一个行向量\n",
    "x = np.repeat(3, 4)\n",
    "print(x)"
   ]
  },
  {
   "cell_type": "code",
   "execution_count": 105,
   "metadata": {},
   "outputs": [
    {
     "name": "stdout",
     "output_type": "stream",
     "text": [
      "[[ 1  2]\n",
      " [30 40]]\n",
      "********************\n",
      "[ 1  1  2  2 30 30 40 40]\n"
     ]
    }
   ],
   "source": [
    "x = np.array([[1,2], [30, 40]])\n",
    "print(x)\n",
    "print('*'*20)\n",
    "print(np.repeat(x, 2))"
   ]
  },
  {
   "cell_type": "code",
   "execution_count": 97,
   "metadata": {},
   "outputs": [
    {
     "name": "stdout",
     "output_type": "stream",
     "text": [
      "[[ 1  2]\n",
      " [ 1  2]\n",
      " [30 40]\n",
      " [30 40]]\n"
     ]
    }
   ],
   "source": [
    "print(np.repeat(x, 2, axis=0))"
   ]
  },
  {
   "cell_type": "code",
   "execution_count": 98,
   "metadata": {},
   "outputs": [
    {
     "name": "stdout",
     "output_type": "stream",
     "text": [
      "[[ 1  1  2  2]\n",
      " [30 30 40 40]]\n"
     ]
    }
   ],
   "source": [
    "print(np.repeat(x, 2, axis=1))"
   ]
  },
  {
   "cell_type": "code",
   "execution_count": 99,
   "metadata": {},
   "outputs": [
    {
     "name": "stdout",
     "output_type": "stream",
     "text": [
      "[[ 1  2]\n",
      " [ 1  2]\n",
      " [30 40]\n",
      " [30 40]\n",
      " [30 40]]\n"
     ]
    }
   ],
   "source": [
    "print(np.repeat(x, [2, 3], axis=0))"
   ]
  },
  {
   "cell_type": "code",
   "execution_count": 107,
   "metadata": {},
   "outputs": [
    {
     "name": "stdout",
     "output_type": "stream",
     "text": [
      "[[ 1  1  2  2  2]\n",
      " [30 30 40 40 40]]\n"
     ]
    }
   ],
   "source": [
    "print(np.repeat(x, [2, 3], axis=1))"
   ]
  },
  {
   "cell_type": "markdown",
   "metadata": {},
   "source": [
    "## 7. 添加和删除元素"
   ]
  },
  {
   "cell_type": "code",
   "execution_count": 114,
   "metadata": {},
   "outputs": [
    {
     "name": "stdout",
     "output_type": "stream",
     "text": [
      "[1 2 3 4]\n",
      "********************\n",
      "(array([1, 2, 3, 4]), array([2, 2, 1, 2]))\n",
      "********************\n",
      "all numbers: [1 2 3 4]\n",
      "The numbers counts: [2 2 1 2]\n",
      "3\n"
     ]
    }
   ],
   "source": [
    "a=np.array([1,1,2,2,3,4,4])\n",
    "print(np.unique(a))\n",
    "print('*'*20)\n",
    "b=np.unique(a,return_counts=True)\n",
    "print(b)\n",
    "print('*'*20)\n",
    "print('all numbers:', b[0])\n",
    "print('The numbers counts:', b[1])\n",
    "print(b[0][list(b[1]).index(1)])"
   ]
  },
  {
   "cell_type": "code",
   "execution_count": null,
   "metadata": {},
   "outputs": [],
   "source": []
  }
 ],
 "metadata": {
  "kernelspec": {
   "display_name": "Python 3",
   "language": "python",
   "name": "python3"
  },
  "language_info": {
   "codemirror_mode": {
    "name": "ipython",
    "version": 3
   },
   "file_extension": ".py",
   "mimetype": "text/x-python",
   "name": "python",
   "nbconvert_exporter": "python",
   "pygments_lexer": "ipython3",
   "version": "3.7.4"
  }
 },
 "nbformat": 4,
 "nbformat_minor": 2
}
