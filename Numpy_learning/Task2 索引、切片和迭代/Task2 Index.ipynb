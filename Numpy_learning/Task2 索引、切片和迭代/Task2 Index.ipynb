{
 "cells": [
  {
   "cell_type": "markdown",
   "metadata": {},
   "source": [
    "# Task2 索引、切片与迭代"
   ]
  },
  {
   "cell_type": "markdown",
   "metadata": {},
   "source": [
    "在Numpy中，所有赋值运算不会为数组和数组中的任何元素创建副本。\n",
    "尤其在做数组运算或者数组操作时，返回结果是视图，不是数组的副本。\n",
    "\n",
    "numpy.ndarray.copy（）函数创建一个副本，对副本数据做修改不会影响到原始数据。"
   ]
  },
  {
   "cell_type": "code",
   "execution_count": 3,
   "metadata": {},
   "outputs": [
    {
     "name": "stdout",
     "output_type": "stream",
     "text": [
      "[-1  2  3  4  5  6  7  8]\n",
      "[-1  2  3  4  5  6  7  8]\n"
     ]
    }
   ],
   "source": [
    "import numpy as np\n",
    "x1 = np.array([1, 2, 3, 4, 5, 6, 7, 8])\n",
    "y = x1\n",
    "y[0] = -1\n",
    "print(x1)\n",
    "print(y)"
   ]
  },
  {
   "cell_type": "code",
   "execution_count": 4,
   "metadata": {},
   "outputs": [
    {
     "name": "stdout",
     "output_type": "stream",
     "text": [
      "[1 2 3 4 5 6 7 8]\n",
      "[-1  2  3  4  5  6  7  8]\n"
     ]
    }
   ],
   "source": [
    "import numpy as np\n",
    "x1 = np.array([1, 2, 3, 4, 5, 6, 7, 8])\n",
    "y = x1.copy()\n",
    "y[0] = -1\n",
    "print(x1)\n",
    "print(y)"
   ]
  },
  {
   "cell_type": "markdown",
   "metadata": {},
   "source": [
    "数组切片操作返回的对象是原数组的视图"
   ]
  },
  {
   "cell_type": "code",
   "execution_count": 7,
   "metadata": {},
   "outputs": [
    {
     "name": "stdout",
     "output_type": "stream",
     "text": [
      "[[-1 12 -1 14 15]\n",
      " [16 17 18 19 20]\n",
      " [-1 22 -1 24 25]\n",
      " [26 27 28 29 30]\n",
      " [-1 32 -1 34 35]]\n",
      "********************\n",
      "[[-1 12 -1 14 15]\n",
      " [16 17 18 19 20]\n",
      " [-1 22 -1 24 25]\n",
      " [26 27 28 29 30]\n",
      " [-1 32 -1 34 35]]\n"
     ]
    }
   ],
   "source": [
    "import numpy as np\n",
    "\n",
    "x = np.array([[11, 12, 13, 14, 15],\n",
    "              [16, 17, 18, 19, 20],\n",
    "              [21, 22, 23, 24, 25],\n",
    "              [26, 27, 28, 29, 30],\n",
    "              [31, 32, 33, 34, 35]])\n",
    "y = x\n",
    "y[::2, :3:2] = -1\n",
    "print(x)\n",
    "print('*'*20)\n",
    "print(y)"
   ]
  },
  {
   "cell_type": "code",
   "execution_count": 8,
   "metadata": {},
   "outputs": [
    {
     "name": "stdout",
     "output_type": "stream",
     "text": [
      "[[11 12 13 14 15]\n",
      " [16 17 18 19 20]\n",
      " [21 22 23 24 25]\n",
      " [26 27 28 29 30]\n",
      " [31 32 33 34 35]]\n",
      "********************\n",
      "[[-1 12 -1 14 15]\n",
      " [16 17 18 19 20]\n",
      " [-1 22 -1 24 25]\n",
      " [26 27 28 29 30]\n",
      " [-1 32 -1 34 35]]\n"
     ]
    }
   ],
   "source": [
    "x = np.array([[11, 12, 13, 14, 15],\n",
    "              [16, 17, 18, 19, 20],\n",
    "              [21, 22, 23, 24, 25],\n",
    "              [26, 27, 28, 29, 30],\n",
    "              [31, 32, 33, 34, 35]])\n",
    "y = x.copy()\n",
    "y[::2, :3:2] = -1\n",
    "print(x)\n",
    "print('*'*20)\n",
    "print(y)"
   ]
  },
  {
   "cell_type": "markdown",
   "metadata": {},
   "source": [
    "## 1. 切片索引\n",
    "\n",
    "切片操作是指抽取数组的一部分元素生成新数组。对 python 列表进行切片操作得到的数组是原数组的副本，而对 Numpy 数据进行切片操作得到的数组则是指向相同缓冲区的视图。\n",
    "\n",
    "切片语法：把几个用冒号（ start:stop:step ）隔开的数字置于方括号内。\n",
    "\n",
    "如果省去第一个数字，numpy 会认为第一个数字是0；如省去第二个数字，numpy 则会认为第二个数字是数组的最大索引值；如省去最后一个数字，它将会被理解为1，也就是抽取所有元素而不再考虑间隔。"
   ]
  },
  {
   "cell_type": "markdown",
   "metadata": {},
   "source": [
    "### 1）对一维数组切片"
   ]
  },
  {
   "cell_type": "code",
   "execution_count": 9,
   "metadata": {},
   "outputs": [
    {
     "name": "stdout",
     "output_type": "stream",
     "text": [
      "[5 4 3 2 1]\n",
      "[1 2 3 4 5]\n"
     ]
    }
   ],
   "source": [
    "import numpy as np\n",
    "x1 = np.array([1, 2, 3, 4, 5])\n",
    "print(x1[::-1])\n",
    "print(x1[:])\n"
   ]
  },
  {
   "cell_type": "markdown",
   "metadata": {},
   "source": [
    "### 2）对二维数组切片\n",
    "通过以逗号进行维度的分隔，然后再进行切片"
   ]
  },
  {
   "cell_type": "code",
   "execution_count": 1,
   "metadata": {},
   "outputs": [
    {
     "name": "stdout",
     "output_type": "stream",
     "text": [
      "[[16 17 18 19 20]\n",
      " [26 27 28 29 30]]\n",
      "********************\n",
      "[[11 12 13 14 15]\n",
      " [16 17 18 19 20]\n",
      " [21 22 23 24 25]\n",
      " [26 27 28 29 30]\n",
      " [31 32 33 34 35]]\n",
      "********************\n",
      "[13 18 23 28 33]\n",
      "********************\n",
      "[[18 19]\n",
      " [23 24]\n",
      " [28 29]]\n"
     ]
    }
   ],
   "source": [
    "import numpy as np\n",
    "\n",
    "x = np.array([[11, 12, 13, 14, 15],\n",
    "              [16, 17, 18, 19, 20],\n",
    "              [21, 22, 23, 24, 25],\n",
    "              [26, 27, 28, 29, 30],\n",
    "              [31, 32, 33, 34, 35]])\n",
    "\n",
    "print(x[1:5:2])\n",
    "print('*'*20)\n",
    "\n",
    "print(x[:])\n",
    "print('*'*20)\n",
    "\n",
    "print(x[:, 2])\n",
    "print('*'*20)\n",
    "\n",
    "print(x[1:4,2:4])"
   ]
  },
  {
   "cell_type": "code",
   "execution_count": 2,
   "metadata": {},
   "outputs": [
    {
     "name": "stdout",
     "output_type": "stream",
     "text": [
      "[[31 32 33 34 35]\n",
      " [26 27 28 29 30]\n",
      " [21 22 23 24 25]\n",
      " [16 17 18 19 20]\n",
      " [11 12 13 14 15]]\n",
      "********************\n",
      "[[15 14 13 12 11]\n",
      " [20 19 18 17 16]\n",
      " [25 24 23 22 21]\n",
      " [30 29 28 27 26]\n",
      " [35 34 33 32 31]]\n"
     ]
    }
   ],
   "source": [
    "print(x[::-1,:])\n",
    "print('*'*20)\n",
    "\n",
    "print(x[:,::-1])"
   ]
  },
  {
   "cell_type": "markdown",
   "metadata": {},
   "source": [
    "## 2. 索引"
   ]
  },
  {
   "cell_type": "markdown",
   "metadata": {},
   "source": [
    "### 1） dots索引\n",
    "Numpy允许使用...表示足够多的冒号来构建完整的索引列表。\n",
    "\n",
    "比如，当x是4维数组时：\n",
    "\n",
    "- x[1,2,...] x[1,2,:,:]\n",
    "\n",
    "比如，如果 x 是 5 维数组：\n",
    "\n",
    "- x[1,2,...] 等于 x[1,2,:,:,:]\n",
    "\n",
    "- x[...,3] 等于 x[:,:,:,:,3]\n",
    "\n",
    "- x[4,...,5,:] 等于 x[4,:,:,5,:]\n"
   ]
  },
  {
   "cell_type": "code",
   "execution_count": 4,
   "metadata": {},
   "outputs": [
    {
     "name": "stdout",
     "output_type": "stream",
     "text": [
      "[[[44 61 62]\n",
      "  [69 59 26]]\n",
      "\n",
      " [[72 83 48]\n",
      "  [36 47 14]]]\n",
      "********************\n",
      "[[72 83 48]\n",
      " [36 47 14]]\n",
      "********************\n",
      "[[62 26]\n",
      " [48 14]]\n"
     ]
    }
   ],
   "source": [
    "import numpy as np\n",
    "x = np.random.randint(1, 100, [2, 2, 3])\n",
    "print(x)\n",
    "print('*'*20)\n",
    "\n",
    "print(x[1,...])\n",
    "print('*'*20)\n",
    "\n",
    "print(x[...,2])"
   ]
  },
  {
   "cell_type": "code",
   "execution_count": 5,
   "metadata": {},
   "outputs": [
    {
     "name": "stdout",
     "output_type": "stream",
     "text": [
      "[[44 69]\n",
      " [72 36]]\n"
     ]
    }
   ],
   "source": [
    "print(x[...,0])"
   ]
  },
  {
   "cell_type": "markdown",
   "metadata": {},
   "source": [
    "### 2）整数数组索引"
   ]
  },
  {
   "cell_type": "code",
   "execution_count": 7,
   "metadata": {},
   "outputs": [
    {
     "name": "stdout",
     "output_type": "stream",
     "text": [
      "[1 3 5]\n",
      "[5 9 9]\n"
     ]
    }
   ],
   "source": [
    "import numpy as np\n",
    "x = np.array([1, 3, 5, 7, 8, 9])\n",
    "r1 = [0, 1, 2]\n",
    "print(x[r1])\n",
    "\n",
    "r2 = [2, 5, -1]\n",
    "print(x[r2])"
   ]
  },
  {
   "cell_type": "code",
   "execution_count": 15,
   "metadata": {},
   "outputs": [
    {
     "name": "stdout",
     "output_type": "stream",
     "text": [
      "[[11 12 13  8  1]\n",
      " [ 2  3  4  7  0]\n",
      " [ 9  9  9  6  5]]\n",
      "[13  0  2]\n"
     ]
    }
   ],
   "source": [
    "x = np.array([[11, 12, 13, 8, 1],\n",
    "             [1, 2, 3, 0, 4],\n",
    "             [2, 3, 4, 7, 0],\n",
    "             [9, 9, 9, 6, 5]])\n",
    "r1 = [0, 2, 3]\n",
    "print(x[r1])\n",
    "\n",
    "r2 = [0, 1, 2]\n",
    "c2 = [2, 3, 0]\n",
    "print(x[r2, c2])"
   ]
  },
  {
   "cell_type": "code",
   "execution_count": 16,
   "metadata": {},
   "outputs": [
    {
     "data": {
      "text/plain": [
       "array([[11, 12, 13,  8,  1],\n",
       "       [ 1,  2,  3,  0,  4],\n",
       "       [ 2,  3,  4,  7,  0]])"
      ]
     },
     "execution_count": 16,
     "metadata": {},
     "output_type": "execute_result"
    }
   ],
   "source": [
    "x[r2]"
   ]
  },
  {
   "cell_type": "code",
   "execution_count": 17,
   "metadata": {},
   "outputs": [
    {
     "data": {
      "text/plain": [
       "array([[13,  8, 11],\n",
       "       [ 3,  0,  1],\n",
       "       [ 4,  7,  2],\n",
       "       [ 9,  6,  9]])"
      ]
     },
     "execution_count": 17,
     "metadata": {},
     "output_type": "execute_result"
    }
   ],
   "source": [
    "x[...,c2]"
   ]
  },
  {
   "cell_type": "code",
   "execution_count": 19,
   "metadata": {},
   "outputs": [
    {
     "name": "stdout",
     "output_type": "stream",
     "text": [
      "[[1 2]\n",
      " [4 5]]\n"
     ]
    }
   ],
   "source": [
    "import numpy as np\n",
    "\n",
    "x = np.array([1, 2, 3, 4, 5, 6, 7, 8])\n",
    "r = np.array([[0, 1], [3, 4]])\n",
    "print(x[r])"
   ]
  },
  {
   "cell_type": "code",
   "execution_count": 20,
   "metadata": {},
   "outputs": [
    {
     "name": "stdout",
     "output_type": "stream",
     "text": [
      "[[[11 12 13 14 15]\n",
      "  [16 17 18 19 20]]\n",
      "\n",
      " [[26 27 28 29 30]\n",
      "  [31 32 33 34 35]]]\n"
     ]
    }
   ],
   "source": [
    "x = np.array([[11, 12, 13, 14, 15],\n",
    "              [16, 17, 18, 19, 20],\n",
    "              [21, 22, 23, 24, 25],\n",
    "              [26, 27, 28, 29, 30],\n",
    "              [31, 32, 33, 34, 35]])\n",
    "\n",
    "r = np.array([[0, 1], [3, 4]])\n",
    "print(x[r])\n",
    "\n",
    "# 相当于获取了5x5数组中的元素\n",
    "# 行索引是[0, 1]和[3, 4]"
   ]
  },
  {
   "cell_type": "code",
   "execution_count": 22,
   "metadata": {},
   "outputs": [
    {
     "name": "stdout",
     "output_type": "stream",
     "text": [
      "[[11 15]\n",
      " [31 35]]\n"
     ]
    }
   ],
   "source": [
    "# 行索引是 [0,0] 和 [4,4]，而列索引是 [0,4] 和 [0,4]。\n",
    "r = np.array([[0, 0], [4, 4]])\n",
    "c = np.array([[0, 4], [0, 4]])\n",
    "y = x[r, c]\n",
    "print(y)"
   ]
  },
  {
   "cell_type": "markdown",
   "metadata": {},
   "source": [
    "注意：使用切片索引时，生成的数组视图始终是原始数组的子数组；\n",
    "\n",
    "但是整数数组索引， 是形成了新的数组，而不是原来的子数组了。"
   ]
  },
  {
   "cell_type": "code",
   "execution_count": 24,
   "metadata": {},
   "outputs": [
    {
     "name": "stdout",
     "output_type": "stream",
     "text": [
      "[[1]]\n",
      "[[ True]]\n"
     ]
    }
   ],
   "source": [
    "a = np.array([[1, 2], [3, 4], [5, 6]])\n",
    "b = a[0:1, 0:1]\n",
    "print(b)\n",
    "b[0,0]=2\n",
    "print(a[0,0]==b)"
   ]
  },
  {
   "cell_type": "code",
   "execution_count": 26,
   "metadata": {},
   "outputs": [
    {
     "name": "stdout",
     "output_type": "stream",
     "text": [
      "1\n",
      "False\n"
     ]
    }
   ],
   "source": [
    "a = np.array([[1, 2], [3, 4], [5, 6]])\n",
    "b = a[0,0]\n",
    "print(b)\n",
    "b=2\n",
    "print(a[0,0]==b)"
   ]
  },
  {
   "cell_type": "markdown",
   "metadata": {},
   "source": [
    "### 3. 布尔索引\n",
    "通过一个布尔数组来索引目标数组"
   ]
  },
  {
   "cell_type": "code",
   "execution_count": 27,
   "metadata": {},
   "outputs": [
    {
     "name": "stdout",
     "output_type": "stream",
     "text": [
      "[False False False False  True  True  True]\n",
      "[ 6 10  8]\n"
     ]
    }
   ],
   "source": [
    "import numpy as np\n",
    "x = np.array([1,2,3,5,6,10,8])\n",
    "y = x > 5\n",
    "print(y)\n",
    "print(x[x>5])"
   ]
  },
  {
   "cell_type": "code",
   "execution_count": 42,
   "metadata": {},
   "outputs": [
    {
     "name": "stdout",
     "output_type": "stream",
     "text": [
      "[False  True  True False  True  True]\n"
     ]
    }
   ],
   "source": [
    "x = np.array([np.nan, 1, 2, np.nan, 10, 11])\n",
    "y = np.logical_not(np.isnan(x))\n",
    "print(y)"
   ]
  },
  {
   "cell_type": "code",
   "execution_count": 28,
   "metadata": {},
   "outputs": [
    {
     "name": "stdout",
     "output_type": "stream",
     "text": [
      "[[False False False False False]\n",
      " [False False False False False]\n",
      " [False False False False False]\n",
      " [ True  True  True  True  True]\n",
      " [ True  True  True  True  True]]\n",
      "[26 27 28 29 30 31 32 33 34 35]\n"
     ]
    }
   ],
   "source": [
    "x = np.array([[11, 12, 13, 14, 15],\n",
    "              [16, 17, 18, 19, 20],\n",
    "              [21, 22, 23, 24, 25],\n",
    "              [26, 27, 28, 29, 30],\n",
    "              [31, 32, 33, 34, 35]])\n",
    "y = x > 25\n",
    "print(y)\n",
    "print(x[x > 25])"
   ]
  },
  {
   "cell_type": "code",
   "execution_count": 30,
   "metadata": {},
   "outputs": [
    {
     "data": {
      "image/png": "[encoded data removed]",
      "text/plain": [
       "<Figure size 432x288 with 1 Axes>"
      ]
     },
     "metadata": {
      "needs_background": "light"
     },
     "output_type": "display_data"
    }
   ],
   "source": [
    "import numpy as np\n",
    "import matplotlib.pyplot as plt\n",
    "\n",
    "x = np.linspace(0, 2*np.pi, 50)\n",
    "y = np.sin(x)\n",
    "plt.plot(x, y)\n",
    "plt.show()"
   ]
  },
  {
   "cell_type": "code",
   "execution_count": 31,
   "metadata": {},
   "outputs": [
    {
     "name": "stdout",
     "output_type": "stream",
     "text": [
      "25\n",
      "[ True  True  True  True  True  True  True  True  True  True  True  True\n",
      "  True  True  True  True  True  True  True  True  True  True  True  True\n",
      "  True False False False False False False False False False False False\n",
      " False False False False False False False False False False False False\n",
      " False False]\n"
     ]
    }
   ],
   "source": [
    "import numpy as np\n",
    "import matplotlib.pyplot as plt\n",
    "\n",
    "x = np.linspace(0, 2*np.pi, 50)\n",
    "y = np.sin(x)\n",
    "plt.plot(x, y)\n",
    "\n",
    "mask = y >= 0\n",
    "print(len(x[mask]))\n",
    "print(mask)"
   ]
  },
  {
   "cell_type": "code",
   "execution_count": 41,
   "metadata": {},
   "outputs": [
    {
     "name": "stdout",
     "output_type": "stream",
     "text": [
      "25\n",
      "[ True  True  True  True  True  True  True  True  True  True  True  True\n",
      "  True  True  True  True  True  True  True  True  True  True  True  True\n",
      "  True False False False False False False False False False False False\n",
      " False False False False False False False False False False False False\n",
      " False False]\n",
      "[ True  True  True  True  True  True  True  True  True  True  True  True\n",
      "  True False False False False False False False False False False False\n",
      " False False False False False False False False False False False False\n",
      " False False False False False False False False False False False False\n",
      " False False]\n"
     ]
    },
    {
     "data": {
      "text/plain": [
       "[<matplotlib.lines.Line2D at 0x121786b50>]"
      ]
     },
     "execution_count": 41,
     "metadata": {},
     "output_type": "execute_result"
    },
    {
     "data": {
      "image/png": "[encoded data removed]",
      "text/plain": [
       "<Figure size 432x288 with 1 Axes>"
      ]
     },
     "metadata": {
      "needs_background": "light"
     },
     "output_type": "display_data"
    }
   ],
   "source": [
    "import numpy as np\n",
    "import matplotlib.pyplot as plt\n",
    "\n",
    "x = np.linspace(0, 2*np.pi, 50)\n",
    "y = np.sin(x)\n",
    "plt.plot(x, y)\n",
    "\n",
    "mask = y >= 0\n",
    "print(len(x[mask]))\n",
    "print(mask)\n",
    "\n",
    "plt.plot(x[mask], y[mask], 'bo')\n",
    "mask = np.logical_and(y>=0, x<=np.pi /2)\n",
    "print(mask)\n",
    "plt.plot(x[mask], y[mask], 'go')\n",
    "# plt.show()"
   ]
  },
  {
   "cell_type": "markdown",
   "metadata": {},
   "source": [
    "## 3. 数组迭代\n",
    "除了for循环，Numpy还有另外一种方式做遍历：\n",
    "apply_along_axis(func, axis, arr)"
   ]
  },
  {
   "cell_type": "code",
   "execution_count": 43,
   "metadata": {},
   "outputs": [
    {
     "name": "stdout",
     "output_type": "stream",
     "text": [
      "[105 110 115 120 125]\n",
      "********************\n",
      "[ 65  90 115 140 165]\n",
      "********************\n",
      "[21. 22. 23. 24. 25.]\n",
      "********************\n",
      "[21. 22. 23. 24. 25.]\n",
      "********************\n",
      "[13. 18. 23. 28. 33.]\n"
     ]
    }
   ],
   "source": [
    "import numpy as np\n",
    "\n",
    "x = np.array([[11, 12, 13, 14, 15],\n",
    "              [16, 17, 18, 19, 20],\n",
    "              [21, 22, 23, 24, 25],\n",
    "              [26, 27, 28, 29, 30],\n",
    "              [31, 32, 33, 34, 35]])\n",
    "y1 = np.apply_along_axis(np.sum, 0, x)\n",
    "print(y1)\n",
    "print('*'*20)\n",
    "\n",
    "y2 = np.apply_along_axis(np.sum, 1, x)\n",
    "print(y2)\n",
    "print('*'*20)\n",
    "\n",
    "y3 = np.apply_along_axis(np.mean, 0, x)\n",
    "print(y3)\n",
    "print('*'*20)\n",
    "\n",
    "def my_func(x):\n",
    "    return (x[0]+x[-1]) * 0.5\n",
    "\n",
    "y4 = np.apply_along_axis(my_func, 0, x)\n",
    "print(y4)\n",
    "print('*'*20)\n",
    "\n",
    "y5 = np.apply_along_axis(my_func, 1, x)\n",
    "print(y5)"
   ]
  },
  {
   "cell_type": "code",
   "execution_count": null,
   "metadata": {},
   "outputs": [],
   "source": []
  },
  {
   "cell_type": "code",
   "execution_count": null,
   "metadata": {},
   "outputs": [],
   "source": []
  },
  {
   "cell_type": "code",
   "execution_count": null,
   "metadata": {},
   "outputs": [],
   "source": []
  },
  {
   "cell_type": "code",
   "execution_count": null,
   "metadata": {},
   "outputs": [],
   "source": []
  }
 ],
 "metadata": {
  "kernelspec": {
   "display_name": "Python 3",
   "language": "python",
   "name": "python3"
  },
  "language_info": {
   "codemirror_mode": {
    "name": "ipython",
    "version": 3
   },
   "file_extension": ".py",
   "mimetype": "text/x-python",
   "name": "python",
   "nbconvert_exporter": "python",
   "pygments_lexer": "ipython3",
   "version": "3.7.4"
  }
 },
 "nbformat": 4,
 "nbformat_minor": 2
}
