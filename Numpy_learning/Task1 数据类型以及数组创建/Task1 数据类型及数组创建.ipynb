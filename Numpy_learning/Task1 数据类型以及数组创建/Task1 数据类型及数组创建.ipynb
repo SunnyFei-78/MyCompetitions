{
 "cells": [
  {
   "cell_type": "markdown",
   "metadata": {},
   "source": [
    "# Task1 数据类型及数据创建"
   ]
  },
  {
   "cell_type": "markdown",
   "metadata": {},
   "source": [
    "## 1. 常量\n",
    "### 1）numpy.nan"
   ]
  },
  {
   "cell_type": "code",
   "execution_count": 2,
   "metadata": {},
   "outputs": [
    {
     "data": {
      "text/plain": [
       "False"
      ]
     },
     "execution_count": 2,
     "metadata": {},
     "output_type": "execute_result"
    }
   ],
   "source": [
    "import numpy as np\n",
    "np.nan == np.nan"
   ]
  },
  {
   "cell_type": "code",
   "execution_count": 3,
   "metadata": {},
   "outputs": [
    {
     "name": "stdout",
     "output_type": "stream",
     "text": [
      "[False False  True False False]\n",
      "1\n"
     ]
    }
   ],
   "source": [
    "x = np.array([1, 2, np.nan, 0, 10])\n",
    "y = np.isnan(x)\n",
    "print(y)\n",
    "\n",
    "z = np.count_nonzero(y)\n",
    "print(z)"
   ]
  },
  {
   "cell_type": "markdown",
   "metadata": {},
   "source": [
    "### 2)  numpy.inf 表示正无穷大\n",
    "###      numpy.pi  表示圆周率\n",
    "###      numpy.e   表示自然常数"
   ]
  },
  {
   "cell_type": "code",
   "execution_count": 5,
   "metadata": {},
   "outputs": [
    {
     "data": {
      "text/plain": [
       "3.141592653589793"
      ]
     },
     "execution_count": 5,
     "metadata": {},
     "output_type": "execute_result"
    }
   ],
   "source": [
    "np.pi"
   ]
  },
  {
   "cell_type": "code",
   "execution_count": 4,
   "metadata": {},
   "outputs": [
    {
     "data": {
      "text/plain": [
       "2.718281828459045"
      ]
     },
     "execution_count": 4,
     "metadata": {},
     "output_type": "execute_result"
    }
   ],
   "source": [
    "np.e"
   ]
  },
  {
   "cell_type": "markdown",
   "metadata": {},
   "source": [
    "## 2. 数据类型\n",
    "numpy的数值类型实际上是dtype对象的实例，每个内建类型都有一个唯一定义它的字符代码。"
   ]
  },
  {
   "cell_type": "code",
   "execution_count": 6,
   "metadata": {},
   "outputs": [
    {
     "name": "stdout",
     "output_type": "stream",
     "text": [
      "<class 'numpy.bool_'>\n",
      "1\n"
     ]
    }
   ],
   "source": [
    "import numpy as np\n",
    "a = np.dtype('b1')\n",
    "print(a.type)\n",
    "print(a.itemsize)"
   ]
  },
  {
   "cell_type": "code",
   "execution_count": 7,
   "metadata": {},
   "outputs": [
    {
     "name": "stdout",
     "output_type": "stream",
     "text": [
      "<class 'numpy.int8'>\n",
      "1\n",
      "<class 'numpy.int16'>\n",
      "2\n",
      "<class 'numpy.int32'>\n",
      "4\n",
      "<class 'numpy.int64'>\n",
      "8\n"
     ]
    }
   ],
   "source": [
    "b = np.dtype('i1')\n",
    "print(b.type)\n",
    "print(b.itemsize)\n",
    "\n",
    "c = np.dtype('i2')\n",
    "print(c.type)\n",
    "print(c.itemsize)\n",
    "\n",
    "d = np.dtype('i4')\n",
    "print(d.type)\n",
    "print(d.itemsize)\n",
    "\n",
    "e = np.dtype('i8')\n",
    "print(e.type)\n",
    "print(e.itemsize)"
   ]
  },
  {
   "cell_type": "code",
   "execution_count": 8,
   "metadata": {},
   "outputs": [
    {
     "name": "stdout",
     "output_type": "stream",
     "text": [
      "<class 'numpy.uint8'>\n",
      "1\n",
      "<class 'numpy.uint16'>\n",
      "2\n",
      "<class 'numpy.uint32'>\n",
      "4\n",
      "<class 'numpy.uint64'>\n",
      "8\n"
     ]
    }
   ],
   "source": [
    "b = np.dtype('u1')\n",
    "print(b.type)\n",
    "print(b.itemsize)\n",
    "\n",
    "c = np.dtype('u2')\n",
    "print(c.type)\n",
    "print(c.itemsize)\n",
    "\n",
    "d = np.dtype('u4')\n",
    "print(d.type)\n",
    "print(d.itemsize)\n",
    "\n",
    "e = np.dtype('u8')\n",
    "print(e.type)\n",
    "print(e.itemsize)"
   ]
  },
  {
   "cell_type": "code",
   "execution_count": 9,
   "metadata": {},
   "outputs": [
    {
     "name": "stdout",
     "output_type": "stream",
     "text": [
      "<class 'numpy.float16'>\n",
      "2\n",
      "<class 'numpy.float32'>\n",
      "4\n",
      "<class 'numpy.float64'>\n",
      "8\n",
      "<class 'numpy.bytes_'>\n",
      "0\n",
      "<class 'numpy.bytes_'>\n",
      "3\n",
      "<class 'numpy.str_'>\n",
      "12\n"
     ]
    }
   ],
   "source": [
    "c = np.dtype('f2')\n",
    "print(c.type)\n",
    "print(c.itemsize)\n",
    "\n",
    "d = np.dtype('f4')\n",
    "print(d.type)\n",
    "print(d.itemsize)\n",
    "\n",
    "e = np.dtype('f8')\n",
    "print(e.type)\n",
    "print(e.itemsize)\n",
    "\n",
    "a1 = np.dtype('S')\n",
    "print(a1.type)\n",
    "print(a1.itemsize)\n",
    "\n",
    "a2 = np.dtype('S3')\n",
    "print(a2.type)\n",
    "print(a2.itemsize)\n",
    "\n",
    "a3 = np.dtype('U3')\n",
    "print(a3.type)\n",
    "print(a3.itemsize)"
   ]
  },
  {
   "cell_type": "markdown",
   "metadata": {},
   "source": [
    "Python的浮点数通常是64位浮点数， 几乎等同于np.float64\n",
    "Python的int是灵活的，可以扩展以容纳任何整数并且不会溢出。"
   ]
  },
  {
   "cell_type": "code",
   "execution_count": 10,
   "metadata": {},
   "outputs": [
    {
     "name": "stdout",
     "output_type": "stream",
     "text": [
      "-32768\n",
      "32767\n",
      "-2147483648\n",
      "2147483647\n"
     ]
    }
   ],
   "source": [
    "import numpy as np\n",
    "i16 = np.iinfo(np.int16)\n",
    "print(i16.min)\n",
    "print(i16.max)\n",
    "\n",
    "i32 = np.iinfo(np.int32)\n",
    "print(i32.min)\n",
    "print(i32.max)"
   ]
  },
  {
   "cell_type": "code",
   "execution_count": 11,
   "metadata": {},
   "outputs": [
    {
     "name": "stdout",
     "output_type": "stream",
     "text": [
      "16\n",
      "-65500.0\n",
      "65500.0\n",
      "0.000977\n",
      "32\n",
      "-3.4028235e+38\n",
      "3.4028235e+38\n",
      "1.1920929e-07\n"
     ]
    }
   ],
   "source": [
    "f16 = np.finfo(np.float16)\n",
    "print(f16.bits)\n",
    "print(f16.min)\n",
    "print(f16.max)\n",
    "print(f16.eps)\n",
    "\n",
    "f32 = np.finfo(np.float32)\n",
    "print(f32.bits)\n",
    "print(f32.min)\n",
    "print(f32.max)\n",
    "print(f32.eps)"
   ]
  },
  {
   "cell_type": "markdown",
   "metadata": {},
   "source": [
    "## 3. 时间相关"
   ]
  },
  {
   "cell_type": "markdown",
   "metadata": {},
   "source": [
    "从字符串创建datetime64类型时，默认情况下，numpy会根据字符串自动选择对应的单位。也可以强制指定使用的单位。"
   ]
  },
  {
   "cell_type": "code",
   "execution_count": 14,
   "metadata": {},
   "outputs": [
    {
     "name": "stdout",
     "output_type": "stream",
     "text": [
      "2020-10-19 datetime64[D]\n",
      "2020-10 datetime64[M]\n",
      "2020-10-19T20:01:35 datetime64[s]\n",
      "2020-10-19T20:01 datetime64[m]\n",
      "2020-10-19T20 datetime64[h]\n"
     ]
    }
   ],
   "source": [
    "import numpy as np\n",
    "a1 = np.datetime64('2020-10-19')\n",
    "print(a1, a1.dtype)\n",
    "\n",
    "a2 = np.datetime64('2020-10')\n",
    "print(a2, a2.dtype)\n",
    "\n",
    "a3 = np.datetime64('2020-10-19 20:01:35')\n",
    "print(a3, a3.dtype)\n",
    "\n",
    "a4 = np.datetime64('2020-10-19 20:01')\n",
    "print(a4, a4.dtype)\n",
    "\n",
    "a5 = np.datetime64('2020-10-19 20')\n",
    "print(a5, a5.dtype)"
   ]
  },
  {
   "cell_type": "code",
   "execution_count": 16,
   "metadata": {},
   "outputs": [
    {
     "name": "stdout",
     "output_type": "stream",
     "text": [
      "2020-10-01 datetime64[D]\n",
      "2020 datetime64[Y]\n",
      "True\n",
      "False\n"
     ]
    }
   ],
   "source": [
    "b1 = np.datetime64('2020-10', 'D')\n",
    "print(b1, b1.dtype)\n",
    "\n",
    "b2 = np.datetime64('2020-10', 'Y')\n",
    "print(b2, b2.dtype)\n",
    "\n",
    "print(np.datetime64('2020-10') == np.datetime64('2020-10-01'))\n",
    "print(np.datetime64('2020-10') == np.datetime64('2020-10-02'))"
   ]
  },
  {
   "cell_type": "markdown",
   "metadata": {},
   "source": [
    "从字符串创建datetime64数组时，如果单位不统一，则一律转换成其中最小的单位"
   ]
  },
  {
   "cell_type": "code",
   "execution_count": 17,
   "metadata": {},
   "outputs": [
    {
     "name": "stdout",
     "output_type": "stream",
     "text": [
      "['2020-10-01T00:00' '2020-10-05T00:00' '2020-10-10T20:00'] datetime64[m]\n"
     ]
    }
   ],
   "source": [
    "c1 = np.array(['2020-10', '2020-10-05', '2020-10-10 20:00'], dtype='datetime64')\n",
    "print(c1, c1.dtype)"
   ]
  },
  {
   "cell_type": "markdown",
   "metadata": {},
   "source": [
    "使用arange()创建datetime64数组，用于生成日期范围"
   ]
  },
  {
   "cell_type": "code",
   "execution_count": 22,
   "metadata": {},
   "outputs": [
    {
     "name": "stdout",
     "output_type": "stream",
     "text": [
      "['2020-08-01' '2020-08-02' '2020-08-03' '2020-08-04' '2020-08-05']\n",
      "datetime64[D]\n"
     ]
    }
   ],
   "source": [
    "a1 = np.arange('2020-08', '2020-08-06', dtype=np.datetime64)\n",
    "print(a1)\n",
    "print(a1.dtype)"
   ]
  },
  {
   "cell_type": "markdown",
   "metadata": {},
   "source": [
    "### datetime64和timedelta64运算"
   ]
  },
  {
   "cell_type": "markdown",
   "metadata": {},
   "source": [
    "timedelta64表示两个datetime64之间的差，timedelta也是带单位的，并且和相减运算中的两个datetime64中较小的单位保持一致。"
   ]
  },
  {
   "cell_type": "code",
   "execution_count": 23,
   "metadata": {},
   "outputs": [
    {
     "name": "stdout",
     "output_type": "stream",
     "text": [
      "1 days timedelta64[D]\n",
      "60 minutes timedelta64[m]\n",
      "1 days timedelta64[D]\n"
     ]
    }
   ],
   "source": [
    "a = np.datetime64('2020-10-08') - np.datetime64('2020-10-07')\n",
    "b = np.datetime64('2020-10-08') - np.datetime64('2020-10-07 23:00')\n",
    "c = np.datetime64('2020-10-08') - np.datetime64('2020-10-07 23:00', 'D')\n",
    "print(a, a.dtype)\n",
    "print(b, b.dtype)\n",
    "print(c, c.dtype)"
   ]
  },
  {
   "cell_type": "code",
   "execution_count": 24,
   "metadata": {},
   "outputs": [
    {
     "name": "stdout",
     "output_type": "stream",
     "text": [
      "2020-10-21 datetime64[D]\n",
      "2020-10-15T12:00 datetime64[m]\n"
     ]
    }
   ],
   "source": [
    "d = np.datetime64('2020-10') + np.timedelta64(20,'D')\n",
    "e = np.datetime64('2020-10-15 00:00') + np.timedelta64(12, 'h')\n",
    "print(d, d.dtype)\n",
    "print(e, e.dtype)"
   ]
  },
  {
   "cell_type": "markdown",
   "metadata": {},
   "source": [
    "生成timedelta64时，年（'Y'）和月('M')这两个单位是无法和其他单位进行运算的。因为一年有几天，一个月有几个小时，这些是不确定的"
   ]
  },
  {
   "cell_type": "code",
   "execution_count": 25,
   "metadata": {},
   "outputs": [
    {
     "name": "stdout",
     "output_type": "stream",
     "text": [
      "1 years\n",
      "12 months\n",
      "1 hours\n",
      "60 minutes\n"
     ]
    }
   ],
   "source": [
    "a = np.timedelta64(1, 'Y')\n",
    "b = np.timedelta64(a, 'M')\n",
    "print(a)\n",
    "print(b)\n",
    "\n",
    "c = np.timedelta64(1, 'h')\n",
    "d = np.timedelta64(c, 'm')\n",
    "print(c)\n",
    "print(d)"
   ]
  },
  {
   "cell_type": "code",
   "execution_count": 26,
   "metadata": {},
   "outputs": [
    {
     "ename": "TypeError",
     "evalue": "Cannot cast NumPy timedelta64 scalar from metadata [Y] to [D] according to the rule 'same_kind'",
     "output_type": "error",
     "traceback": [
      "\u001b[0;31m---------------------------------------------------------------------------\u001b[0m",
      "\u001b[0;31mTypeError\u001b[0m                                 Traceback (most recent call last)",
      "\u001b[0;32m<ipython-input-26-3af0f0bc79cf>\u001b[0m in \u001b[0;36m<module>\u001b[0;34m\u001b[0m\n\u001b[0;32m----> 1\u001b[0;31m \u001b[0mprint\u001b[0m\u001b[0;34m(\u001b[0m\u001b[0mnp\u001b[0m\u001b[0;34m.\u001b[0m\u001b[0mtimedelta64\u001b[0m\u001b[0;34m(\u001b[0m\u001b[0ma\u001b[0m\u001b[0;34m,\u001b[0m \u001b[0;34m'D'\u001b[0m\u001b[0;34m)\u001b[0m\u001b[0;34m)\u001b[0m\u001b[0;34m\u001b[0m\u001b[0;34m\u001b[0m\u001b[0m\n\u001b[0m\u001b[1;32m      2\u001b[0m \u001b[0mprint\u001b[0m\u001b[0;34m(\u001b[0m\u001b[0mnp\u001b[0m\u001b[0;34m.\u001b[0m\u001b[0mtimedelta64\u001b[0m\u001b[0;34m(\u001b[0m\u001b[0mb\u001b[0m\u001b[0;34m,\u001b[0m \u001b[0;34m'D'\u001b[0m\u001b[0;34m)\u001b[0m\u001b[0;34m)\u001b[0m\u001b[0;34m\u001b[0m\u001b[0;34m\u001b[0m\u001b[0m\n",
      "\u001b[0;31mTypeError\u001b[0m: Cannot cast NumPy timedelta64 scalar from metadata [Y] to [D] according to the rule 'same_kind'"
     ]
    }
   ],
   "source": [
    "print(np.timedelta64(a, 'D'))\n",
    "print(np.timedelta64(b, 'D'))"
   ]
  },
  {
   "cell_type": "code",
   "execution_count": 27,
   "metadata": {},
   "outputs": [
    {
     "name": "stdout",
     "output_type": "stream",
     "text": [
      "1 years\n",
      "6 months\n",
      "18 months\n",
      "6 months\n",
      "2 years\n",
      "2.0\n",
      "7.0\n",
      "7 days\n"
     ]
    }
   ],
   "source": [
    "a = np.timedelta64(1,'Y')\n",
    "b = np.timedelta64(6,'M')\n",
    "c = np.timedelta64(1,'W')\n",
    "d = np.timedelta64(1,'D')\n",
    "e = np.timedelta64(10,'D')\n",
    "\n",
    "print(a)\n",
    "print(b)\n",
    "print(a + b)\n",
    "print(a - b)\n",
    "print(2 * a)\n",
    "print(a / b)\n",
    "print(c / d)\n",
    "print(c % e)"
   ]
  },
  {
   "cell_type": "markdown",
   "metadata": {},
   "source": [
    "numpy.datetime64和datetime.datetime相互转换"
   ]
  },
  {
   "cell_type": "code",
   "execution_count": 28,
   "metadata": {},
   "outputs": [
    {
     "name": "stdout",
     "output_type": "stream",
     "text": [
      "2020-10-01T20:05:30 datetime64[s]\n",
      "2020-10-01 20:05:30 <class 'datetime.datetime'>\n"
     ]
    }
   ],
   "source": [
    "import datetime\n",
    "dt = datetime.datetime(year=2020, month=10, day=1, hour=20, minute=5,second=30)\n",
    "dt64 = np.datetime64(dt, 's')\n",
    "print(dt64, dt64.dtype)\n",
    "\n",
    "dt2 = dt64.astype(datetime.datetime)\n",
    "print(dt2, type(dt2))"
   ]
  },
  {
   "cell_type": "markdown",
   "metadata": {},
   "source": [
    "### datetime64的应用"
   ]
  },
  {
   "cell_type": "code",
   "execution_count": 31,
   "metadata": {},
   "outputs": [
    {
     "name": "stdout",
     "output_type": "stream",
     "text": [
      "2020-10-19\n"
     ]
    }
   ],
   "source": [
    "import numpy as np\n",
    "a = np.busday_offset('2020-10-16', offsets=1)\n",
    "print(a)"
   ]
  },
  {
   "cell_type": "code",
   "execution_count": 32,
   "metadata": {},
   "outputs": [
    {
     "ename": "ValueError",
     "evalue": "Non-business day date in busday_offset",
     "output_type": "error",
     "traceback": [
      "\u001b[0;31m---------------------------------------------------------------------------\u001b[0m",
      "\u001b[0;31mValueError\u001b[0m                                Traceback (most recent call last)",
      "\u001b[0;32m<ipython-input-32-77f83fc9642b>\u001b[0m in \u001b[0;36m<module>\u001b[0;34m\u001b[0m\n\u001b[0;32m----> 1\u001b[0;31m \u001b[0mb\u001b[0m \u001b[0;34m=\u001b[0m \u001b[0mnp\u001b[0m\u001b[0;34m.\u001b[0m\u001b[0mbusday_offset\u001b[0m\u001b[0;34m(\u001b[0m\u001b[0;34m'2020-10-17'\u001b[0m\u001b[0;34m,\u001b[0m \u001b[0moffsets\u001b[0m\u001b[0;34m=\u001b[0m\u001b[0;36m1\u001b[0m\u001b[0;34m)\u001b[0m\u001b[0;34m\u001b[0m\u001b[0;34m\u001b[0m\u001b[0m\n\u001b[0m\u001b[1;32m      2\u001b[0m \u001b[0mprint\u001b[0m\u001b[0;34m(\u001b[0m\u001b[0mb\u001b[0m\u001b[0;34m)\u001b[0m\u001b[0;34m\u001b[0m\u001b[0;34m\u001b[0m\u001b[0m\n",
      "\u001b[0;32m<__array_function__ internals>\u001b[0m in \u001b[0;36mbusday_offset\u001b[0;34m(*args, **kwargs)\u001b[0m\n",
      "\u001b[0;31mValueError\u001b[0m: Non-business day date in busday_offset"
     ]
    }
   ],
   "source": [
    "b = np.busday_offset('2020-10-17', offsets=1)\n",
    "print(b)"
   ]
  },
  {
   "cell_type": "code",
   "execution_count": 34,
   "metadata": {},
   "outputs": [
    {
     "name": "stdout",
     "output_type": "stream",
     "text": [
      "2020-10-19\n",
      "2020-10-16\n"
     ]
    }
   ],
   "source": [
    "a = np.busday_offset('2020-10-17', offsets=0, roll='forward')\n",
    "b = np.busday_offset('2020-10-17', offsets=0, roll='backward')\n",
    "print(a)\n",
    "print(b)"
   ]
  },
  {
   "cell_type": "code",
   "execution_count": 36,
   "metadata": {},
   "outputs": [
    {
     "name": "stdout",
     "output_type": "stream",
     "text": [
      "True\n",
      "False\n"
     ]
    }
   ],
   "source": [
    "a = np.is_busday('2020-07-10')\n",
    "b = np.is_busday('2020-07-11')\n",
    "print(a)\n",
    "print(b)"
   ]
  },
  {
   "cell_type": "code",
   "execution_count": 39,
   "metadata": {},
   "outputs": [
    {
     "name": "stdout",
     "output_type": "stream",
     "text": [
      "['2020-07-10' '2020-07-11' '2020-07-12' '2020-07-13' '2020-07-14'\n",
      " '2020-07-15' '2020-07-16' '2020-07-17' '2020-07-18' '2020-07-19']\n",
      "6\n",
      "6\n"
     ]
    }
   ],
   "source": [
    "start = np.datetime64('2020-07-10')\n",
    "end = np.datetime64('2020-07-20')\n",
    "a = np.arange(start, end, dtype='datetime64')\n",
    "b1 = np.count_nonzero(np.is_busday(a))\n",
    "b2 = np.busday_count(start, end)\n",
    "print(a)\n",
    "print(b1)\n",
    "print(b2)"
   ]
  },
  {
   "cell_type": "markdown",
   "metadata": {},
   "source": [
    "## 4. 数组\n",
    "\n",
    "### 1）根据现有数据来创建ndarray"
   ]
  },
  {
   "cell_type": "markdown",
   "metadata": {},
   "source": [
    "### 通过array() 函数进行创建"
   ]
  },
  {
   "cell_type": "code",
   "execution_count": 2,
   "metadata": {},
   "outputs": [
    {
     "name": "stdout",
     "output_type": "stream",
     "text": [
      "[0 1 2 3 4] <class 'numpy.ndarray'>\n",
      "[[0 2 4]] <class 'numpy.ndarray'>\n"
     ]
    }
   ],
   "source": [
    "import numpy as np\n",
    "a = np.array([0, 1, 2, 3, 4])\n",
    "b = np.array([[0, 2, 4]])\n",
    "print(a, type(a))\n",
    "print(b, type(b))"
   ]
  },
  {
   "cell_type": "markdown",
   "metadata": {},
   "source": [
    "### 通过asarray()函数进行创建"
   ]
  },
  {
   "cell_type": "markdown",
   "metadata": {},
   "source": [
    "array()和asarray()都可以将结构数据转化为 ndarray，但是array()和asarray()主要区别就是当数据源是ndarray 时，array()仍然会 copy 出一个副本，占用新的内存，但不改变 dtype 时 asarray()不会。"
   ]
  },
  {
   "cell_type": "code",
   "execution_count": 3,
   "metadata": {},
   "outputs": [
    {
     "name": "stdout",
     "output_type": "stream",
     "text": [
      "[[1, 1, 1], [1, 1, 2], [1, 1, 1]] <class 'list'>\n",
      "[[1 1 1]\n",
      " [1 1 1]\n",
      " [1 1 1]] <class 'numpy.ndarray'>\n",
      "[[1 1 1]\n",
      " [1 1 1]\n",
      " [1 1 1]] <class 'numpy.ndarray'>\n"
     ]
    }
   ],
   "source": [
    "import numpy as np\n",
    "\n",
    "x = [[1, 1, 1], [1, 1, 1], [1, 1, 1]]\n",
    "y = np.array(x)\n",
    "z = np.asarray(x)\n",
    "x[1][2] = 2\n",
    "print(x,type(x))\n",
    "print(y,type(y))\n",
    "print(z,type(z))"
   ]
  },
  {
   "cell_type": "code",
   "execution_count": 5,
   "metadata": {},
   "outputs": [
    {
     "name": "stdout",
     "output_type": "stream",
     "text": [
      "[[1 1 1]\n",
      " [1 1 2]\n",
      " [1 1 1]] <class 'numpy.ndarray'> int64\n",
      "[[1 1 1]\n",
      " [1 1 1]\n",
      " [1 1 1]] <class 'numpy.ndarray'> int64\n",
      "[[1 1 1]\n",
      " [1 1 2]\n",
      " [1 1 1]] <class 'numpy.ndarray'> int64\n"
     ]
    }
   ],
   "source": [
    "import numpy as np\n",
    "\n",
    "x = np.array([[1, 1, 1], [1, 1, 1], [1, 1, 1]])\n",
    "y = np.array(x)\n",
    "z = np.asarray(x)\n",
    "w = np.asarray(x, dtype=np.int)\n",
    "x[1][2] = 2\n",
    "print(x,type(x),x.dtype)\n",
    "\n",
    "print(y,type(y),y.dtype)\n",
    "\n",
    "print(z,type(z),z.dtype)\n",
    "\n",
    "print(w,type(w),w.dtype)\n"
   ]
  },
  {
   "cell_type": "markdown",
   "metadata": {},
   "source": [
    "### 通过fromfunction()函数进行创建"
   ]
  },
  {
   "cell_type": "code",
   "execution_count": 6,
   "metadata": {},
   "outputs": [
    {
     "name": "stdout",
     "output_type": "stream",
     "text": [
      "[[ 0  1  2  3]\n",
      " [10 11 12 13]\n",
      " [20 21 22 23]\n",
      " [30 31 32 33]\n",
      " [40 41 42 43]]\n",
      "[[ True False False]\n",
      " [False  True False]\n",
      " [False False  True]]\n"
     ]
    }
   ],
   "source": [
    "import numpy as np\n",
    "\n",
    "def f(x, y):\n",
    "    return 10 * x + y\n",
    "x1 = np.fromfunction(f, (5, 4), dtype=int)\n",
    "print(x1)\n",
    "\n",
    "x2 = np.fromfunction(lambda i, j: i == j, (3, 3), dtype=int)\n",
    "print(x2)"
   ]
  },
  {
   "cell_type": "markdown",
   "metadata": {},
   "source": [
    "### 2）根据 ones 和 zeros填充方式来创建"
   ]
  },
  {
   "cell_type": "markdown",
   "metadata": {},
   "source": [
    "zeros()函数：返回给定形状和类型的零数组\n",
    "\n",
    "zeros_like()函数： 返回与给定数组形状和类型相同的零数组\n",
    "\n",
    "ones()函数： 返回给定形状和类型的1数组\n",
    "\n",
    "ones_like()函数： 返回与给定数组形状和类型相同的1数组"
   ]
  },
  {
   "cell_type": "code",
   "execution_count": 9,
   "metadata": {},
   "outputs": [
    {
     "name": "stdout",
     "output_type": "stream",
     "text": [
      "[0. 0. 0. 0. 0.]\n",
      "[[0. 0. 0.]\n",
      " [0. 0. 0.]]\n",
      "[[0 0 0]\n",
      " [0 0 0]]\n"
     ]
    }
   ],
   "source": [
    "x1 = np.zeros(5)\n",
    "print(x1)\n",
    "\n",
    "x2 = np.zeros([2, 3])\n",
    "print(x2)\n",
    "\n",
    "x3 = np.array([[1, 2, 3], [4, 5, 6]])\n",
    "y = np.zeros_like(x3)\n",
    "print(y)"
   ]
  },
  {
   "cell_type": "markdown",
   "metadata": {},
   "source": [
    "empty()函数： 返回一个空数组，数组元素为随机数\n",
    "\n",
    "empty_like()函数： 返回与给定数组形状和类型相同的新数组"
   ]
  },
  {
   "cell_type": "code",
   "execution_count": 15,
   "metadata": {},
   "outputs": [
    {
     "name": "stdout",
     "output_type": "stream",
     "text": [
      "[1.28822975e-231 1.28822975e-231 6.08419698e-310 2.24371118e-314\n",
      " 1.00126704e-089 8.40835455e-315 0.00000000e+000 5.49839763e-315\n",
      " 0.00000000e+000 6.95335581e-309]\n",
      "[[1. 0.]\n",
      " [0. 0.]\n",
      " [1. 0.]]\n",
      "[[0 0 0]\n",
      " [0 0 0]]\n"
     ]
    }
   ],
   "source": [
    "x1 = np.empty(10)\n",
    "print(x1)\n",
    "\n",
    "x2 = np.empty((3, 2))\n",
    "print(x2)\n",
    "\n",
    "x3 = np.array([[1, 2, 3], [4, 5, 6]])\n",
    "y = np.empty_like(x3)\n",
    "print(y)"
   ]
  },
  {
   "cell_type": "markdown",
   "metadata": {},
   "source": [
    "eye()函数:  返回一个对角线上为1， 其他地方为0的单位数组\n",
    "\n",
    "identity():  返回一个方的单位数组"
   ]
  },
  {
   "cell_type": "code",
   "execution_count": 13,
   "metadata": {},
   "outputs": [
    {
     "name": "stdout",
     "output_type": "stream",
     "text": [
      "[[1. 0. 0. 0.]\n",
      " [0. 1. 0. 0.]\n",
      " [0. 0. 1. 0.]\n",
      " [0. 0. 0. 1.]]\n",
      "[[1. 0. 0.]\n",
      " [0. 1. 0.]]\n",
      "[[1. 0. 0. 0.]\n",
      " [0. 1. 0. 0.]\n",
      " [0. 0. 1. 0.]\n",
      " [0. 0. 0. 1.]]\n"
     ]
    }
   ],
   "source": [
    "import numpy as np \n",
    "x1 = np.eye(4)\n",
    "print(x1)\n",
    "\n",
    "x2 = np.eye(2, 3)\n",
    "print(x2)\n",
    "\n",
    "x3 = np.identity(4)\n",
    "print(x3)"
   ]
  },
  {
   "cell_type": "code",
   "execution_count": 16,
   "metadata": {},
   "outputs": [
    {
     "name": "stdout",
     "output_type": "stream",
     "text": [
      "[[0 1 2]\n",
      " [3 4 5]\n",
      " [6 7 8]]\n",
      "[0 4 8]\n",
      "[1 5]\n",
      "[3 7]\n"
     ]
    }
   ],
   "source": [
    "# diag()函数： 提取对角线或者构造对角数组\n",
    "x = np.arange(9).reshape((3, 3))\n",
    "print(x)\n",
    "\n",
    "print(np.diag(x))\n",
    "print(np.diag(x, k=1))   # 右上角\n",
    "print(np.diag(x, k=-1)) # 左下角"
   ]
  },
  {
   "cell_type": "code",
   "execution_count": 17,
   "metadata": {},
   "outputs": [
    {
     "name": "stdout",
     "output_type": "stream",
     "text": [
      "[[1 0 0 0]\n",
      " [0 2 0 0]\n",
      " [0 0 3 0]\n",
      " [0 0 0 4]]\n"
     ]
    }
   ],
   "source": [
    "v = [1, 2, 3, 4]\n",
    "x = np.diag(v)\n",
    "print(x)"
   ]
  },
  {
   "cell_type": "markdown",
   "metadata": {},
   "source": [
    "full()函数：返回一个常数数组\n",
    "\n",
    "full_like()函数：返回与给定数组具有相同形状和类型的常数数组"
   ]
  },
  {
   "cell_type": "code",
   "execution_count": 19,
   "metadata": {},
   "outputs": [
    {
     "name": "stdout",
     "output_type": "stream",
     "text": [
      "[7 7]\n",
      "[7 7]\n",
      "[[7 7 7]\n",
      " [7 7 7]]\n"
     ]
    }
   ],
   "source": [
    "import numpy as np\n",
    "x1 = np.full((2, ), 7)\n",
    "print(x1)\n",
    "\n",
    "x2 = np.full(2, 7)\n",
    "print(x2)\n",
    "\n",
    "x3 = np.array([[1, 2, 3], [6, 7, 8]])\n",
    "y = np.full_like(x3, 7)\n",
    "print(y)"
   ]
  },
  {
   "cell_type": "markdown",
   "metadata": {},
   "source": [
    "### 3) 用数值范围来创建ndarray\n",
    "\n",
    "arange()函数：返回给定间隔内的均匀间隔的值\n",
    "\n",
    "linspace()函数：返回指定间隔内的等间隔数字\n",
    "\n",
    "logspace()函数：返回数以对数刻度均匀分布\n",
    "\n",
    "numpy.random.random()：返回一个由【0，1】内的随机数组成的数组\n"
   ]
  },
  {
   "cell_type": "code",
   "execution_count": 22,
   "metadata": {},
   "outputs": [
    {
     "name": "stdout",
     "output_type": "stream",
     "text": [
      "[3 5]\n",
      "[0.  0.6 1.2 1.8 2.4 3. ]\n",
      "[  0.1   1.   10.  100. ]\n"
     ]
    }
   ],
   "source": [
    "x1 = np.arange(3, 7, 2)\n",
    "print(x1)\n",
    "\n",
    "x2 = np.linspace(start=0, stop=3, num=6)\n",
    "print(x2)\n",
    "\n",
    "x3 = np.logspace(-1, 2, 4)\n",
    "print(x3)"
   ]
  },
  {
   "cell_type": "code",
   "execution_count": 23,
   "metadata": {},
   "outputs": [
    {
     "name": "stdout",
     "output_type": "stream",
     "text": [
      "[[0.49357435 0.84817721 0.81659682]\n",
      " [0.17686791 0.32069319 0.34159244]]\n"
     ]
    }
   ],
   "source": [
    "x4 = np.random.random([2, 3])\n",
    "print(x4)"
   ]
  },
  {
   "cell_type": "code",
   "execution_count": 26,
   "metadata": {},
   "outputs": [
    {
     "name": "stdout",
     "output_type": "stream",
     "text": [
      "[['LiMing' '24' '63.9']\n",
      " ['Mike' '15' '67.0']\n",
      " ['Duo' '34' '45.8']] <class 'numpy.ndarray'>\n"
     ]
    }
   ],
   "source": [
    "a = np.array([('LiMing', 24, 63.9), ('Mike', 15, 67.), ('Duo', 34, 45.8)])\n",
    "print(a, type(a))"
   ]
  },
  {
   "cell_type": "markdown",
   "metadata": {},
   "source": [
    "### 4) 结构数组的创建\n",
    "利用字典来定义结构"
   ]
  },
  {
   "cell_type": "code",
   "execution_count": 31,
   "metadata": {},
   "outputs": [
    {
     "name": "stdout",
     "output_type": "stream",
     "text": [
      "[('LiMing', 24, 63.9) ('Mike', 15, 67. ) ('Duo', 34, 45.8)] <class 'numpy.ndarray'>\n"
     ]
    }
   ],
   "source": [
    "personType = np.dtype({\n",
    "    'names': ['name', 'age', 'weight'],\n",
    "    'formats': ['U30', 'i8', 'f8']})\n",
    "\n",
    "a = np.array([('LiMing', 24, 63.9), ('Mike', 15, 67.), ('Duo', 34, 45.8)], dtype=personType)\n",
    "print(a, type(a))"
   ]
  },
  {
   "cell_type": "code",
   "execution_count": 34,
   "metadata": {},
   "outputs": [
    {
     "name": "stdout",
     "output_type": "stream",
     "text": [
      "('LiMing', 24, 63.9)\n",
      "[('Mike', 15, 67. ) ('Duo', 34, 45.8)]\n"
     ]
    }
   ],
   "source": [
    "print(a[0])\n",
    "print(a[-2:])"
   ]
  },
  {
   "cell_type": "code",
   "execution_count": 35,
   "metadata": {},
   "outputs": [
    {
     "name": "stdout",
     "output_type": "stream",
     "text": [
      "['LiMing' 'Mike' 'Duo']\n",
      "[24 15 34]\n"
     ]
    }
   ],
   "source": [
    "print(a['name'])\n",
    "print(a['age'])"
   ]
  },
  {
   "cell_type": "markdown",
   "metadata": {},
   "source": [
    "### 5) 数组的属性\n",
    "\n",
    "numpy.ndarray.ndim用于返回数组的维数（轴的个数）也称为秩，一维数组的秩为 1，二维数组的秩为 2，以此类推。\n",
    "\n",
    "numpy.ndarray.shape表示数组的维度，返回一个元组，这个元组的长度就是维度的数目，即 ndim 属性(秩)。\n",
    "\n",
    "numpy.ndarray.size数组中所有元素的总量，相当于数组的shape中所有元素的乘积，例如矩阵的元素总量为行与列的乘积。\n",
    "\n",
    "numpy.ndarray.dtype ndarray 对象的元素类型。\n",
    "\n",
    "numpy.ndarray.itemsize以字节的形式返回数组中每一个元素的大小。\n"
   ]
  },
  {
   "cell_type": "code",
   "execution_count": 36,
   "metadata": {},
   "outputs": [
    {
     "name": "stdout",
     "output_type": "stream",
     "text": [
      "(2, 3)\n",
      "float64\n",
      "6\n",
      "2\n",
      "8\n"
     ]
    }
   ],
   "source": [
    "## 在ndarray中所有元素必须是同一类型，否则会自动向下转换，int->float->str。\n",
    "\n",
    "b = np.array([[1, 2, 3], [4, 5, 6.0]])\n",
    "print(b.shape) \n",
    "print(b.dtype) \n",
    "print(b.size)\n",
    "print(b.ndim)\n",
    "print(b.itemsize)"
   ]
  },
  {
   "cell_type": "code",
   "execution_count": null,
   "metadata": {},
   "outputs": [],
   "source": []
  }
 ],
 "metadata": {
  "kernelspec": {
   "display_name": "Python 3",
   "language": "python",
   "name": "python3"
  },
  "language_info": {
   "codemirror_mode": {
    "name": "ipython",
    "version": 3
   },
   "file_extension": ".py",
   "mimetype": "text/x-python",
   "name": "python",
   "nbconvert_exporter": "python",
   "pygments_lexer": "ipython3",
   "version": "3.7.4"
  }
 },
 "nbformat": 4,
 "nbformat_minor": 2
}
