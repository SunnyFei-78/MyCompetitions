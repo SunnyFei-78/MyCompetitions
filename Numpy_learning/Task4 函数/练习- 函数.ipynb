{
 "cells": [
  {
   "cell_type": "markdown",
   "metadata": {},
   "source": [
    "# 数学函数"
   ]
  },
  {
   "cell_type": "markdown",
   "metadata": {},
   "source": [
    "**1. 将数组a中大于30的值替换为30，小于10的值替换为10。**\n",
    "\n",
    "- `a = np.random.uniform(1, 50, 20)`"
   ]
  },
  {
   "cell_type": "code",
   "execution_count": 9,
   "metadata": {},
   "outputs": [
    {
     "name": "stdout",
     "output_type": "stream",
     "text": [
      "[49.32756461 43.79620535 25.97753072 14.31995    17.50901766 11.63075899\n",
      " 14.54738001 17.82246405 43.24578784  8.67828383  7.903475   38.09693375\n",
      " 37.07992099 18.42749149 17.71355781 33.67334948 11.6379313  28.50992214\n",
      "  7.08476011 16.66708774]\n"
     ]
    }
   ],
   "source": [
    "import numpy as np\n",
    "np.random.seed(2020)\n",
    "a = np.random.uniform(1, 50, 20)\n",
    "print(a)"
   ]
  },
  {
   "cell_type": "code",
   "execution_count": 10,
   "metadata": {},
   "outputs": [
    {
     "name": "stdout",
     "output_type": "stream",
     "text": [
      "[30.         30.         25.97753072 14.31995    17.50901766 11.63075899\n",
      " 14.54738001 17.82246405 30.         10.         10.         30.\n",
      " 30.         18.42749149 17.71355781 30.         11.6379313  28.50992214\n",
      " 10.         16.66708774]\n"
     ]
    }
   ],
   "source": [
    "# 方法一：\n",
    "y = np.clip(a, a_min=10, a_max=30)\n",
    "print(y)"
   ]
  },
  {
   "cell_type": "code",
   "execution_count": 11,
   "metadata": {},
   "outputs": [
    {
     "name": "stdout",
     "output_type": "stream",
     "text": [
      "[30.         30.         25.97753072 14.31995    17.50901766 11.63075899\n",
      " 14.54738001 17.82246405 30.         10.         10.         30.\n",
      " 30.         18.42749149 17.71355781 30.         11.6379313  28.50992214\n",
      " 10.         16.66708774]\n"
     ]
    }
   ],
   "source": [
    "# 方法二：\n",
    "y = np.where(a < 10, 10, a)\n",
    "y = np.where(y > 30, 30, y)\n",
    "print(y)"
   ]
  },
  {
   "cell_type": "markdown",
   "metadata": {},
   "source": [
    "**2. 找到一个一维数字数组a中的所有峰值。峰顶是两边被较小数值包围的点。**\n",
    "\n",
    "- `a = np.array([1, 3, 7, 1, 2, 6, 0, 1])`"
   ]
  },
  {
   "cell_type": "code",
   "execution_count": 15,
   "metadata": {},
   "outputs": [
    {
     "name": "stdout",
     "output_type": "stream",
     "text": [
      "[ 2  4 -6  1  4 -6  1]\n",
      "********************\n",
      "[ 1  1 -1  1  1 -1  1]\n"
     ]
    }
   ],
   "source": [
    "a = np.array([1, 3, 7, 1, 2, 6, 0, 1])\n",
    "b1 = np.diff(a)\n",
    "b2 = np.sign(b1)\n",
    "print(b1)\n",
    "print('*'*20)\n",
    "print(b2)"
   ]
  },
  {
   "cell_type": "code",
   "execution_count": 18,
   "metadata": {},
   "outputs": [
    {
     "name": "stdout",
     "output_type": "stream",
     "text": [
      "[ 0 -2  2  0 -2  2]\n",
      "[2 5]\n"
     ]
    }
   ],
   "source": [
    "b3 = np.diff(b2)\n",
    "print(b3)\n",
    "index = np.where(np.equal(np.diff(b2), -2))[0] + 1\n",
    "print(index)"
   ]
  },
  {
   "cell_type": "markdown",
   "metadata": {},
   "source": [
    "**3. 对于给定的一维数组，计算窗口大小为3的移动平均值。**\n",
    "\n",
    "- `z = np.random.randint(10, size=10)`"
   ]
  },
  {
   "cell_type": "code",
   "execution_count": 28,
   "metadata": {},
   "outputs": [
    {
     "name": "stdout",
     "output_type": "stream",
     "text": [
      "[0 8 3 6 3 3 7 8 0 0]\n",
      "[3.67 5.67 4.   4.   4.33 6.   5.   2.67]\n"
     ]
    }
   ],
   "source": [
    "np.random.seed(2020)\n",
    "x = np.random.randint(10, size=10)\n",
    "print(x)\n",
    "\n",
    "def MovingAverage(arr, n=3):\n",
    "    a = np.cumsum(arr)\n",
    "    a[n:] = a[n:] - a[:-n]\n",
    "    return a[n - 1:] / n\n",
    "\n",
    "ans = MovingAverage(x, 3)\n",
    "print(np.around(ans, 2))\n"
   ]
  },
  {
   "cell_type": "markdown",
   "metadata": {},
   "source": [
    "**4. 对一个5x5的随机矩阵做归一化**"
   ]
  },
  {
   "cell_type": "code",
   "execution_count": 29,
   "metadata": {},
   "outputs": [
    {
     "data": {
      "text/plain": [
       "array([[0.99803373, 0.849832  , 0.49232009, 0.68702331, 0.90827089],\n",
       "       [0.18119558, 0.58436325, 0.09281042, 0.71282338, 0.46873662],\n",
       "       [0.48092325, 0.02004476, 0.41216445, 0.50205984, 0.3550562 ],\n",
       "       [0.3862494 , 0.15672188, 0.40597552, 0.27212605, 0.81612241],\n",
       "       [0.18040797, 0.04298562, 0.81831177, 0.70022645, 0.71843269]])"
      ]
     },
     "execution_count": 29,
     "metadata": {},
     "output_type": "execute_result"
    }
   ],
   "source": [
    "x = np.random.rand(5,5)\n",
    "x_max, x_min = x.max(), x.min()\n",
    "x = (x - x_min) / (x_max - x_min)\n"
   ]
  },
  {
   "cell_type": "markdown",
   "metadata": {},
   "source": [
    "**5. 用五种不同的方法去提取一个随机数组的整数部分**"
   ]
  },
  {
   "cell_type": "code",
   "execution_count": 30,
   "metadata": {},
   "outputs": [
    {
     "name": "stdout",
     "output_type": "stream",
     "text": [
      "[7.25433546 8.04065238 4.65983144 3.35053017 9.35915415 4.44671785\n",
      " 1.11047478 5.3702586  3.25799349 8.65195355]\n"
     ]
    }
   ],
   "source": [
    "x = np.random.uniform(0, 10, 10)\n",
    "print(x)"
   ]
  },
  {
   "cell_type": "code",
   "execution_count": 35,
   "metadata": {},
   "outputs": [
    {
     "name": "stdout",
     "output_type": "stream",
     "text": [
      "[7. 8. 4. 3. 9. 4. 1. 5. 3. 8.]\n",
      "[7. 8. 4. 3. 9. 4. 1. 5. 3. 8.]\n",
      "[7. 8. 4. 3. 9. 4. 1. 5. 3. 8.]\n",
      "[7 8 4 3 9 4 1 5 3 8]\n",
      "[7. 8. 4. 3. 9. 4. 1. 5. 3. 8.]\n"
     ]
    }
   ],
   "source": [
    "print(np.ceil(x)-1)\n",
    "print(np.floor(x))\n",
    "print(np.trunc(x))\n",
    "print(x.astype(int))\n",
    "print(x - x %1) # 思路很特别"
   ]
  },
  {
   "cell_type": "code",
   "execution_count": 34,
   "metadata": {},
   "outputs": [
    {
     "data": {
      "text/plain": [
       "array([0.25433546, 0.04065238, 0.65983144, 0.35053017, 0.35915415,\n",
       "       0.44671785, 0.11047478, 0.3702586 , 0.25799349, 0.65195355])"
      ]
     },
     "execution_count": 34,
     "metadata": {},
     "output_type": "execute_result"
    }
   ],
   "source": [
    "x%1"
   ]
  },
  {
   "cell_type": "markdown",
   "metadata": {},
   "source": [
    "**6. 画正弦函数和余弦函数**\n",
    "\n",
    "- x = np.arange(0, 3 * np.pi, 0.1)"
   ]
  },
  {
   "cell_type": "code",
   "execution_count": 40,
   "metadata": {},
   "outputs": [
    {
     "name": "stdout",
     "output_type": "stream",
     "text": [
      "(95,)\n"
     ]
    },
    {
     "data": {
      "image/png": "[encoded data removed]",
      "text/plain": [
       "<Figure size 432x288 with 1 Axes>"
      ]
     },
     "metadata": {
      "needs_background": "light"
     },
     "output_type": "display_data"
    }
   ],
   "source": [
    "import numpy as np\n",
    "from matplotlib import pyplot as plt\n",
    "\n",
    "x = np.arange(0, 3 * np.pi, 0.1)\n",
    "print(x.shape)\n",
    "plt.plot(x, np.sin(x))\n",
    "plt.plot(x, np.cos(x))\n",
    "plt.show()"
   ]
  },
  {
   "cell_type": "markdown",
   "metadata": {},
   "source": [
    "**7. 减去矩阵每一行的平均值**"
   ]
  },
  {
   "cell_type": "code",
   "execution_count": 45,
   "metadata": {},
   "outputs": [
    {
     "name": "stdout",
     "output_type": "stream",
     "text": [
      "[[-0.13391144  0.00718104 -0.06540508  0.07860965 -0.16568421 -0.14630428\n",
      "   0.32344743 -0.54076293  0.34557347  0.29725636]\n",
      " [-0.25932392 -0.07009981  0.61044092  0.13942487  0.10447591  0.28113505\n",
      "  -0.09115085 -0.23002879 -0.24138597 -0.24348742]\n",
      " [-0.48557838  0.11294794 -0.04389788  0.38298506  0.47032087  0.25521584\n",
      "  -0.42551531  0.28004886 -0.28775879 -0.25876822]\n",
      " [-0.25525486  0.16963679  0.14632471 -0.29051155 -0.12048318  0.48227179\n",
      "  -0.01149225 -0.02624736 -0.13038231  0.03613823]\n",
      " [-0.31592397 -0.25628496 -0.21830806 -0.3834228   0.23209192  0.51385695\n",
      "  -0.44801824  0.17601131  0.48156747  0.21843038]]\n"
     ]
    }
   ],
   "source": [
    "x = np.random.rand(5, 10)\n",
    "x_mean = x.mean(axis=1, keepdims=True)\n",
    "# 或者 x_mean = x.mean(axis=1).reshape(-1,1)\n",
    "y = x - x_mean\n",
    "print(y)\n"
   ]
  },
  {
   "cell_type": "code",
   "execution_count": 47,
   "metadata": {},
   "outputs": [
    {
     "data": {
      "text/plain": [
       "(5, 1)"
      ]
     },
     "execution_count": 47,
     "metadata": {},
     "output_type": "execute_result"
    }
   ],
   "source": [
    "x_mean.shape"
   ]
  },
  {
   "cell_type": "code",
   "execution_count": 46,
   "metadata": {},
   "outputs": [
    {
     "data": {
      "text/plain": [
       "array([[0.61467166],\n",
       "       [0.35542852],\n",
       "       [0.48860854],\n",
       "       [0.35117769],\n",
       "       [0.46407958]])"
      ]
     },
     "execution_count": 46,
     "metadata": {},
     "output_type": "execute_result"
    }
   ],
   "source": [
    "x.mean(axis=1).reshape(-1,1)"
   ]
  },
  {
   "cell_type": "markdown",
   "metadata": {},
   "source": [
    "**8. 进行概率统计分析 ？**\n",
    "- `arr1 = np.random.randint(1,10,10)\n",
    "arr2 = np.random.randint(1,10,10))`\n",
    "\n",
    "### 协方差矩阵：np.cov()\n",
    "### 相关性矩阵：np.corrcoef()"
   ]
  },
  {
   "cell_type": "code",
   "execution_count": 48,
   "metadata": {},
   "outputs": [
    {
     "data": {
      "text/plain": [
       "array([3, 4, 3, 6, 6, 6, 2, 1, 5, 4])"
      ]
     },
     "execution_count": 48,
     "metadata": {},
     "output_type": "execute_result"
    }
   ],
   "source": [
    "x1 = np.random.randint(1,10,10)\n",
    "x2 = np.random.randint(1,10,10)\n",
    "x1"
   ]
  },
  {
   "cell_type": "code",
   "execution_count": 49,
   "metadata": {},
   "outputs": [
    {
     "data": {
      "text/plain": [
       "array([6, 4, 5, 5, 9, 5, 7, 9, 2, 9])"
      ]
     },
     "execution_count": 49,
     "metadata": {},
     "output_type": "execute_result"
    }
   ],
   "source": [
    "x2"
   ]
  },
  {
   "cell_type": "code",
   "execution_count": 50,
   "metadata": {},
   "outputs": [
    {
     "name": "stdout",
     "output_type": "stream",
     "text": [
      "x1的平均数为：4.0\n",
      "x1的中位数为：4.0\n",
      "x1的方差为：2.8\n",
      "x1的标准差为：1.6733200530681511\n",
      "x1和x2的相关性矩阵是：[[ 3.11111111 -1.33333333]\n",
      " [-1.33333333  5.65555556]]\n",
      "x1和x2的协方差矩阵是：[[ 1.         -0.31786546]\n",
      " [-0.31786546  1.        ]]\n"
     ]
    }
   ],
   "source": [
    "print('x1的平均数为：%s' % np.mean(x1))\n",
    "print('x1的中位数为：%s' % np.median(x1))\n",
    "print('x1的方差为：%s' % np.var(x1))\n",
    "print('x1的标准差为：%s' % np.std(x1))\n",
    "print('x1和x2的相关性矩阵是：%s' % np.cov(x1,x2))\n",
    "print('x1和x2的协方差矩阵是：%s' % np.corrcoef(x1,x2))"
   ]
  },
  {
   "cell_type": "markdown",
   "metadata": {},
   "source": [
    "# 逻辑函数"
   ]
  },
  {
   "cell_type": "markdown",
   "metadata": {},
   "source": [
    "**9. 获取a和b元素匹配的位置。**\n",
    "- `a = np.array([1, 2, 3, 2, 3, 4, 3, 4, 5, 6])`\n",
    "- `b = np.array([7, 2, 10, 2, 7, 4, 9, 4, 9, 8])`"
   ]
  },
  {
   "cell_type": "code",
   "execution_count": 55,
   "metadata": {},
   "outputs": [
    {
     "name": "stdout",
     "output_type": "stream",
     "text": [
      "[False  True False  True False  True False  True False False]\n",
      "(array([1, 3, 5, 7]),)\n",
      "(array([1, 3, 5, 7]),)\n"
     ]
    }
   ],
   "source": [
    "a = np.array([1, 2, 3, 2, 3, 4, 3, 4, 5, 6])\n",
    "b = np.array([7, 2, 10, 2, 7, 4, 9, 4, 9, 8])\n",
    "m = np.equal(a,b)\n",
    "print(m)\n",
    "\n",
    "# 方法一\n",
    "print(np.where(m))\n",
    "\n",
    "# 方法二\n",
    "print(np.nonzero(m))"
   ]
  },
  {
   "cell_type": "markdown",
   "metadata": {},
   "source": [
    "**10. 获取5到10 之间的所有元素。**\n",
    "- `a = np.array([2, 6, 1, 9, 10, 3, 27])`"
   ]
  },
  {
   "cell_type": "code",
   "execution_count": 57,
   "metadata": {},
   "outputs": [
    {
     "name": "stdout",
     "output_type": "stream",
     "text": [
      "[ 6  9 10]\n",
      "[ 6  9 10]\n",
      "[ 6  9 10]\n"
     ]
    }
   ],
   "source": [
    "a = np.array([2, 6, 1, 9, 10, 3, 27])\n",
    "\n",
    "# 方法一\n",
    "b = np.logical_and(a>=5, a<=10)\n",
    "print(a[b])\n",
    "\n",
    "# 方法二\n",
    "m = np.less_equal(a, 10)\n",
    "n = np.greater_equal(a, 5)\n",
    "b = np.logical_and(n,m)\n",
    "index = np.where(b)\n",
    "print(a[index])\n",
    "\n",
    "# 方法三\n",
    "index = np.nonzero(b)\n",
    "print(a[index])"
   ]
  },
  {
   "cell_type": "code",
   "execution_count": 58,
   "metadata": {},
   "outputs": [
    {
     "data": {
      "text/plain": [
       "array([False,  True, False,  True,  True, False, False])"
      ]
     },
     "execution_count": 58,
     "metadata": {},
     "output_type": "execute_result"
    }
   ],
   "source": [
    "b"
   ]
  },
  {
   "cell_type": "markdown",
   "metadata": {},
   "source": [
    "**11 .对于两个随机数组A和B,检查他们是否相等**"
   ]
  },
  {
   "cell_type": "code",
   "execution_count": 60,
   "metadata": {},
   "outputs": [
    {
     "name": "stdout",
     "output_type": "stream",
     "text": [
      "[1 0 0 0 1]\n",
      "[1 0 1 1 0]\n",
      "False\n"
     ]
    }
   ],
   "source": [
    "x1 = np.random.randint(0,2,5)\n",
    "x2 = np.random.randint(0,2,5)\n",
    "equal = np.allclose(x1,x2)\n",
    "print(x1)\n",
    "print(x2)\n",
    "print(equal)"
   ]
  },
  {
   "cell_type": "markdown",
   "metadata": {},
   "source": [
    "**12. 何对布尔值取反，或者原位(in-place)改变浮点数的符号(sign)？**"
   ]
  },
  {
   "cell_type": "code",
   "execution_count": 63,
   "metadata": {},
   "outputs": [
    {
     "name": "stdout",
     "output_type": "stream",
     "text": [
      "[1 1 0]\n"
     ]
    }
   ],
   "source": [
    "x = np.array([0, 0, 1])\n",
    "\n",
    "# np.logical_not可以使值取反\n",
    "np.logical_not(x, out=x)\n",
    "print(x)"
   ]
  },
  {
   "cell_type": "code",
   "execution_count": 66,
   "metadata": {},
   "outputs": [
    {
     "data": {
      "text/plain": [
       "array([-0.2 , -1.15])"
      ]
     },
     "execution_count": 66,
     "metadata": {},
     "output_type": "execute_result"
    }
   ],
   "source": [
    "# np.negative可以改变符合\n",
    "y = np.array([0.2,1.15])\n",
    "np.negative(y, out=y) "
   ]
  },
  {
   "cell_type": "markdown",
   "metadata": {},
   "source": [
    "**13. 找出数组中与给定值最接近的数**"
   ]
  },
  {
   "cell_type": "code",
   "execution_count": 73,
   "metadata": {},
   "outputs": [
    {
     "name": "stdout",
     "output_type": "stream",
     "text": [
      "[[0 1 2 3]\n",
      " [4 5 6 7]]\n"
     ]
    },
    {
     "data": {
      "text/plain": [
       "5"
      ]
     },
     "execution_count": 73,
     "metadata": {},
     "output_type": "execute_result"
    }
   ],
   "source": [
    "x = np.array([[0,1,2,3],[4,5,6,7]])\n",
    "print(x)\n",
    "y = 5.1\n",
    "ans = np.abs(x - y).argmin()\n",
    "ans"
   ]
  },
  {
   "cell_type": "code",
   "execution_count": 75,
   "metadata": {},
   "outputs": [
    {
     "data": {
      "text/plain": [
       "5"
      ]
     },
     "execution_count": 75,
     "metadata": {},
     "output_type": "execute_result"
    }
   ],
   "source": [
    "x.flat[ans]"
   ]
  }
 ],
 "metadata": {
  "kernelspec": {
   "display_name": "Python 3",
   "language": "python",
   "name": "python3"
  },
  "language_info": {
   "codemirror_mode": {
    "name": "ipython",
    "version": 3
   },
   "file_extension": ".py",
   "mimetype": "text/x-python",
   "name": "python",
   "nbconvert_exporter": "python",
   "pygments_lexer": "ipython3",
   "version": "3.7.4"
  }
 },
 "nbformat": 4,
 "nbformat_minor": 2
}
