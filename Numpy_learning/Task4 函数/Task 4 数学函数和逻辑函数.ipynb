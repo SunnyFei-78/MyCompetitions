{
 "cells": [
  {
   "cell_type": "markdown",
   "metadata": {},
   "source": [
    "# Task 4 数学函数和逻辑函数"
   ]
  },
  {
   "cell_type": "markdown",
   "metadata": {},
   "source": [
    "## 1. 向量化和广播\n",
    "\n",
    "广播机制描述了numpy如何在算术运算期间处理具有不同形状的数组。\n",
    "\n",
    "若两个数组的每一维度等长，或者其中一个数组时一维，那么广播机制就适用。如果这两个条件不满足，numpy就会抛出异常，说明两个数组不兼容。\n",
    "\n",
    "总结来说，广播的规则有三个：\n",
    "- 如果两个数组的维度数dim不相同，那么小维度数组的形状将会在左边补1。\n",
    "- 如果shape维度不匹配，但是有维度是1，那么可以扩展维度是1的维度匹配另一个数组；\n",
    "- 如果shape维度不匹配，但是没有任何一个维度是1，则匹配引发错误；"
   ]
  },
  {
   "cell_type": "code",
   "execution_count": 26,
   "metadata": {},
   "outputs": [
    {
     "name": "stdout",
     "output_type": "stream",
     "text": [
      "[0 1 2 3]\n",
      "[[1. 1. 1. 1.]\n",
      " [1. 1. 1. 1.]\n",
      " [1. 1. 1. 1.]]\n",
      "(3, 4)\n",
      "[[1. 2. 3. 4.]\n",
      " [1. 2. 3. 4.]\n",
      " [1. 2. 3. 4.]]\n"
     ]
    }
   ],
   "source": [
    "import numpy as np\n",
    "\n",
    "x = np.arange(4)\n",
    "y = np.ones((3, 4))\n",
    "print(x)\n",
    "print(y)\n",
    "\n",
    "print((x + y).shape)\n",
    "print(x + y)"
   ]
  },
  {
   "cell_type": "code",
   "execution_count": 28,
   "metadata": {},
   "outputs": [
    {
     "name": "stdout",
     "output_type": "stream",
     "text": [
      "[[0]\n",
      " [1]\n",
      " [2]\n",
      " [3]]\n",
      "[1. 1. 1. 1. 1.]\n",
      "********************\n",
      "[[1. 1. 1. 1. 1.]\n",
      " [2. 2. 2. 2. 2.]\n",
      " [3. 3. 3. 3. 3.]\n",
      " [4. 4. 4. 4. 4.]]\n",
      "(4, 5)\n"
     ]
    }
   ],
   "source": [
    "# 两个数组都需要广播\n",
    "x = np.arange(4).reshape(4,1)\n",
    "y = np.ones(5)\n",
    "print(x)\n",
    "print(y)\n",
    "print('*'*20)\n",
    "print(x+y)\n",
    "print((x+y).shape)"
   ]
  },
  {
   "cell_type": "code",
   "execution_count": 31,
   "metadata": {},
   "outputs": [
    {
     "name": "stdout",
     "output_type": "stream",
     "text": [
      "(4, 3)\n",
      "[[ 5.   6.   7. ]\n",
      " [15.1 16.1 17.1]\n",
      " [25.2 26.2 27.2]\n",
      " [35.3 36.3 37.3]]\n"
     ]
    }
   ],
   "source": [
    "x = np.array([0.0, 10.1, 20.2, 30.3])\n",
    "y = np.array([5.0, 6.0, 7.0])\n",
    "z = x[:, np.newaxis] + y\n",
    "print(z.shape)\n",
    "print(z)"
   ]
  },
  {
   "cell_type": "code",
   "execution_count": 32,
   "metadata": {},
   "outputs": [
    {
     "ename": "ValueError",
     "evalue": "operands could not be broadcast together with shapes (4,) (3,) ",
     "output_type": "error",
     "traceback": [
      "\u001b[0;31m---------------------------------------------------------------------------\u001b[0m",
      "\u001b[0;31mValueError\u001b[0m                                Traceback (most recent call last)",
      "\u001b[0;32m<ipython-input-32-259706549f3d>\u001b[0m in \u001b[0;36m<module>\u001b[0;34m\u001b[0m\n\u001b[0;32m----> 1\u001b[0;31m \u001b[0mx\u001b[0m\u001b[0;34m+\u001b[0m\u001b[0my\u001b[0m\u001b[0;34m\u001b[0m\u001b[0;34m\u001b[0m\u001b[0m\n\u001b[0m",
      "\u001b[0;31mValueError\u001b[0m: operands could not be broadcast together with shapes (4,) (3,) "
     ]
    }
   ],
   "source": [
    "x+y"
   ]
  },
  {
   "cell_type": "markdown",
   "metadata": {},
   "source": [
    "## 2. 算术运算\n",
    "- numpy.add\n",
    "- numpy.substract\n",
    "- numpy.multiply\n",
    "- numpy.divide\n",
    "- numpy.floor_divide\n",
    "- numpy.power\n",
    "\n",
    "在 numpy 中对以上函数进行了运算符的重载，且运算符为 元素级。也就是说，它们只用于位置相同的元素之间，所得到的运算结果组成一个新的数组。\n"
   ]
  },
  {
   "cell_type": "code",
   "execution_count": 35,
   "metadata": {},
   "outputs": [
    {
     "name": "stdout",
     "output_type": "stream",
     "text": [
      "[2 3 4]\n",
      "[0 1 2]\n",
      "[2 4 6]\n"
     ]
    }
   ],
   "source": [
    "x = np.array([1, 2, 3])\n",
    "print(np.add(x, 1))\n",
    "print(np.subtract(x,1))\n",
    "print(np.multiply(x,2))"
   ]
  },
  {
   "cell_type": "code",
   "execution_count": 37,
   "metadata": {},
   "outputs": [
    {
     "name": "stdout",
     "output_type": "stream",
     "text": [
      "[0.5 1.  1.5]\n",
      "[0 1 1]\n"
     ]
    }
   ],
   "source": [
    "print(np.divide(x,2))        # 相当于 x/2\n",
    "print(np.floor_divide(x, 2)) # 相当于 x//2"
   ]
  },
  {
   "cell_type": "code",
   "execution_count": 38,
   "metadata": {},
   "outputs": [
    {
     "name": "stdout",
     "output_type": "stream",
     "text": [
      "[1 4 9]\n"
     ]
    }
   ],
   "source": [
    "print(np.power(x,2))  # x**2"
   ]
  },
  {
   "cell_type": "code",
   "execution_count": 39,
   "metadata": {},
   "outputs": [
    {
     "name": "stdout",
     "output_type": "stream",
     "text": [
      "(5, 5)\n"
     ]
    }
   ],
   "source": [
    "x = np.array([[11, 12, 13, 14, 15],\n",
    "              [16, 17, 18, 19, 20],\n",
    "              [21, 22, 23, 24, 25],\n",
    "              [26, 27, 28, 29, 30],\n",
    "              [31, 32, 33, 34, 35]])\n",
    "print(x.shape)"
   ]
  },
  {
   "cell_type": "code",
   "execution_count": 40,
   "metadata": {},
   "outputs": [
    {
     "name": "stdout",
     "output_type": "stream",
     "text": [
      "[[12 13 14 15 16]\n",
      " [17 18 19 20 21]\n",
      " [22 23 24 25 26]\n",
      " [27 28 29 30 31]\n",
      " [32 33 34 35 36]]\n",
      "******************************\n",
      "[[10 11 12 13 14]\n",
      " [15 16 17 18 19]\n",
      " [20 21 22 23 24]\n",
      " [25 26 27 28 29]\n",
      " [30 31 32 33 34]]\n",
      "******************************\n",
      "[[22 24 26 28 30]\n",
      " [32 34 36 38 40]\n",
      " [42 44 46 48 50]\n",
      " [52 54 56 58 60]\n",
      " [62 64 66 68 70]]\n",
      "******************************\n",
      "[[ 5.5  6.   6.5  7.   7.5]\n",
      " [ 8.   8.5  9.   9.5 10. ]\n",
      " [10.5 11.  11.5 12.  12.5]\n",
      " [13.  13.5 14.  14.5 15. ]\n",
      " [15.5 16.  16.5 17.  17.5]]\n",
      "******************************\n",
      "[[ 5  6  6  7  7]\n",
      " [ 8  8  9  9 10]\n",
      " [10 11 11 12 12]\n",
      " [13 13 14 14 15]\n",
      " [15 16 16 17 17]]\n"
     ]
    }
   ],
   "source": [
    "# 相当于对 x 的每一个元素都操作了一遍\n",
    "print(np.add(x, 1))\n",
    "print('*'*30)\n",
    "print(np.subtract(x,1))\n",
    "print('*'*30)\n",
    "print(np.multiply(x,2))\n",
    "print('*'*30)\n",
    "print(np.divide(x,2)) \n",
    "print('*'*30)\n",
    "print(np.floor_divide(x, 2))"
   ]
  },
  {
   "cell_type": "code",
   "execution_count": 42,
   "metadata": {},
   "outputs": [
    {
     "name": "stdout",
     "output_type": "stream",
     "text": [
      "(5, 5)\n",
      "[1 2 3 4 5]\n"
     ]
    }
   ],
   "source": [
    "# 广播机制\n",
    "x = np.array([[11, 12, 13, 14, 15],\n",
    "              [16, 17, 18, 19, 20],\n",
    "              [21, 22, 23, 24, 25],\n",
    "              [26, 27, 28, 29, 30],\n",
    "              [31, 32, 33, 34, 35]])\n",
    "\n",
    "y = np.arange(1, 6)\n",
    "print(x.shape)\n",
    "print(y)"
   ]
  },
  {
   "cell_type": "code",
   "execution_count": 43,
   "metadata": {},
   "outputs": [
    {
     "name": "stdout",
     "output_type": "stream",
     "text": [
      "[[12 14 16 18 20]\n",
      " [17 19 21 23 25]\n",
      " [22 24 26 28 30]\n",
      " [27 29 31 33 35]\n",
      " [32 34 36 38 40]]\n",
      "******************************\n",
      "[[10 10 10 10 10]\n",
      " [15 15 15 15 15]\n",
      " [20 20 20 20 20]\n",
      " [25 25 25 25 25]\n",
      " [30 30 30 30 30]]\n",
      "******************************\n",
      "[[ 11  24  39  56  75]\n",
      " [ 16  34  54  76 100]\n",
      " [ 21  44  69  96 125]\n",
      " [ 26  54  84 116 150]\n",
      " [ 31  64  99 136 175]]\n",
      "******************************\n",
      "[[11.          6.          4.33333333  3.5         3.        ]\n",
      " [16.          8.5         6.          4.75        4.        ]\n",
      " [21.         11.          7.66666667  6.          5.        ]\n",
      " [26.         13.5         9.33333333  7.25        6.        ]\n",
      " [31.         16.         11.          8.5         7.        ]]\n",
      "******************************\n",
      "[[11  6  4  3  3]\n",
      " [16  8  6  4  4]\n",
      " [21 11  7  6  5]\n",
      " [26 13  9  7  6]\n",
      " [31 16 11  8  7]]\n"
     ]
    }
   ],
   "source": [
    "print(np.add(x, y))\n",
    "print('*'*30)\n",
    "print(np.subtract(x, y))\n",
    "print('*'*30)\n",
    "print(np.multiply(x, y))\n",
    "print('*'*30)\n",
    "print(np.divide(x, y)) \n",
    "print('*'*30)\n",
    "print(np.floor_divide(x, y))"
   ]
  },
  {
   "cell_type": "markdown",
   "metadata": {},
   "source": [
    "### numpy.sqrt()\n",
    "### numpy.square()"
   ]
  },
  {
   "cell_type": "code",
   "execution_count": 44,
   "metadata": {},
   "outputs": [
    {
     "name": "stdout",
     "output_type": "stream",
     "text": [
      "[1 2 3 4]\n",
      "[1.         1.41421356 1.73205081 2.        ]\n",
      "[1.         1.41421356 1.73205081 2.        ]\n",
      "[ 1  4  9 16]\n",
      "[ 1  4  9 16]\n"
     ]
    }
   ],
   "source": [
    "x = np.arange(1,5)\n",
    "print(x)\n",
    "print(np.sqrt(x))\n",
    "print(np.power(x, 0.5))\n",
    "print(np.square(x))\n",
    "print(np.power(x, 2))"
   ]
  },
  {
   "cell_type": "markdown",
   "metadata": {},
   "source": [
    "## 3. 三角函数\n",
    "- numpy.sin\n",
    "- numpy.cos\n",
    "- numpy.tan\n",
    "- numpy.arcsin\n",
    "- numpy.arccos\n",
    "- numpy.arctan"
   ]
  },
  {
   "cell_type": "code",
   "execution_count": 47,
   "metadata": {},
   "outputs": [
    {
     "data": {
      "text/plain": [
       "array([0.        , 0.17453293, 0.34906585, 0.52359878, 0.6981317 ,\n",
       "       0.87266463, 1.04719755, 1.22173048, 1.3962634 , 1.57079633])"
      ]
     },
     "execution_count": 47,
     "metadata": {},
     "output_type": "execute_result"
    }
   ],
   "source": [
    "x = np.linspace(0, np.pi/2, num=10)\n",
    "x"
   ]
  },
  {
   "cell_type": "code",
   "execution_count": 48,
   "metadata": {},
   "outputs": [
    {
     "name": "stdout",
     "output_type": "stream",
     "text": [
      "[0.         0.17364818 0.34202014 0.5        0.64278761 0.76604444\n",
      " 0.8660254  0.93969262 0.98480775 1.        ]\n",
      "[0.         0.17453293 0.34906585 0.52359878 0.6981317  0.87266463\n",
      " 1.04719755 1.22173048 1.3962634  1.57079633]\n"
     ]
    }
   ],
   "source": [
    "y = np.sin(x)\n",
    "print(y)\n",
    "print(np.arcsin(y))"
   ]
  },
  {
   "cell_type": "markdown",
   "metadata": {},
   "source": [
    "### 指数和对数\n",
    "### numpy.exp\n",
    "### numpy.log， base - e\n",
    "### numpy.exp2\n",
    "### numpy.log2\n",
    "### numpy.log10"
   ]
  },
  {
   "cell_type": "code",
   "execution_count": 50,
   "metadata": {},
   "outputs": [
    {
     "name": "stdout",
     "output_type": "stream",
     "text": [
      "[1 2 3 4]\n",
      "[ 2.71828183  7.3890561  20.08553692 54.59815003]\n",
      "[1. 2. 3. 4.]\n"
     ]
    }
   ],
   "source": [
    "import numpy as np\n",
    "\n",
    "x = np.arange(1, 5)\n",
    "print(x)\n",
    "y = np.exp(x)\n",
    "print(y)\n",
    "print(np.log(y))"
   ]
  },
  {
   "cell_type": "markdown",
   "metadata": {},
   "source": [
    "## 4. 加法函数和乘法函数\n",
    "- numpy.sum(a, axis=None,...)\n",
    "axis=i，则numpy沿着第i个下标变化的方向进行操作。\n",
    "\n",
    "如果不设置，那么对所有的元素操作；\n",
    "\n",
    "如果axis=0，则沿着纵轴进行操作；\n",
    "\n",
    "axis=1，则沿着横轴进行操作。\n",
    "\n",
    "- numpy.cumsum(a, axis=None, dtype=None, out=None)\n",
    "聚合函数是指对一组值（比如一个数组）进行操作，返回一个单一值作为结果的函数。因而，求数组所有元素之和的函数就是聚合函数。ndarray类实现了多个这样的函数。"
   ]
  },
  {
   "cell_type": "code",
   "execution_count": 51,
   "metadata": {},
   "outputs": [
    {
     "name": "stdout",
     "output_type": "stream",
     "text": [
      "575\n",
      "********************\n",
      "[105 110 115 120 125]\n",
      "********************\n",
      "[ 65  90 115 140 165]\n"
     ]
    }
   ],
   "source": [
    "x = np.array([[11, 12, 13, 14, 15],\n",
    "              [16, 17, 18, 19, 20],\n",
    "              [21, 22, 23, 24, 25],\n",
    "              [26, 27, 28, 29, 30],\n",
    "              [31, 32, 33, 34, 35]])\n",
    "print(np.sum(x))\n",
    "print('*'*20)\n",
    "print(np.sum(x, axis=0))\n",
    "print('*'*20)\n",
    "print(np.sum(x, axis=1))\n"
   ]
  },
  {
   "cell_type": "code",
   "execution_count": 55,
   "metadata": {},
   "outputs": [],
   "source": [
    "x = np.array([[1,2,3,4,5],\n",
    "             [6,7,8,9,10],\n",
    "             [11,12,13,14,15]])"
   ]
  },
  {
   "cell_type": "code",
   "execution_count": 56,
   "metadata": {},
   "outputs": [
    {
     "name": "stdout",
     "output_type": "stream",
     "text": [
      "[  1   3   6  10  15  21  28  36  45  55  66  78  91 105 120]\n",
      "********************\n",
      "[[ 1  2  3  4  5]\n",
      " [ 7  9 11 13 15]\n",
      " [18 21 24 27 30]]\n",
      "********************\n",
      "[[ 1  3  6 10 15]\n",
      " [ 6 13 21 30 40]\n",
      " [11 23 36 50 65]]\n"
     ]
    }
   ],
   "source": [
    "# 返回给定轴上的数组元素的累加和\n",
    "print(np.cumsum(x))\n",
    "print('*'*20)\n",
    "print(np.cumsum(x, axis=0))\n",
    "print('*'*20)\n",
    "print(np.cumsum(x, axis=1))"
   ]
  },
  {
   "cell_type": "markdown",
   "metadata": {},
   "source": [
    "## 5. 差值和四舍五入\n",
    "- numpy.diff(a, n=1, axis=-1, prepend=np._NoValue, append=np._NoValue)\n",
    "a：输入矩阵\n",
    "n：可选，代表要执行几次差值\n",
    "axis：默认是最后一个\n",
    "\n",
    "out[i] = a[i+1] - a[i]"
   ]
  },
  {
   "cell_type": "code",
   "execution_count": 58,
   "metadata": {},
   "outputs": [
    {
     "data": {
      "text/plain": [
       "array([[ 2,  3,  4,  5],\n",
       "       [ 6,  7,  8,  9],\n",
       "       [10, 11, 12, 13]])"
      ]
     },
     "execution_count": 58,
     "metadata": {},
     "output_type": "execute_result"
    }
   ],
   "source": [
    "x = np.arange(2, 14).reshape(3,4)\n",
    "x"
   ]
  },
  {
   "cell_type": "code",
   "execution_count": 60,
   "metadata": {},
   "outputs": [
    {
     "name": "stdout",
     "output_type": "stream",
     "text": [
      "[[ 2  3  4  5]\n",
      " [ 6  8  8  9]\n",
      " [10 11 12 13]]\n",
      "********************\n",
      "[[1 1 1]\n",
      " [2 0 1]\n",
      " [1 1 1]]\n",
      "********************\n",
      "[[4 5 4 4]\n",
      " [4 3 4 4]]\n"
     ]
    }
   ],
   "source": [
    "x[1,1] = 8\n",
    "print(x)\n",
    "print('*'*20)\n",
    "print(np.diff(x))\n",
    "print('*'*20)\n",
    "print(np.diff(x, axis=0))"
   ]
  },
  {
   "cell_type": "code",
   "execution_count": 62,
   "metadata": {},
   "outputs": [
    {
     "name": "stdout",
     "output_type": "stream",
     "text": [
      "[[6.24745894 8.49629172 1.22056499]\n",
      " [5.94693213 6.90081335 8.1767692 ]\n",
      " [8.58177677 4.13428319 8.34781889]]\n",
      "[[6. 8. 1.]\n",
      " [6. 7. 8.]\n",
      " [9. 4. 8.]]\n",
      "[[6.25 8.5  1.22]\n",
      " [5.95 6.9  8.18]\n",
      " [8.58 4.13 8.35]]\n"
     ]
    }
   ],
   "source": [
    "# numpy.around(a, decimal=0, out=None)\n",
    "# 将数组舍入到给定的小数位数, 默认是0\n",
    "\n",
    "x = np.random.rand(3,3)*10\n",
    "print(x)\n",
    "print(np.around(x))\n",
    "print(np.around(x,2))"
   ]
  },
  {
   "cell_type": "markdown",
   "metadata": {},
   "source": [
    "## 6. 上下限\n",
    "- numpy.ceil()\n",
    "- numpy.floor()"
   ]
  },
  {
   "cell_type": "code",
   "execution_count": 65,
   "metadata": {},
   "outputs": [
    {
     "name": "stdout",
     "output_type": "stream",
     "text": [
      "[[9.93440929 0.53525818]\n",
      " [0.79182643 7.97037478]]\n",
      "[[10.  1.]\n",
      " [ 1.  8.]]\n",
      "[[9. 0.]\n",
      " [0. 7.]]\n"
     ]
    }
   ],
   "source": [
    "x = np.random.rand(2,2) * 10\n",
    "print(x)\n",
    "print(np.ceil(x))\n",
    "print(np.floor(x))"
   ]
  },
  {
   "cell_type": "code",
   "execution_count": 66,
   "metadata": {},
   "outputs": [
    {
     "name": "stdout",
     "output_type": "stream",
     "text": [
      "[[20 20 20 20 20]\n",
      " [20 20 20 20 20]\n",
      " [21 22 23 24 25]\n",
      " [26 27 28 29 30]\n",
      " [30 30 30 30 30]]\n"
     ]
    }
   ],
   "source": [
    "# 裁剪（限制）数组中的值。\n",
    "import numpy as np\n",
    "\n",
    "x = np.array([[11, 12, 13, 14, 15],\n",
    "              [16, 17, 18, 19, 20],\n",
    "              [21, 22, 23, 24, 25],\n",
    "              [26, 27, 28, 29, 30],\n",
    "              [31, 32, 33, 34, 35]])\n",
    "y = np.clip(x, a_min=20, a_max=30)\n",
    "print(y)"
   ]
  },
  {
   "cell_type": "code",
   "execution_count": 77,
   "metadata": {},
   "outputs": [
    {
     "name": "stdout",
     "output_type": "stream",
     "text": [
      "[-3 -2 -1  0  1  2  3  4  5]\n",
      "[3 2 1 0 1 2 3 4 5]\n",
      "[3 2 1 0 1 2 3 4 5]\n"
     ]
    }
   ],
   "source": [
    "# numpy.absolute()\n",
    "# numpy.abs() 简写\n",
    "import numpy as np\n",
    "\n",
    "x = np.arange(-3,6)\n",
    "print(x)\n",
    "print(np.abs(x))\n",
    "print(np.absolute(x))"
   ]
  },
  {
   "cell_type": "code",
   "execution_count": 78,
   "metadata": {},
   "outputs": [
    {
     "name": "stdout",
     "output_type": "stream",
     "text": [
      "[-1 -1 -1  0  1  1  1  1  1]\n"
     ]
    }
   ],
   "source": [
    "print(np.sign(x))"
   ]
  },
  {
   "cell_type": "code",
   "execution_count": null,
   "metadata": {},
   "outputs": [],
   "source": []
  },
  {
   "cell_type": "markdown",
   "metadata": {},
   "source": [
    "# 逻辑函数部分 "
   ]
  },
  {
   "cell_type": "markdown",
   "metadata": {},
   "source": [
    "## 1.  真值测试\n",
    "- numpy.all\n",
    "- numpy.any\n",
    "\n",
    "- numpy.isnan()"
   ]
  },
  {
   "cell_type": "code",
   "execution_count": 82,
   "metadata": {},
   "outputs": [
    {
     "name": "stdout",
     "output_type": "stream",
     "text": [
      "True\n",
      "True\n"
     ]
    }
   ],
   "source": [
    "import numpy as np\n",
    "x = np.array([1,3,5])\n",
    "y = np.copy(x)\n"
   ]
  },
  {
   "cell_type": "code",
   "execution_count": 83,
   "metadata": {},
   "outputs": [
    {
     "name": "stdout",
     "output_type": "stream",
     "text": [
      "False\n",
      "True\n"
     ]
    }
   ],
   "source": [
    "y[0] = 10\n",
    "print(np.all(x==y))\n",
    "print(np.any(x==y))"
   ]
  },
  {
   "cell_type": "code",
   "execution_count": 85,
   "metadata": {},
   "outputs": [
    {
     "name": "stdout",
     "output_type": "stream",
     "text": [
      "[False False False]\n",
      "[ True  True  True]\n"
     ]
    }
   ],
   "source": [
    "x = np.eye(3)\n",
    "print(np.all(x, axis=0))  # [False False False]\n",
    "print(np.any(x, axis=0))  # [ True  True  True]"
   ]
  },
  {
   "cell_type": "code",
   "execution_count": 86,
   "metadata": {},
   "outputs": [
    {
     "name": "stdout",
     "output_type": "stream",
     "text": [
      "[False False  True]\n"
     ]
    }
   ],
   "source": [
    "x = np.array([1,2,np.nan])\n",
    "print(np.isnan(x))"
   ]
  },
  {
   "cell_type": "markdown",
   "metadata": {},
   "source": [
    "## 2. 逻辑运算\n",
    "- numpy.logical_not：逻辑非\n",
    "- numpy.logical_and：逻辑与\n",
    "- numpy.logical_or： 逻辑或\n",
    "- numpy.logical_xor：逻辑异或"
   ]
  },
  {
   "cell_type": "code",
   "execution_count": 89,
   "metadata": {},
   "outputs": [
    {
     "name": "stdout",
     "output_type": "stream",
     "text": [
      "[False  True  True False]\n",
      "[0 1 2 3 4]\n",
      "[False False False  True  True]\n",
      "********************\n",
      "False\n",
      "[ True False]\n",
      "[False False  True  True False]\n",
      "********************\n",
      "True\n",
      "[ True False]\n",
      "[ True False False False  True]\n",
      "********************\n",
      "True\n",
      "[False  True  True False]\n",
      "[ True False False False  True]\n",
      "[[ True False]\n",
      " [False  True]]\n"
     ]
    }
   ],
   "source": [
    "print(np.logical_not([True, False, 0, 1]))\n",
    "\n",
    "x = np.arange(5)\n",
    "print(x)\n",
    "print(np.logical_not(x < 3))\n",
    "print('*'*20)\n",
    "\n",
    "# 逐元素计算x1 AND x2元素的真值。\n",
    "print(np.logical_and(True, False))  \n",
    "print(np.logical_and([True, False], [True, False]))\n",
    "print(np.logical_and(x > 1, x < 4))\n",
    "print('*'*20)\n",
    "\n",
    "# 逐元素计算x1 OR x2的真值。\n",
    "print(np.logical_or(True, False))\n",
    "print(np.logical_or([True, False], [False, False]))\n",
    "print(np.logical_or(x < 1, x > 3))\n",
    "print('*'*20)\n",
    "\n",
    "# 逐元素计算x1 XOR x2的真值\n",
    "print(np.logical_xor(True, False))\n",
    "print(np.logical_xor([True, True, False, False], [True, False, True, False]))\n",
    "print(np.logical_xor(x < 1, x > 3))\n",
    "print(np.logical_xor(0, np.eye(2)))"
   ]
  },
  {
   "cell_type": "code",
   "execution_count": null,
   "metadata": {},
   "outputs": [],
   "source": []
  },
  {
   "cell_type": "code",
   "execution_count": 97,
   "metadata": {},
   "outputs": [
    {
     "name": "stdout",
     "output_type": "stream",
     "text": [
      "[[False False False False]\n",
      " [False False False False]\n",
      " [ True  True  True  True]]\n",
      "[[False False False False]\n",
      " [False False False False]\n",
      " [ True  True  True  True]]\n"
     ]
    }
   ],
   "source": [
    "x = np.array([[11, 12, 13, 14],\n",
    "              [16, 17, 18, 19],\n",
    "              [21, 22, 23, 24]])\n",
    "\n",
    "y = x > 20\n",
    "print(y)\n",
    "print(np.greater(x, 20))"
   ]
  },
  {
   "cell_type": "code",
   "execution_count": 98,
   "metadata": {},
   "outputs": [
    {
     "name": "stdout",
     "output_type": "stream",
     "text": [
      "[[False False False False]\n",
      " [False False False False]\n",
      " [ True  True  True  True]]\n",
      "[[False False False False]\n",
      " [False False False False]\n",
      " [ True  True  True  True]]\n"
     ]
    }
   ],
   "source": [
    "y = x >= 20\n",
    "print(y)\n",
    "print(np.greater_equal(x, 20))"
   ]
  },
  {
   "cell_type": "code",
   "execution_count": 99,
   "metadata": {},
   "outputs": [
    {
     "name": "stdout",
     "output_type": "stream",
     "text": [
      "[[False False False False]\n",
      " [False False False False]\n",
      " [False  True False False]]\n",
      "[[False False False False]\n",
      " [False False False False]\n",
      " [False  True False False]]\n"
     ]
    }
   ],
   "source": [
    "y = x == 22\n",
    "print(y)\n",
    "print(np.equal(x, 22))"
   ]
  },
  {
   "cell_type": "code",
   "execution_count": 101,
   "metadata": {},
   "outputs": [
    {
     "name": "stdout",
     "output_type": "stream",
     "text": [
      "[[ True  True  True  True]\n",
      " [ True  True  True  True]\n",
      " [False False False False]]\n",
      "**************************************************\n",
      "[[ True  True  True  True]\n",
      " [ True  True  True  True]\n",
      " [False False False False]]\n"
     ]
    }
   ],
   "source": [
    "y = x < 20\n",
    "# print(y)\n",
    "print(np.less(x, 20))\n",
    "print('*'*50)\n",
    "y = x <= 20\n",
    "# print(y)\n",
    "print(np.less_equal(x, 20))"
   ]
  },
  {
   "cell_type": "code",
   "execution_count": null,
   "metadata": {},
   "outputs": [],
   "source": []
  },
  {
   "cell_type": "code",
   "execution_count": null,
   "metadata": {},
   "outputs": [],
   "source": []
  }
 ],
 "metadata": {
  "kernelspec": {
   "display_name": "Python 3",
   "language": "python",
   "name": "python3"
  },
  "language_info": {
   "codemirror_mode": {
    "name": "ipython",
    "version": 3
   },
   "file_extension": ".py",
   "mimetype": "text/x-python",
   "name": "python",
   "nbconvert_exporter": "python",
   "pygments_lexer": "ipython3",
   "version": "3.7.4"
  }
 },
 "nbformat": 4,
 "nbformat_minor": 2
}
