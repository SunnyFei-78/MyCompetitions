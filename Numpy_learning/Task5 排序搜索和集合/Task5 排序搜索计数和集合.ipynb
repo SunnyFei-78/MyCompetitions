{
 "cells": [
  {
   "cell_type": "markdown",
   "metadata": {},
   "source": [
    "# Task 5 排序 搜索 计数和集合"
   ]
  },
  {
   "cell_type": "markdown",
   "metadata": {},
   "source": [
    "## 1、排序\n",
    "- numpy.sort(a[,axis=-1,kind='quicksort',order=None])\n",
    "- axis: 排序沿数组的轴方向，0表示按行，1表示按列，None默认-1表示沿最后的轴排序\n",
    "- kind: 提供了快排’quicksort‘，混排，堆排，默认为快排"
   ]
  },
  {
   "cell_type": "code",
   "execution_count": 1,
   "metadata": {},
   "outputs": [
    {
     "name": "stdout",
     "output_type": "stream",
     "text": [
      "[[9.86 8.73 5.1  2.72 3.37]\n",
      " [2.17 2.76 3.43 8.62 1.57]\n",
      " [1.41 7.57 7.36 3.56 3.41]\n",
      " [6.67 2.17 5.61 1.24 3.2 ]\n",
      " [9.53 1.37 5.69 9.76 5.03]]\n"
     ]
    }
   ],
   "source": [
    "import numpy as np\n",
    "np.random.seed(2020)\n",
    "x = np.random.rand(5, 5)*10\n",
    "x = np.around(x,2)\n",
    "print(x)"
   ]
  },
  {
   "cell_type": "code",
   "execution_count": 2,
   "metadata": {},
   "outputs": [
    {
     "name": "stdout",
     "output_type": "stream",
     "text": [
      "[[2.72 3.37 5.1  8.73 9.86]\n",
      " [1.57 2.17 2.76 3.43 8.62]\n",
      " [1.41 3.41 3.56 7.36 7.57]\n",
      " [1.24 2.17 3.2  5.61 6.67]\n",
      " [1.37 5.03 5.69 9.53 9.76]]\n"
     ]
    }
   ],
   "source": [
    "print(np.sort(x))"
   ]
  },
  {
   "cell_type": "code",
   "execution_count": 4,
   "metadata": {},
   "outputs": [
    {
     "name": "stdout",
     "output_type": "stream",
     "text": [
      "[[1.41 1.37 3.43 1.24 1.57]\n",
      " [2.17 2.17 5.1  2.72 3.2 ]\n",
      " [6.67 2.76 5.61 3.56 3.37]\n",
      " [9.53 7.57 5.69 8.62 3.41]\n",
      " [9.86 8.73 7.36 9.76 5.03]]\n"
     ]
    }
   ],
   "source": [
    "print(np.sort(x, axis=0))"
   ]
  },
  {
   "cell_type": "code",
   "execution_count": 5,
   "metadata": {},
   "outputs": [
    {
     "name": "stdout",
     "output_type": "stream",
     "text": [
      "[[2.72 3.37 5.1  8.73 9.86]\n",
      " [1.57 2.17 2.76 3.43 8.62]\n",
      " [1.41 3.41 3.56 7.36 7.57]\n",
      " [1.24 2.17 3.2  5.61 6.67]\n",
      " [1.37 5.03 5.69 9.53 9.76]]\n"
     ]
    }
   ],
   "source": [
    "print(np.sort(x, axis=1))"
   ]
  },
  {
   "cell_type": "code",
   "execution_count": 9,
   "metadata": {},
   "outputs": [
    {
     "name": "stdout",
     "output_type": "stream",
     "text": [
      "[(b'Bob', 17) (b'July', 27) (b'Mike', 21) (b'Nancy', 25)]\n"
     ]
    }
   ],
   "source": [
    "dt = np.dtype([('name', 'S10'),('age',np.int)])\n",
    "a = np.array([('Mike',21), ('Nancy', 25), ('Bob',17),('July', 27)], dtype=dt)\n",
    "print(np.sort(a, order='name'))"
   ]
  },
  {
   "cell_type": "code",
   "execution_count": 10,
   "metadata": {},
   "outputs": [
    {
     "name": "stdout",
     "output_type": "stream",
     "text": [
      "[(b'Bob', 17) (b'Mike', 21) (b'Nancy', 25) (b'July', 27)]\n"
     ]
    }
   ],
   "source": [
    "print(np.sort(a, order='age'))"
   ]
  },
  {
   "cell_type": "markdown",
   "metadata": {},
   "source": [
    "### 1）numpy.argsort()\n",
    "- 指定排序类型后，返回排序数组中数据的原来索引，默认按axis=1"
   ]
  },
  {
   "cell_type": "code",
   "execution_count": 11,
   "metadata": {},
   "outputs": [
    {
     "name": "stdout",
     "output_type": "stream",
     "text": [
      "[0 8 3 6 3]\n"
     ]
    }
   ],
   "source": [
    "# 一维数组\n",
    "np.random.seed(2020)\n",
    "x = np.random.randint(0,10,5)\n",
    "print(x)"
   ]
  },
  {
   "cell_type": "code",
   "execution_count": 15,
   "metadata": {},
   "outputs": [
    {
     "name": "stdout",
     "output_type": "stream",
     "text": [
      "[0 2 4 3 1]\n",
      "********************\n",
      "[0 3 3 6 8]\n"
     ]
    }
   ],
   "source": [
    "y = np.argsort(x)\n",
    "print(y)\n",
    "print('*'*20)\n",
    "print(x[y])"
   ]
  },
  {
   "cell_type": "code",
   "execution_count": 20,
   "metadata": {},
   "outputs": [
    {
     "name": "stdout",
     "output_type": "stream",
     "text": [
      "[[9.86 8.73 5.1 ]\n",
      " [2.72 3.37 2.17]\n",
      " [2.76 3.43 8.62]]\n",
      "********************\n",
      "[[2 1 0]\n",
      " [2 0 1]\n",
      " [0 1 2]]\n",
      "********************\n"
     ]
    }
   ],
   "source": [
    "# 二维数组\n",
    "np.random.seed(2020)\n",
    "x = np.random.rand(3, 3) * 10\n",
    "x = np.around(x, 2)\n",
    "print(x)\n",
    "print('*'*20)\n",
    "y = np.argsort(x)\n",
    "print(y)\n",
    "print('*'*20)\n",
    "\n",
    "# 返回的结果代表的意思是：\n",
    "#     返回列表是按行从大到小排列的，只是显示的是数据在原来数组的索引位置"
   ]
  },
  {
   "cell_type": "code",
   "execution_count": 21,
   "metadata": {},
   "outputs": [
    {
     "name": "stdout",
     "output_type": "stream",
     "text": [
      "[[2 1 0]\n",
      " [2 0 1]\n",
      " [0 1 2]]\n"
     ]
    }
   ],
   "source": [
    "# 返回列表是按行从大到小排列的，只是显示的是数据在原来数组的索引位置\n",
    "print(np.argsort(x, axis=1))"
   ]
  },
  {
   "cell_type": "code",
   "execution_count": 22,
   "metadata": {},
   "outputs": [
    {
     "name": "stdout",
     "output_type": "stream",
     "text": [
      "[[1 1 1]\n",
      " [2 2 0]\n",
      " [0 0 2]]\n"
     ]
    }
   ],
   "source": [
    "# 返回列表是按列从大到小排列的，只是显示的是数据在原来数组的索引位置\n",
    "print(np.argsort(x, axis=0))"
   ]
  },
  {
   "cell_type": "code",
   "execution_count": 27,
   "metadata": {},
   "outputs": [
    {
     "data": {
      "text/plain": [
       "array([[5.1 , 8.73, 9.86],\n",
       "       [2.17, 2.72, 3.37],\n",
       "       [2.76, 3.43, 8.62]])"
      ]
     },
     "execution_count": 27,
     "metadata": {},
     "output_type": "execute_result"
    }
   ],
   "source": [
    "# np.take(a, indices,axis=None,mode='raise')沿轴从数组中获取元素\n",
    "y = np.array([np.take(x[i], np.argsort(x[i])) for i in range(3)])\n",
    "print(y)"
   ]
  },
  {
   "cell_type": "markdown",
   "metadata": {},
   "source": [
    "### 2）numpy.lexsort()\n",
    "- numpy.lexsort(keys[, axis=-1]) Perform an indirect stable sort using a sequence of keys.（使用键序列执行间接稳定排序。）"
   ]
  },
  {
   "cell_type": "code",
   "execution_count": 33,
   "metadata": {},
   "outputs": [
    {
     "name": "stdout",
     "output_type": "stream",
     "text": [
      "[[9.86 8.73 5.1 ]\n",
      " [2.72 3.37 2.17]\n",
      " [2.76 3.43 8.62]]\n"
     ]
    }
   ],
   "source": [
    "import numpy as np\n",
    "np.random.seed(2020)\n",
    "x = np.random.rand(3, 3) * 10\n",
    "x = np.around(x, 2)\n",
    "print(x)"
   ]
  },
  {
   "cell_type": "code",
   "execution_count": 35,
   "metadata": {},
   "outputs": [
    {
     "name": "stdout",
     "output_type": "stream",
     "text": [
      "[1 2 0]\n"
     ]
    }
   ],
   "source": [
    "# 返回按照第一列的升序，对应的在原来数组里的索引位置\n",
    "index = np.lexsort([x[:,0]])\n",
    "print(index)"
   ]
  },
  {
   "cell_type": "code",
   "execution_count": 36,
   "metadata": {},
   "outputs": [
    {
     "name": "stdout",
     "output_type": "stream",
     "text": [
      "[[2.72 3.37 2.17]\n",
      " [2.76 3.43 8.62]\n",
      " [9.86 8.73 5.1 ]]\n"
     ]
    }
   ],
   "source": [
    "y = x[index]\n",
    "print(y)"
   ]
  },
  {
   "cell_type": "code",
   "execution_count": 38,
   "metadata": {},
   "outputs": [
    {
     "name": "stdout",
     "output_type": "stream",
     "text": [
      "[[9.86 8.73 5.1 ]\n",
      " [2.76 3.43 8.62]\n",
      " [2.72 3.37 2.17]]\n"
     ]
    }
   ],
   "source": [
    "z = x[np.lexsort([-1 * x[:,0]])]\n",
    "print(z)"
   ]
  },
  {
   "cell_type": "code",
   "execution_count": 40,
   "metadata": {},
   "outputs": [
    {
     "name": "stdout",
     "output_type": "stream",
     "text": [
      "[0 2 4 3 5 1]\n",
      "[1 1 3 4 4 5]\n",
      "**********\n",
      "[2 5 4 1 3 0]\n",
      "[0 1 2 4 4 9]\n"
     ]
    }
   ],
   "source": [
    "import numpy as np\n",
    "x = np.array([1,5,1,4,3,4])\n",
    "y = np.array([9,4,0,4,2,1])\n",
    "\n",
    "a = np.lexsort([x])\n",
    "b = np.lexsort([y])\n",
    "\n",
    "print(a)\n",
    "print(x[a])\n",
    "print('*'*10)\n",
    "print(b)\n",
    "print(y[b])"
   ]
  },
  {
   "cell_type": "code",
   "execution_count": 41,
   "metadata": {},
   "outputs": [
    {
     "name": "stdout",
     "output_type": "stream",
     "text": [
      "[2 0 4 5 3 1]\n"
     ]
    }
   ],
   "source": [
    "# 先按x排序，当x的值相同时，按y排序\n",
    "# 参考：https://blog.csdn.net/u013066730/article/details/96485837\n",
    "print(np.lexsort([y,x]))"
   ]
  },
  {
   "cell_type": "code",
   "execution_count": 42,
   "metadata": {},
   "outputs": [
    {
     "name": "stdout",
     "output_type": "stream",
     "text": [
      "[2 5 4 3 1 0]\n"
     ]
    }
   ],
   "source": [
    "# 先按y排序，当y的值相同时，按x排序\n",
    "print(np.lexsort([x,y]))"
   ]
  },
  {
   "cell_type": "markdown",
   "metadata": {},
   "source": [
    "### 3）numpy.partition()\n",
    "- numpy.partition(a, kth, axis=-1, kind='introselect', order=None) Return a partitioned copy of an array."
   ]
  },
  {
   "cell_type": "code",
   "execution_count": 43,
   "metadata": {},
   "outputs": [
    {
     "name": "stdout",
     "output_type": "stream",
     "text": [
      "[[ 1  9  4]\n",
      " [23  4 28]\n",
      " [ 4  8 25]\n",
      " [17  1 25]\n",
      " [11 10 20]\n",
      " [12 24 19]\n",
      " [ 4  7  6]\n",
      " [17 29 21]]\n"
     ]
    }
   ],
   "source": [
    "np.random.seed(2020)\n",
    "x = np.random.randint(1, 30, [8,3])\n",
    "print(x)"
   ]
  },
  {
   "cell_type": "code",
   "execution_count": 44,
   "metadata": {},
   "outputs": [
    {
     "name": "stdout",
     "output_type": "stream",
     "text": [
      "[[ 1  1  4]\n",
      " [ 4  4  6]\n",
      " [ 4  7 19]\n",
      " [11  8 20]\n",
      " [12  9 21]\n",
      " [17 10 25]\n",
      " [17 24 25]\n",
      " [23 29 28]]\n"
     ]
    }
   ],
   "source": [
    "print(np.sort(x, axis=0))"
   ]
  },
  {
   "cell_type": "code",
   "execution_count": 48,
   "metadata": {},
   "outputs": [
    {
     "name": "stdout",
     "output_type": "stream",
     "text": [
      "[[ 1  1  4]\n",
      " [ 4  4  6]\n",
      " [ 4  7 19]\n",
      " [17  9 25]\n",
      " [11 10 20]\n",
      " [12 24 25]\n",
      " [23  8 28]\n",
      " [17 29 21]]\n",
      "[ 4  7 19]\n"
     ]
    }
   ],
   "source": [
    "# 选取每一列的第三小的数\n",
    "z = np.partition(x, kth=2, axis=0)\n",
    "print(z)\n",
    "print(z[2])"
   ]
  },
  {
   "cell_type": "code",
   "execution_count": 49,
   "metadata": {},
   "outputs": [
    {
     "name": "stdout",
     "output_type": "stream",
     "text": [
      "[[12  7 20]\n",
      " [ 1  1  4]\n",
      " [ 4  8  6]\n",
      " [ 4  4 19]\n",
      " [11  9 21]\n",
      " [17 10 25]\n",
      " [23 24 25]\n",
      " [17 29 28]]\n",
      "[17 10 25]\n"
     ]
    }
   ],
   "source": [
    "# 选取每一列的第三大的数据\n",
    "z = np.partition(x, kth=-3, axis=0)\n",
    "print(z)\n",
    "print(z[-3])"
   ]
  },
  {
   "cell_type": "markdown",
   "metadata": {},
   "source": [
    "### 4) numpy.argmax()\n",
    "- numpy.argmax(a[, axis=None, out=None])\n",
    "  Returns the indices of the maximum values along an axis"
   ]
  },
  {
   "cell_type": "code",
   "execution_count": 51,
   "metadata": {},
   "outputs": [
    {
     "name": "stdout",
     "output_type": "stream",
     "text": [
      "[[9.86 8.73 5.1 ]\n",
      " [2.72 3.37 2.17]\n",
      " [2.76 3.43 8.62]]\n"
     ]
    }
   ],
   "source": [
    "np.random.seed(2020)\n",
    "x = np.random.rand(3, 3) * 10\n",
    "x = np.around(x, 2)\n",
    "print(x)"
   ]
  },
  {
   "cell_type": "code",
   "execution_count": 52,
   "metadata": {},
   "outputs": [
    {
     "name": "stdout",
     "output_type": "stream",
     "text": [
      "0\n",
      "[0 0 2]\n",
      "[0 1 2]\n"
     ]
    }
   ],
   "source": [
    "print(np.argmax(x)) # 全局最大的一个元素\n",
    "print(np.argmax(x, axis=0))\n",
    "print(np.argmax(x, axis=1))"
   ]
  },
  {
   "cell_type": "markdown",
   "metadata": {},
   "source": [
    "### 5) numpy.argmin()"
   ]
  },
  {
   "cell_type": "code",
   "execution_count": 53,
   "metadata": {},
   "outputs": [
    {
     "name": "stdout",
     "output_type": "stream",
     "text": [
      "[[9.86 8.73 5.1 ]\n",
      " [2.72 3.37 2.17]\n",
      " [2.76 3.43 8.62]]\n",
      "**********\n",
      "5\n",
      "[1 1 1]\n",
      "[2 2 0]\n"
     ]
    }
   ],
   "source": [
    "np.random.seed(2020)\n",
    "x = np.random.rand(3, 3) * 10\n",
    "x = np.around(x, 2)\n",
    "print(x)\n",
    "print('*'*10)\n",
    "print(np.argmin(x)) # 全局最小的一个元素\n",
    "print(np.argmin(x, axis=0))\n",
    "print(np.argmin(x, axis=1))"
   ]
  },
  {
   "cell_type": "markdown",
   "metadata": {},
   "source": [
    "### 6）numpy.nonzero() 其值为非零元素的下标在对应轴上的值"
   ]
  },
  {
   "cell_type": "code",
   "execution_count": 54,
   "metadata": {},
   "outputs": [
    {
     "name": "stdout",
     "output_type": "stream",
     "text": [
      "[0 0 3 2]\n",
      "(array([2, 3]),)\n"
     ]
    }
   ],
   "source": [
    "# 一维数组\n",
    "x = np.array([0, 0, 3, 2])\n",
    "print(x)\n",
    "\n",
    "y = np.nonzero(x)\n",
    "print(y)"
   ]
  },
  {
   "cell_type": "code",
   "execution_count": 59,
   "metadata": {},
   "outputs": [
    {
     "name": "stdout",
     "output_type": "stream",
     "text": [
      "(array([2, 3]),)\n",
      "(1, 2)\n",
      "2\n"
     ]
    }
   ],
   "source": [
    "print(y)\n",
    "z = np.array(y)\n",
    "print(z.shape)\n",
    "print(z.ndim)"
   ]
  },
  {
   "cell_type": "code",
   "execution_count": 61,
   "metadata": {},
   "outputs": [
    {
     "name": "stdout",
     "output_type": "stream",
     "text": [
      "[[2]\n",
      " [3]]\n",
      "[3 2]\n"
     ]
    }
   ],
   "source": [
    "print(np.transpose(y))\n",
    "print(x[np.nonzero(x)])"
   ]
  },
  {
   "cell_type": "code",
   "execution_count": 65,
   "metadata": {},
   "outputs": [
    {
     "name": "stdout",
     "output_type": "stream",
     "text": [
      "[[3 0 0]\n",
      " [0 4 0]\n",
      " [5 6 0]]\n",
      "(array([0, 1, 2, 2]), array([0, 1, 0, 1]))\n",
      "[[0 1 2 2]\n",
      " [0 1 0 1]]\n"
     ]
    }
   ],
   "source": [
    "# 二维数组\n",
    "x = np.array([[3, 0, 0], [0, 4, 0], [5, 6, 0]])\n",
    "print(x)\n",
    "print(np.nonzero(x))\n",
    "print(np.array(np.nonzero(x)))"
   ]
  },
  {
   "cell_type": "markdown",
   "metadata": {},
   "source": [
    "#### nonzero()将布尔数组转换成整数数组进行操作"
   ]
  },
  {
   "cell_type": "code",
   "execution_count": 66,
   "metadata": {},
   "outputs": [
    {
     "name": "stdout",
     "output_type": "stream",
     "text": [
      "[[1 2 3]\n",
      " [4 5 6]\n",
      " [7 8 9]]\n"
     ]
    }
   ],
   "source": [
    "x = np.array([[1, 2, 3], [4, 5, 6], [7, 8, 9]])\n",
    "print(x)"
   ]
  },
  {
   "cell_type": "code",
   "execution_count": 69,
   "metadata": {},
   "outputs": [
    {
     "name": "stdout",
     "output_type": "stream",
     "text": [
      "[[False False False]\n",
      " [ True  True  True]\n",
      " [ True  True  True]]\n",
      "[4 5 6 7 8 9]\n"
     ]
    }
   ],
   "source": [
    "print(x>3)\n",
    "print(x[x>3])"
   ]
  },
  {
   "cell_type": "code",
   "execution_count": 68,
   "metadata": {},
   "outputs": [
    {
     "name": "stdout",
     "output_type": "stream",
     "text": [
      "(array([1, 1, 1, 2, 2, 2]), array([0, 1, 2, 0, 1, 2]))\n"
     ]
    }
   ],
   "source": [
    "print(np.nonzero(x>3))"
   ]
  },
  {
   "cell_type": "markdown",
   "metadata": {},
   "source": [
    "### 7) numpy.where\n",
    "- numpy.where(condition, [x=None, y=None]) Return elements chosen from x or y depending on condition."
   ]
  },
  {
   "cell_type": "code",
   "execution_count": 71,
   "metadata": {},
   "outputs": [
    {
     "name": "stdout",
     "output_type": "stream",
     "text": [
      "[0 1 2 3 4 5 6 7 8 9]\n",
      "[ 0  1  2  3  4 50 60 70 80 90]\n"
     ]
    }
   ],
   "source": [
    "# 满足条件，输出x, 不满足输出y\n",
    "x = np.arange(10)\n",
    "print(x)\n",
    "\n",
    "print(np.where(x<5, x, x*10))"
   ]
  },
  {
   "cell_type": "code",
   "execution_count": 72,
   "metadata": {},
   "outputs": [
    {
     "name": "stdout",
     "output_type": "stream",
     "text": [
      "(array([5, 6, 7]),)\n",
      "[6 7 8]\n",
      "********************\n",
      "(array([5, 6, 7]),)\n",
      "[6 7 8]\n",
      "********************\n",
      "(array([3, 3, 3, 3, 3, 4, 4, 4, 4, 4]), array([0, 1, 2, 3, 4, 0, 1, 2, 3, 4]))\n",
      "[26 27 28 29 30 31 32 33 34 35]\n",
      "********************\n",
      "(array([3, 3, 3, 3, 3, 4, 4, 4, 4, 4]), array([0, 1, 2, 3, 4, 0, 1, 2, 3, 4]))\n",
      "[26 27 28 29 30 31 32 33 34 35]\n",
      "********************\n"
     ]
    }
   ],
   "source": [
    "import numpy as np\n",
    "\n",
    "x = np.array([1, 2, 3, 4, 5, 6, 7, 8])\n",
    "y = np.where(x > 5)\n",
    "print(y)\n",
    "print(x[y])\n",
    "print('*'*20)\n",
    "\n",
    "y = np.nonzero(x > 5)\n",
    "print(y)\n",
    "print(x[y])\n",
    "print('*'*20)\n",
    "\n",
    "x = np.array([[11, 12, 13, 14, 15],\n",
    "              [16, 17, 18, 19, 20],\n",
    "              [21, 22, 23, 24, 25],\n",
    "              [26, 27, 28, 29, 30],\n",
    "              [31, 32, 33, 34, 35]])\n",
    "y = np.where(x > 25)\n",
    "print(y)\n",
    "print(x[y])\n",
    "print('*'*20)\n",
    "\n",
    "y = np.nonzero(x > 25)\n",
    "print(y)\n",
    "print(x[y])\n",
    "print('*'*20)"
   ]
  },
  {
   "cell_type": "markdown",
   "metadata": {},
   "source": [
    "### 8) numpy.count_nonzero()\n",
    "- numpy.count_nonzero(a, axis=None) Counts the number of non-zero values in the array a."
   ]
  },
  {
   "cell_type": "code",
   "execution_count": 75,
   "metadata": {},
   "outputs": [
    {
     "name": "stdout",
     "output_type": "stream",
     "text": [
      "[[1. 0. 0. 0.]\n",
      " [0. 1. 0. 0.]\n",
      " [0. 0. 1. 0.]\n",
      " [0. 0. 0. 1.]]\n",
      "4\n",
      "5\n"
     ]
    }
   ],
   "source": [
    "import numpy as np\n",
    "print(np.eye(4))\n",
    "x = np.count_nonzero(np.eye(4))\n",
    "print(x)\n",
    "\n",
    "x = np.count_nonzero([[0, 1, 7, 0, 0], [3, 0, 0, 2, 19]])\n",
    "print(x)"
   ]
  },
  {
   "cell_type": "code",
   "execution_count": 76,
   "metadata": {},
   "outputs": [
    {
     "name": "stdout",
     "output_type": "stream",
     "text": [
      "[1 1 1 1 1]\n"
     ]
    }
   ],
   "source": [
    "x = np.count_nonzero([[0, 1, 7, 0, 0], [3, 0, 0, 2, 19]], axis=0)\n",
    "print(x)"
   ]
  },
  {
   "cell_type": "code",
   "execution_count": 77,
   "metadata": {},
   "outputs": [
    {
     "name": "stdout",
     "output_type": "stream",
     "text": [
      "[2 3]\n"
     ]
    }
   ],
   "source": [
    "x = np.count_nonzero([[0, 1, 7, 0, 0], [3, 0, 0, 2, 19]], axis=1)\n",
    "print(x) "
   ]
  },
  {
   "cell_type": "markdown",
   "metadata": {},
   "source": [
    "## 2. 集合操作"
   ]
  },
  {
   "cell_type": "markdown",
   "metadata": {},
   "source": [
    "### 1）构造集合\n",
    "- numpy.unique(ar, return_index=False, return_inverse=False, return_counts=False, axis=None) Find the unique elements of an array.\n",
    "- return_index=True 表示返回新列表元素在旧列表中的位置。\n",
    "- return_inverse=True表示返回旧列表元素在新列表中的位置。\n",
    "- return_counts=True表示返回新列表元素在旧列表中出现的次数"
   ]
  },
  {
   "cell_type": "code",
   "execution_count": 78,
   "metadata": {},
   "outputs": [
    {
     "name": "stdout",
     "output_type": "stream",
     "text": [
      "[1 2 3]\n"
     ]
    }
   ],
   "source": [
    "import numpy as np\n",
    "x = np.unique([1,2,3,2,1,3])\n",
    "print(x)"
   ]
  },
  {
   "cell_type": "code",
   "execution_count": 79,
   "metadata": {},
   "outputs": [
    {
     "name": "stdout",
     "output_type": "stream",
     "text": [
      "[1 2 3]\n"
     ]
    }
   ],
   "source": [
    "x = np.array([[1,1],[2,3]])\n",
    "print(np.unique(x))      "
   ]
  },
  {
   "cell_type": "code",
   "execution_count": 80,
   "metadata": {},
   "outputs": [
    {
     "name": "stdout",
     "output_type": "stream",
     "text": [
      "[[1 0 0]\n",
      " [2 3 4]]\n"
     ]
    }
   ],
   "source": [
    "x = np.array([[1, 0, 0], [1, 0, 0], [2, 3, 4]])\n",
    "print(np.unique(x, axis=0))"
   ]
  },
  {
   "cell_type": "code",
   "execution_count": 82,
   "metadata": {},
   "outputs": [
    {
     "name": "stdout",
     "output_type": "stream",
     "text": [
      "['a' 'b' 'c']\n",
      "[0 1 3]\n"
     ]
    }
   ],
   "source": [
    "# return_index = True 返回新列表元素在旧列表中的位置\n",
    "x = np.array(['a', 'b', 'b', 'c', 'a'])\n",
    "u, index = np.unique(x, return_index=True)\n",
    "print(u)\n",
    "print(index)"
   ]
  },
  {
   "cell_type": "code",
   "execution_count": 83,
   "metadata": {},
   "outputs": [
    {
     "name": "stdout",
     "output_type": "stream",
     "text": [
      "[1 2 3 4 6]\n",
      "[0 1 4 3 1 2 1]\n"
     ]
    }
   ],
   "source": [
    "# return_inverse=True, 返回旧元素在新列表中的位置\n",
    "x = np.array([1, 2, 6, 4, 2, 3, 2])\n",
    "u, index = np.unique(x, return_inverse=True)\n",
    "print(u)\n",
    "print(index)"
   ]
  },
  {
   "cell_type": "code",
   "execution_count": 84,
   "metadata": {},
   "outputs": [
    {
     "name": "stdout",
     "output_type": "stream",
     "text": [
      "[1 2 3 4 6]\n",
      "[1 3 1 1 1]\n"
     ]
    }
   ],
   "source": [
    "u, count = np.unique(x, return_counts=True)\n",
    "print(u)\n",
    "print(count)"
   ]
  },
  {
   "cell_type": "markdown",
   "metadata": {},
   "source": [
    "### 2) 布尔运算\n",
    "- numpy.in1d(ar1, ar2, assume_unique=False, invert=False) Test whether each element of a 1-D array is also present in a second array. 前面的数组是否包含后面的数组，返回布尔值"
   ]
  },
  {
   "cell_type": "code",
   "execution_count": 85,
   "metadata": {},
   "outputs": [
    {
     "name": "stdout",
     "output_type": "stream",
     "text": [
      "[ True False  True False  True]\n",
      "[0 2 0]\n",
      "[False  True False  True False]\n"
     ]
    }
   ],
   "source": [
    "x = np.array([0,1,2,5,0])\n",
    "s = [0,2]\n",
    "mask = np.in1d(x,s)\n",
    "print(mask)\n",
    "print(x[mask])\n",
    "\n",
    "print(np.in1d(x,s,invert=True))"
   ]
  },
  {
   "cell_type": "markdown",
   "metadata": {},
   "source": [
    "### 3）两个集合的交集\n",
    "- numpy.intersect1d(ar1, ar2, assume_unique=False, return_indices=False) Find the intersection of two arrays.\n",
    "Return the sorted, unique values that are in both of the input arrays."
   ]
  },
  {
   "cell_type": "code",
   "execution_count": 86,
   "metadata": {},
   "outputs": [
    {
     "name": "stdout",
     "output_type": "stream",
     "text": [
      "[1 3]\n"
     ]
    }
   ],
   "source": [
    "x = np.intersect1d([1,3,4,3],[3,1,2,1])\n",
    "print(x)"
   ]
  },
  {
   "cell_type": "code",
   "execution_count": 87,
   "metadata": {},
   "outputs": [],
   "source": [
    "x = np.array([1, 1, 2, 3, 4])\n",
    "y = np.array([2, 1, 4, 6])\n",
    "xy, x_ind, y_ind = np.intersect1d(x, y, return_indices=True)"
   ]
  },
  {
   "cell_type": "code",
   "execution_count": 88,
   "metadata": {},
   "outputs": [
    {
     "name": "stdout",
     "output_type": "stream",
     "text": [
      "[1 2 4]\n",
      "[0 2 4]\n",
      "[1 0 2]\n"
     ]
    }
   ],
   "source": [
    "print(xy)\n",
    "print(x_ind)  \n",
    "print(y_ind)\n"
   ]
  },
  {
   "cell_type": "code",
   "execution_count": 89,
   "metadata": {},
   "outputs": [
    {
     "name": "stdout",
     "output_type": "stream",
     "text": [
      "[1 3]\n"
     ]
    }
   ],
   "source": [
    "from functools import reduce\n",
    "\n",
    "x = reduce(np.intersect1d, ([1,3,4],[3,1,2],[5,1,3]))\n",
    "print(x)"
   ]
  },
  {
   "cell_type": "markdown",
   "metadata": {},
   "source": [
    "### 3）两个集合的并集\n",
    "- numpy.union1d(ar1, ar2) Find the union of two arrays.\n",
    "Return the unique, sorted array of values that are in either of the two input arrays."
   ]
  },
  {
   "cell_type": "code",
   "execution_count": 90,
   "metadata": {},
   "outputs": [
    {
     "name": "stdout",
     "output_type": "stream",
     "text": [
      "[-2 -1  0  1  2]\n",
      "[1 2 3 4 6]\n"
     ]
    }
   ],
   "source": [
    "import numpy as np\n",
    "from functools import reduce\n",
    "\n",
    "x = np.union1d([-1, 0, 1], [-2, 0, 2])\n",
    "print(x)\n",
    "x = reduce(np.union1d, ([1, 3, 4, 3], [3, 1, 2, 1], [6, 3, 4, 2]))\n",
    "print(x) "
   ]
  },
  {
   "cell_type": "markdown",
   "metadata": {},
   "source": [
    "### 4）求两个集合的差集：\n",
    "\n",
    "- `numpy.setdiff1d(ar1, ar2, assume_unique=False)` Find the set difference of two arrays."
   ]
  },
  {
   "cell_type": "code",
   "execution_count": 95,
   "metadata": {},
   "outputs": [
    {
     "name": "stdout",
     "output_type": "stream",
     "text": [
      "[5 6]\n"
     ]
    }
   ],
   "source": [
    "# 集合的差，即元素存在于第一个函数不存在于第二个函数中。\n",
    "import numpy as np\n",
    "\n",
    "a = np.array([1, 2, 3, 2, 4, 1])\n",
    "b = np.array([3, 4, 5, 6])\n",
    "print(np.setdiff1d(b,a))"
   ]
  },
  {
   "cell_type": "markdown",
   "metadata": {},
   "source": [
    "### 5) 求两个集合的异或：\n",
    "- setxor1d(ar1, ar2, assume_unique=False) Find the set exclusive-or of two arrays."
   ]
  },
  {
   "cell_type": "code",
   "execution_count": 96,
   "metadata": {},
   "outputs": [
    {
     "name": "stdout",
     "output_type": "stream",
     "text": [
      "[1 2 5 6]\n"
     ]
    }
   ],
   "source": [
    "# 两个集合交集的补集。也就是两个数组中各自独自拥有的元素的集合。\n",
    "a = np.array([1, 2, 3, 2, 4, 1])\n",
    "b = np.array([3, 4, 5, 6])\n",
    "print(np.setxor1d(a,b))"
   ]
  },
  {
   "cell_type": "code",
   "execution_count": null,
   "metadata": {},
   "outputs": [],
   "source": []
  }
 ],
 "metadata": {
  "kernelspec": {
   "display_name": "Python 3",
   "language": "python",
   "name": "python3"
  },
  "language_info": {
   "codemirror_mode": {
    "name": "ipython",
    "version": 3
   },
   "file_extension": ".py",
   "mimetype": "text/x-python",
   "name": "python",
   "nbconvert_exporter": "python",
   "pygments_lexer": "ipython3",
   "version": "3.7.4"
  }
 },
 "nbformat": 4,
 "nbformat_minor": 2
}
