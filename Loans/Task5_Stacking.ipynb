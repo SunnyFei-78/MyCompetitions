{
 "cells": [
  {
   "cell_type": "markdown",
   "metadata": {},
   "source": [
    "# 模型融合"
   ]
  },
  {
   "cell_type": "markdown",
   "metadata": {},
   "source": [
    "模型融合：将不同的模型进行融合，可能会收获意想不到的效果，往往模型相差越大且模型表现都不错的前提下，模型融合后结果会有大幅提升，\n",
    "以下是模型融合的方式。\n",
    "1. 平均：简单平均法、加权平均法\n",
    "2. 投票：简单投票法、加权投票法\n",
    "3. 综合：排序融合、log融合\n",
    "4. stacking: 构建多层模型，并利用预测结果再拟合预测。\n",
    "5. blending: 选取部分数据预测训练得到预测结果作为新特征，代入剩下的数据中预测。\n",
    "6. boosting/bagging\n"
   ]
  },
  {
   "cell_type": "markdown",
   "metadata": {},
   "source": [
    "## 读取数据"
   ]
  },
  {
   "cell_type": "code",
   "execution_count": 1,
   "metadata": {},
   "outputs": [],
   "source": [
    "import warnings\n",
    "warnings.filterwarnings('ignore')\n",
    "import numpy as np\n",
    "import pandas as pd \n",
    "from tqdm import tqdm\n",
    "from collections import defaultdict  \n",
    "\n",
    "from sklearn.preprocessing import LabelEncoder\n",
    "from sklearn.preprocessing import MinMaxScaler\n",
    "from sklearn.preprocessing import StandardScaler\n",
    "from matplotlib import pyplot as plt\n",
    "%matplotlib inline\n",
    "plt.rc('font', family='SimHei', size=13)\n",
    "import seaborn as sns\n",
    "\n",
    "import xgboost as xgb\n",
    "from xgboost import XGBClassifier\n",
    "import lightgbm as lgbm\n",
    "from lightgbm.sklearn import LGBMClassifier\n",
    "from sklearn.svm import LinearSVC\n",
    "from sklearn.ensemble import RandomForestClassifier, VotingClassifier\n",
    "from sklearn.model_selection import StratifiedKFold, GridSearchCV\n",
    "from sklearn.model_selection import cross_val_score, train_test_split\n",
    "from sklearn.metrics import accuracy_score, f1_score, roc_auc_score, log_loss\n",
    "\n",
    "import pickle as cPickle"
   ]
  },
  {
   "cell_type": "code",
   "execution_count": 2,
   "metadata": {},
   "outputs": [
    {
     "name": "stdout",
     "output_type": "stream",
     "text": [
      "Memory usage of dataframe is 940800128.00 MB\n",
      "Memory usage after optimization is: 229600128.00 MB\n",
      "Decreased by 75.6%\n",
      "Memory usage of dataframe is 235200128.00 MB\n",
      "Memory usage after optimization is: 57400128.00 MB\n",
      "Decreased by 75.6%\n"
     ]
    }
   ],
   "source": [
    "# 通过调整数据类型，帮助我们减少数据在内存中占用的空间\n",
    "def reduce_mem_usage(df):\n",
    "    start_mem = df.memory_usage().sum() \n",
    "    print('Memory usage of dataframe is {:.2f} MB'.format(start_mem))\n",
    "    \n",
    "    for col in df.columns:\n",
    "        col_type = df[col].dtype\n",
    "        \n",
    "        if col_type != object:\n",
    "            c_min = df[col].min()\n",
    "            c_max = df[col].max()\n",
    "            if str(col_type)[:3] == 'int':\n",
    "                if c_min > np.iinfo(np.int8).min and c_max < np.iinfo(np.int8).max:\n",
    "                    df[col] = df[col].astype(np.int8)\n",
    "                elif c_min > np.iinfo(np.int16).min and c_max < np.iinfo(np.int16).max:\n",
    "                    df[col] = df[col].astype(np.int16)\n",
    "                elif c_min > np.iinfo(np.int32).min and c_max < np.iinfo(np.int32).max:\n",
    "                    df[col] = df[col].astype(np.int32)\n",
    "                elif c_min > np.iinfo(np.int64).min and c_max < np.iinfo(np.int64).max:\n",
    "                    df[col] = df[col].astype(np.int64)  \n",
    "            else:\n",
    "                if c_min > np.finfo(np.float16).min and c_max < np.finfo(np.float16).max:\n",
    "                    df[col] = df[col].astype(np.float16)\n",
    "                elif c_min > np.finfo(np.float32).min and c_max < np.finfo(np.float32).max:\n",
    "                    df[col] = df[col].astype(np.float32)\n",
    "                else:\n",
    "                    df[col] = df[col].astype(np.float64)\n",
    "        else:\n",
    "            df[col] = df[col].astype('category')\n",
    "\n",
    "    end_mem = df.memory_usage().sum() \n",
    "    print('Memory usage after optimization is: {:.2f} MB'.format(end_mem))\n",
    "    print('Decreased by {:.1f}%'.format(100 * (start_mem - end_mem) / start_mem))\n",
    "    \n",
    "    return df\n",
    "\n",
    "train = reduce_mem_usage(pd.read_csv('./train_data_v1.csv'))\n",
    "test = reduce_mem_usage(pd.read_csv('./test_data_v1.csv'))\n",
    "\n",
    "train_y = train['isDefault']\n",
    "train_X = train.drop(['isDefault'], axis=1)\n",
    "test = test.drop(['isDefault'], axis=1)\n",
    "\n",
    "feat_names = train_X.columns \n",
    "skf = StratifiedKFold(n_splits=5, shuffle=True, random_state=2020)"
   ]
  },
  {
   "cell_type": "markdown",
   "metadata": {},
   "source": [
    "## 1. 加权平均\n",
    "简单加权平均：结果直接融合，求多个预测结果的平均值。pre1-pren分别是n组模型预测出来的结果，将其进行加权融\n",
    "加权平均法：一般根据之前预测模型的准确率，进行加权融合，将准确性高的模型赋予更高的权重。"
   ]
  },
  {
   "cell_type": "code",
   "execution_count": 4,
   "metadata": {},
   "outputs": [],
   "source": [
    "# 把lightGBM模型和nn模型加权平均后，结果从之前的0.7271提升到了0.7330，提升幅度很大。\n",
    "import pandas as pd\n",
    "\n",
    "r1 = pd.read_csv('../submission_0923_v1.csv')\n",
    "r2 = pd.read_csv('../submission_nn_7270.csv')\n",
    "\n",
    "sub = pd.DataFrame()\n",
    "sub['id'] = r1.index\n",
    "sub['isDefault'] = 0.5 * r1['isDefault'] + 0.5 * r2['isDefault']\n",
    "sub.to_csv('../submission_0925_mean_v2.csv', index=False)"
   ]
  },
  {
   "cell_type": "markdown",
   "metadata": {},
   "source": [
    "## 2. Voting投票机制\n",
    "\n",
    "Voting即投票机制，分为软投票和硬投票两种，其原理采用少数服从多数的思想"
   ]
  },
  {
   "cell_type": "code",
   "execution_count": 6,
   "metadata": {},
   "outputs": [],
   "source": [
    "# 数据集划分\n",
    "X_train_split, X_val, y_train_split, y_val = train_test_split(train_X, train_y, test_size=0.2, random_state=2020)"
   ]
  },
  {
   "cell_type": "code",
   "execution_count": null,
   "metadata": {},
   "outputs": [],
   "source": [
    "'''\n",
    "硬投票：对多个模型直接进行投票，不区分模型结果的相对重要度，最终投票数最多的类为最终被预测的类。\n",
    "'''\n",
    "# 数据集划分\n",
    "X_train_split, X_val, y_train_split, y_val = train_test_split(train_X, train_y, test_size=0.2)\n",
    "train_data = lgbm.Dataset(X_train_split, label=y_train_split)\n",
    "valid_data = lgbm.Dataset(X_val, label=y_val)\n",
    "\n",
    "clf1 = SVC(C=0.1)\n",
    "clf2 = RandomForestClassifier(n_estimators=5000, max_depth=8, min_samples_split=4,\n",
    "                              min_samples_leaf=40,oob_score=True)\n",
    "clf3 = LGBMClassifier(objective='binary',boosting_type='gbdt',learning_rate=0.05, n_estimators=10000, \n",
    "                      max_depth=7, num_leaves = 40, min_child_samples=30, \n",
    "                      subsample=0.9, subsample_freq=1,colsample_bytree=0.7,\n",
    "                      reg_alpha=16, reg_lambda=30,num_threads=16)\n",
    " \n",
    "# 硬投票\n",
    "eclf = VotingClassifier(estimators=[('svc', clf1), ('rf', clf2), ('lgb', clf3)],voting='hard')\n",
    "for clf, label in zip([clf1, clf2, clf3, eclf], ['SVM', 'Random Forest', 'LightGBM', 'Ensemble']):\n",
    "    scores = cross_val_score(clf, train_X, train_y, cv=5, scoring='roc_auc')\n",
    "    print(\"AUC: %0.2f (+/- %0.2f) [%s]\" % (scores.mean(), scores.std(), label))\n",
    "    \n",
    "# vclf = vclf.fit(train_X,train_y)\n",
    "# print(vclf.predict(test))"
   ]
  },
  {
   "cell_type": "code",
   "execution_count": null,
   "metadata": {},
   "outputs": [
    {
     "name": "stdout",
     "output_type": "stream",
     "text": [
      "[Parallel(n_jobs=1)]: Using backend SequentialBackend with 1 concurrent workers.\n",
      "[CV]  ................................................................\n",
      "[LibSVM]"
     ]
    }
   ],
   "source": [
    "'''\n",
    "软投票：和硬投票原理相同，增加了设置权重的功能，可以为不同模型设置不同权重，进而区别模型不同的重要度。\n",
    "'''\n",
    "clf1 = SVC(C=0.1, probability=True,verbose=100,n_jobs=-1)\n",
    "clf2 = RandomForestClassifier(n_estimators=5000, max_depth=8, min_samples_split=4,\n",
    "                              min_samples_leaf=40,oob_score=True,verbose=100,n_jobs=-1)\n",
    "clf3 = LGBMClassifier(objective='binary',boosting_type='gbdt',learning_rate=0.05, n_estimators=5000, \n",
    "                      max_depth=7, num_leaves = 40, min_child_samples=30, \n",
    "                      subsample=0.9, subsample_freq=1,colsample_bytree=0.7,\n",
    "                      reg_alpha=16, reg_lambda=30,num_threads=16,verbose=100,n_jobs=-1)\n",
    " \n",
    "# 硬投票\n",
    "eclf = VotingClassifier(estimators=[('svc', clf1), ('rf', clf2), ('lgb', clf3)],voting='soft', weights=[1,1,2])\n",
    "for clf, label in zip([clf1, clf2, clf3, eclf], ['SVM', 'Random Forest', 'LightGBM', 'Ensemble']):\n",
    "    scores = cross_val_score(clf, train_X, train_y, cv=5, scoring='roc_auc',verbose=100)\n",
    "    print(\"AUC: %0.2f (+/- %0.2f) [%s]\" % (scores.mean(), scores.std(), label))\n"
   ]
  },
  {
   "cell_type": "markdown",
   "metadata": {},
   "source": [
    "### SVM模型"
   ]
  },
  {
   "cell_type": "code",
   "execution_count": null,
   "metadata": {},
   "outputs": [],
   "source": [
    "#单组超参数情况，模型在训练集上训练，在校验集上的测试的测试性能\n",
    "def fit_grid_point_Linear(C, train_X, train_y, X_val, y_val):\n",
    "    SVC2 =  LinearSVC(C = C)\n",
    "    SVC2 = SVC2.fit(train_X, train_y)\n",
    "\n",
    "#   accuracy = SVC2.score(X_val, y_val)\n",
    "    pred_val = SVC2.predict(X_val)\n",
    "    auc = metrics.roc_auc_score(y_val, pred_val)\n",
    "    \n",
    "    print(\"C= {} : auc= {} \".format(C, auc))\n",
    "    return auc\n",
    "\n",
    "#SVM太慢，每次只调一个参数（这里只调C，penalty为‘l2'）\n",
    "C_s = np.logspace(-1, 3, 4) # logspace(a,b,N)把10的a次方到10的b次方区间分成N份  \n",
    "\n",
    "auc_scores = []\n",
    "for i, one in enumerate(C_s):\n",
    "    tmp = fit_grid_point_Linear(one, X_train_split, y_train_split, X_val, y_val)\n",
    "    auc_scores.append(tmp)\n",
    "\n",
    "x_axis = np.log10(C_s)\n",
    "plt.plot(x_axis, np.array(auc_scores), 'b-')\n",
    "    \n",
    "plt.legend()\n",
    "plt.xlabel('log(C)')                                                                                                      \n",
    "plt.ylabel('accuracy')\n",
    "plt.show()"
   ]
  },
  {
   "cell_type": "markdown",
   "metadata": {},
   "source": [
    "以上超参数结果显示，C=1000时auc分数最高"
   ]
  },
  {
   "cell_type": "markdown",
   "metadata": {},
   "source": [
    "## 随机森林模型"
   ]
  },
  {
   "cell_type": "markdown",
   "metadata": {},
   "source": [
    "随机森林的超参会有很多：\n",
    "Bagging参数：\n",
    "1. 树的数目n_estimators\n",
    "\n",
    "与决策树的共同的超参数：\n",
    "1. max_depth（树的深度）或max_leaf_nodes（叶子结点的数目）；\n",
    "2. min_samples_leaf（叶子结点的最小样本数）、min_samples_split（中间结点的最小样本树）、min_weight_fraction_leaf（叶子节点的样本权重占总权重的比例）\n",
    "3. max_features（最大特征数目）。与决策树max_features通常越大模型性能越好不同，随机森林中max_features较小，每个基学习器之间的相关性更小，集成模型的性能可能反而会更好；\n",
    "\n",
    "另外在随机森林中，由于学习每个基学习器只用了一部分样本，可用其余样本（包外样本）做校验，从而不必显式进行交叉验证。\n",
    "设置参数oob_score=True"
   ]
  },
  {
   "cell_type": "code",
   "execution_count": 7,
   "metadata": {},
   "outputs": [],
   "source": [
    "# 1.首先调优的参数 n_estimators\n",
    "tuned_n_estimators = range(200,300,20)\n",
    "accuracy_s = np.zeros(len(tuned_n_estimators))\n",
    "\n",
    "#初始max_depth设为单棵树的max_depth，max_features比推荐值sqrt(144)=12略大,\n",
    "for j, one in enumerate(tuned_n_estimators):\n",
    "    RF2 = RandomForestClassifier(n_estimators=one, max_depth=10, max_features=20, min_samples_leaf=30,oob_score=True,n_jobs=-1,random_state=33)\n",
    "    RF2.fit(train_X, train_y)\n",
    "    accuracy_s[j] = RF2.oob_score_"
   ]
  },
  {
   "cell_type": "code",
   "execution_count": 10,
   "metadata": {},
   "outputs": [
    {
     "data": {
      "text/plain": [
       "Text(0, 0.5, 'accuracy')"
      ]
     },
     "execution_count": 10,
     "metadata": {},
     "output_type": "execute_result"
    },
    {
     "name": "stderr",
     "output_type": "stream",
     "text": [
      "findfont: Font family ['sans-serif'] not found. Falling back to DejaVu Sans.\n",
      "findfont: Font family ['sans-serif'] not found. Falling back to DejaVu Sans.\n"
     ]
    },
    {
     "data": {
      "image/png": "[encoded data removed]",
      "text/plain": [
       "<Figure size 432x288 with 1 Axes>"
      ]
     },
     "metadata": {
      "needs_background": "light"
     },
     "output_type": "display_data"
    }
   ],
   "source": [
    "plt.plot(tuned_n_estimators, accuracy_s)\n",
    "plt.xlabel('n_estimators')                                                                                                      \n",
    "plt.ylabel('accuracy')"
   ]
  },
  {
   "cell_type": "code",
   "execution_count": 11,
   "metadata": {},
   "outputs": [
    {
     "data": {
      "text/plain": [
       "array([0.803825  , 0.803875  , 0.80385875, 0.80386   , 0.8038275 ])"
      ]
     },
     "execution_count": 11,
     "metadata": {},
     "output_type": "execute_result"
    }
   ],
   "source": [
    "# 选择参数n_estimators=220\n",
    "accuracy_s"
   ]
  },
  {
   "cell_type": "code",
   "execution_count": 3,
   "metadata": {},
   "outputs": [],
   "source": [
    "# 2.需要调优的参数 max_features\n",
    "tuned_parameters = range(14,30,2)\n",
    "accuracy_s = np.zeros(len(tuned_parameters))\n",
    "\n",
    "for j, one_parameter in enumerate(tuned_parameters):\n",
    "    RF2 = RandomForestClassifier(n_estimators = 220, max_features =one_parameter,oob_score=True,n_jobs=4,random_state=33)\n",
    "    RF2.fit(train_X, train_y)\n",
    "    accuracy_s[j] = RF2.oob_score_ "
   ]
  },
  {
   "cell_type": "code",
   "execution_count": 4,
   "metadata": {},
   "outputs": [
    {
     "name": "stderr",
     "output_type": "stream",
     "text": [
      "findfont: Font family ['sans-serif'] not found. Falling back to DejaVu Sans.\n"
     ]
    },
    {
     "name": "stdout",
     "output_type": "stream",
     "text": [
      "[0.8034575  0.80364875 0.80329625 0.80345875 0.80345375 0.8033175\n",
      " 0.80329875 0.80312125]\n"
     ]
    },
    {
     "data": {
      "image/png": "[encoded data removed]",
      "text/plain": [
       "<Figure size 432x288 with 1 Axes>"
      ]
     },
     "metadata": {
      "needs_background": "light"
     },
     "output_type": "display_data"
    }
   ],
   "source": [
    "plt.plot(tuned_parameters, accuracy_s)\n",
    "print(accuracy_s)"
   ]
  },
  {
   "cell_type": "markdown",
   "metadata": {},
   "source": [
    "以上结果显示max_features=16时效果最好"
   ]
  },
  {
   "cell_type": "code",
   "execution_count": 3,
   "metadata": {},
   "outputs": [
    {
     "name": "stderr",
     "output_type": "stream",
     "text": [
      "findfont: Font family ['sans-serif'] not found. Falling back to DejaVu Sans.\n"
     ]
    },
    {
     "name": "stdout",
     "output_type": "stream",
     "text": [
      "[0.80444625 0.80363375 0.80369875]\n"
     ]
    },
    {
     "data": {
      "image/png": "[encoded data removed]",
      "text/plain": [
       "<Figure size 432x288 with 1 Axes>"
      ]
     },
     "metadata": {
      "needs_background": "light"
     },
     "output_type": "display_data"
    }
   ],
   "source": [
    "# 3.需要调优的参数 max_depth\n",
    "tuned_parameters = range(20,50,10)\n",
    "accuracy_s = np.zeros(len(tuned_parameters))\n",
    "\n",
    "for j, one_parameter in enumerate(tuned_parameters):\n",
    "    RF2 = RandomForestClassifier(n_estimators = 220, max_features = 16, max_depth =one_parameter,oob_score=True,n_jobs=-1,random_state=33)\n",
    "    RF2.fit(train_X, train_y)\n",
    "    accuracy_s[j] = RF2.oob_score_  \n",
    "    \n",
    "plt.plot(tuned_parameters, accuracy_s)\n",
    "print(accuracy_s)"
   ]
  },
  {
   "cell_type": "markdown",
   "metadata": {},
   "source": [
    "以上结果显示max_depth=20时效果最好，但是20是左侧边缘，所以继续调试"
   ]
  },
  {
   "cell_type": "code",
   "execution_count": 4,
   "metadata": {},
   "outputs": [
    {
     "name": "stdout",
     "output_type": "stream",
     "text": [
      "[0.8037175  0.80458875]\n"
     ]
    },
    {
     "data": {
      "image/png": "[encoded data removed]",
      "text/plain": [
       "<Figure size 432x288 with 1 Axes>"
      ]
     },
     "metadata": {
      "needs_background": "light"
     },
     "output_type": "display_data"
    }
   ],
   "source": [
    "# 3.再次调优的参数 max_depth\n",
    "tuned_parameters = range(10,20,5)\n",
    "accuracy_s = np.zeros(len(tuned_parameters))\n",
    "\n",
    "for j, one_parameter in enumerate(tuned_parameters):\n",
    "    RF2 = RandomForestClassifier(n_estimators = 220, max_features = 16, max_depth =one_parameter,oob_score=True,n_jobs=-1,random_state=33)\n",
    "    RF2.fit(train_X, train_y)\n",
    "    accuracy_s[j] = RF2.oob_score_  \n",
    "    \n",
    "plt.plot(tuned_parameters, accuracy_s)\n",
    "print(accuracy_s)"
   ]
  },
  {
   "cell_type": "markdown",
   "metadata": {},
   "source": [
    "以上结果显示max_depth=15时效果最好，选择15"
   ]
  },
  {
   "cell_type": "code",
   "execution_count": 6,
   "metadata": {},
   "outputs": [
    {
     "name": "stdout",
     "output_type": "stream",
     "text": [
      "0.80471\n",
      "0.8045125\n",
      "0.8046775\n",
      "0.80469\n",
      "0.80475625\n"
     ]
    },
    {
     "data": {
      "text/plain": [
       "[<matplotlib.lines.Line2D at 0x7f1d348de630>]"
      ]
     },
     "execution_count": 6,
     "metadata": {},
     "output_type": "execute_result"
    },
    {
     "data": {
      "image/png": "[encoded data removed]",
      "text/plain": [
       "<Figure size 432x288 with 1 Axes>"
      ]
     },
     "metadata": {
      "needs_background": "light"
     },
     "output_type": "display_data"
    }
   ],
   "source": [
    "# 4. 需要调优的参数 min_samples_leaf\n",
    "tuned_parameters = range(1,10,2)\n",
    "accuracy_s = np.zeros(len(tuned_parameters))\n",
    "\n",
    "for j, one_parameter in enumerate(tuned_parameters):\n",
    "    RF2 = RandomForestClassifier(n_estimators=220, max_features=16, max_depth=15, n_jobs=-1,\n",
    "                                 min_samples_leaf = one_parameter, oob_score=True, random_state=33)\n",
    "    RF2.fit(train_X, train_y)\n",
    "    accuracy_s[j] = RF2.oob_score_ \n",
    "    print(accuracy_s[j])\n",
    "plt.plot(tuned_parameters, accuracy_s)"
   ]
  },
  {
   "cell_type": "code",
   "execution_count": 7,
   "metadata": {},
   "outputs": [
    {
     "name": "stdout",
     "output_type": "stream",
     "text": [
      "0.80475875\n",
      "0.80472\n",
      "0.80467\n"
     ]
    },
    {
     "data": {
      "text/plain": [
       "[<matplotlib.lines.Line2D at 0x7f1d34966588>]"
      ]
     },
     "execution_count": 7,
     "metadata": {},
     "output_type": "execute_result"
    },
    {
     "data": {
      "image/png": "[encoded data removed]",
      "text/plain": [
       "<Figure size 432x288 with 1 Axes>"
      ]
     },
     "metadata": {
      "needs_background": "light"
     },
     "output_type": "display_data"
    }
   ],
   "source": [
    "#需要调优的参数 min_samples_leaf\n",
    "tuned_parameters = range(10,15,2)\n",
    "accuracy_s = np.zeros(len(tuned_parameters))\n",
    "\n",
    "for j, one_parameter in enumerate(tuned_parameters):\n",
    "    RF2 = RandomForestClassifier(n_estimators = 220, max_features = 16, max_depth =16, n_jobs=-1,\n",
    "                                 min_samples_leaf = one_parameter, oob_score=True, random_state=33)\n",
    "    RF2.fit(train_X, train_y)\n",
    "    accuracy_s[j] = RF2.oob_score_ \n",
    "    print(accuracy_s[j])\n",
    "plt.plot(tuned_parameters, accuracy_s)"
   ]
  },
  {
   "cell_type": "markdown",
   "metadata": {},
   "source": [
    "以上结果显示min_samples_leaf=9时，效果最好。最后用调试好的参数重新训练所有训练数据，生成模型，保存模型。"
   ]
  },
  {
   "cell_type": "code",
   "execution_count": 8,
   "metadata": {},
   "outputs": [
    {
     "ename": "ModuleNotFoundError",
     "evalue": "No module named 'cPickle'",
     "output_type": "error",
     "traceback": [
      "\u001b[0;31m---------------------------------------------------------------------------\u001b[0m",
      "\u001b[0;31mModuleNotFoundError\u001b[0m                       Traceback (most recent call last)",
      "\u001b[0;32m<ipython-input-8-610b0e1e9bd2>\u001b[0m in \u001b[0;36m<module>\u001b[0;34m\u001b[0m\n\u001b[1;32m      3\u001b[0m \u001b[0mRF2\u001b[0m\u001b[0;34m.\u001b[0m\u001b[0mfit\u001b[0m\u001b[0;34m(\u001b[0m\u001b[0mtrain_X\u001b[0m\u001b[0;34m,\u001b[0m \u001b[0mtrain_y\u001b[0m\u001b[0;34m)\u001b[0m\u001b[0;34m\u001b[0m\u001b[0;34m\u001b[0m\u001b[0m\n\u001b[1;32m      4\u001b[0m \u001b[0;34m\u001b[0m\u001b[0m\n\u001b[0;32m----> 5\u001b[0;31m \u001b[0;32mimport\u001b[0m \u001b[0mcPickle\u001b[0m\u001b[0;34m\u001b[0m\u001b[0;34m\u001b[0m\u001b[0m\n\u001b[0m\u001b[1;32m      6\u001b[0m \u001b[0mcPickle\u001b[0m\u001b[0;34m.\u001b[0m\u001b[0mdump\u001b[0m\u001b[0;34m(\u001b[0m\u001b[0mRF2\u001b[0m\u001b[0;34m,\u001b[0m \u001b[0mopen\u001b[0m\u001b[0;34m(\u001b[0m\u001b[0;34m\"./Model/model_randomForest.pkl\"\u001b[0m\u001b[0;34m,\u001b[0m \u001b[0;34m'wb'\u001b[0m\u001b[0;34m)\u001b[0m\u001b[0;34m)\u001b[0m\u001b[0;34m\u001b[0m\u001b[0;34m\u001b[0m\u001b[0m\n",
      "\u001b[0;31mModuleNotFoundError\u001b[0m: No module named 'cPickle'"
     ]
    }
   ],
   "source": [
    "RF2 = RandomForestClassifier(n_estimators = 220, max_features = 16, max_depth =16, min_samples_leaf = 10,\n",
    "                             n_jobs=-1,random_state=33)\n",
    "RF2.fit(train_X, train_y)"
   ]
  },
  {
   "cell_type": "code",
   "execution_count": 10,
   "metadata": {},
   "outputs": [
    {
     "data": {
      "text/html": [
       "<div>\n",
       "<style scoped>\n",
       "    .dataframe tbody tr th:only-of-type {\n",
       "        vertical-align: middle;\n",
       "    }\n",
       "\n",
       "    .dataframe tbody tr th {\n",
       "        vertical-align: top;\n",
       "    }\n",
       "\n",
       "    .dataframe thead th {\n",
       "        text-align: right;\n",
       "    }\n",
       "</style>\n",
       "<table border=\"1\" class=\"dataframe\">\n",
       "  <thead>\n",
       "    <tr style=\"text-align: right;\">\n",
       "      <th></th>\n",
       "      <th>columns</th>\n",
       "      <th>importance</th>\n",
       "    </tr>\n",
       "  </thead>\n",
       "  <tbody>\n",
       "    <tr>\n",
       "      <td>34</td>\n",
       "      <td>subGrade</td>\n",
       "      <td>6.188997e-02</td>\n",
       "    </tr>\n",
       "    <tr>\n",
       "      <td>12</td>\n",
       "      <td>interestRate</td>\n",
       "      <td>5.984198e-02</td>\n",
       "    </tr>\n",
       "    <tr>\n",
       "      <td>8</td>\n",
       "      <td>grade</td>\n",
       "      <td>4.143406e-02</td>\n",
       "    </tr>\n",
       "    <tr>\n",
       "      <td>49</td>\n",
       "      <td>grade_count</td>\n",
       "      <td>3.823504e-02</td>\n",
       "    </tr>\n",
       "    <tr>\n",
       "      <td>50</td>\n",
       "      <td>subGrade_count</td>\n",
       "      <td>3.477597e-02</td>\n",
       "    </tr>\n",
       "    <tr>\n",
       "      <td>...</td>\n",
       "      <td>...</td>\n",
       "      <td>...</td>\n",
       "    </tr>\n",
       "    <tr>\n",
       "      <td>145</td>\n",
       "      <td>purpose_13</td>\n",
       "      <td>9.022560e-07</td>\n",
       "    </tr>\n",
       "    <tr>\n",
       "      <td>127</td>\n",
       "      <td>homeOwnership_4</td>\n",
       "      <td>0.000000e+00</td>\n",
       "    </tr>\n",
       "    <tr>\n",
       "      <td>126</td>\n",
       "      <td>homeOwnership_3</td>\n",
       "      <td>0.000000e+00</td>\n",
       "    </tr>\n",
       "    <tr>\n",
       "      <td>27</td>\n",
       "      <td>policyCode</td>\n",
       "      <td>0.000000e+00</td>\n",
       "    </tr>\n",
       "    <tr>\n",
       "      <td>16</td>\n",
       "      <td>n11</td>\n",
       "      <td>0.000000e+00</td>\n",
       "    </tr>\n",
       "  </tbody>\n",
       "</table>\n",
       "<p>146 rows × 2 columns</p>\n",
       "</div>"
      ],
      "text/plain": [
       "             columns    importance\n",
       "34          subGrade  6.188997e-02\n",
       "12      interestRate  5.984198e-02\n",
       "8              grade  4.143406e-02\n",
       "49       grade_count  3.823504e-02\n",
       "50    subGrade_count  3.477597e-02\n",
       "..               ...           ...\n",
       "145       purpose_13  9.022560e-07\n",
       "127  homeOwnership_4  0.000000e+00\n",
       "126  homeOwnership_3  0.000000e+00\n",
       "27        policyCode  0.000000e+00\n",
       "16               n11  0.000000e+00\n",
       "\n",
       "[146 rows x 2 columns]"
      ]
     },
     "execution_count": 10,
     "metadata": {},
     "output_type": "execute_result"
    }
   ],
   "source": [
    "# 显示特征重要性\n",
    "import pickle as cPickle \n",
    "cPickle.dump(RF2, open(\"./model_randomForest.pkl\", 'wb'))\n",
    "df = pd.DataFrame({\"columns\":list(feat_names), \"importance\":list(RF2.feature_importances_.T)})\n",
    "df = df.sort_values(by=['importance'],ascending=False)\n",
    "df"
   ]
  },
  {
   "cell_type": "code",
   "execution_count": null,
   "metadata": {},
   "outputs": [],
   "source": [
    "### 随机森林的概率校准\n",
    "# 诸如bagging 和 random forests（随机森林）的方法， 从基本模型的平均预测中可能难以将预测置于 0 和 1 附近，\n",
    "# 因此对其结果输出做概率校准，得到的每类概率输出会更好\n",
    "from sklearn.calibration import CalibratedClassifierCV\n",
    "\n",
    "CalibratedRF = CalibratedClassifierCV(base_estimator=RF2, cv=5)\n",
    "CalibratedRF.fit(train_X, train_y)"
   ]
  },
  {
   "cell_type": "markdown",
   "metadata": {},
   "source": [
    "## XGBoost模型"
   ]
  },
  {
   "cell_type": "code",
   "execution_count": null,
   "metadata": {},
   "outputs": [],
   "source": [
    "XGBoost的主要超参数包括：\n",
    "1. 树的数目n_estimators 和 学习率 learning_rate\n",
    "2. 树的最大深度max_depth\n",
    "3. 叶子结点的最小样本数:min_child_weight\n",
    "4. 每棵树的列采样比例：colsample_bytree\n",
    "5. 每棵树的行采样比例：subsample\n",
    "6. 正则化参数lambda_l1(reg_alpha), lambda_l2(reg_lambda)\n",
    "\n",
    "对n_estimators，XGBoost学习的过程内嵌了cv，速度快。\n",
    "其他参数用GridSearchCV。"
   ]
  },
  {
   "cell_type": "code",
   "execution_count": null,
   "metadata": {},
   "outputs": [],
   "source": [
    "from xgboost import XGBClassifier\n",
    "import xgboost as xgb\n",
    "from scipy.sparse import csr_matrix\n",
    "X_train = csr_matrix(X_train)"
   ]
  },
  {
   "cell_type": "code",
   "execution_count": null,
   "metadata": {},
   "outputs": [],
   "source": [
    "## 第一步：学习率为0.1，粗调基学习器的数目n_estimators\n",
    "MAX_ROUNDS = 10000\n",
    "\n",
    "#直接调用xgboost内嵌的交叉验证（cv），可对连续的n_estimators参数进行快速交叉验证\n",
    "#而GridSearchCV只能对有限个参数进行交叉验证\n",
    "def get_n_estimators(params, X_train , y_train , early_stopping_rounds=10):\n",
    "    xgb_params = params.copy()\n",
    "    \n",
    "    #直接调用xgboost，而非sklarn的wrapper类\n",
    "    xgb_train = xgb.DMatrix(X_train, label = y_train)\n",
    "        \n",
    "    cvresult = xgb.cv(xgb_params, xgb_train, num_boost_round=MAX_ROUNDS, nfold=3,\n",
    "             metrics='mlogloss', early_stopping_rounds=early_stopping_rounds,seed=3)\n",
    "  \n",
    "    cvresult.to_csv('1_nestimators.csv', index_label = 'n_estimators')\n",
    "    \n",
    "    #最佳参数n_estimators\n",
    "    n_estimators = cvresult.shape[0]\n",
    "    \n",
    "         \n",
    "    print('best n_estimators:' , n_estimators)\n",
    "    print('best cv score:' , cvresult['test-mlogloss-mean'][n_estimators-1])\n",
    "     \n",
    "    return n_estimators\n",
    "\n",
    "params = {'learning_rate': 0.1,\n",
    "          #'n_estimators': 1000\n",
    "          'min_child_weight': 1,\n",
    "          'max_depth': 5,\n",
    "          'subsample': 0.7,\n",
    "          'colsample_bytree': 0.7,\n",
    "          'objective': 'multi:softprob',\n",
    "          'num_class':9,\n",
    "          'n_jobs': 4\n",
    "         }\n",
    "\n",
    "n_estimators_1 = get_n_estimators(params , X_train , y_train)"
   ]
  },
  {
   "cell_type": "markdown",
   "metadata": {},
   "source": [
    "## 第二步：调整树的参数：max_depth & min_child_weight\n",
    "这两个参数尽可能一起调，因为max_depth和min_child_weight都直接影响树模型的复杂度。\n",
    "如果计算资源有限，也可类似坐标轴下降，先调其中一个，然后调另一个。\n",
    "如果是分类任务，且不同类的样本数目不均衡，最好先调min_child_weight，以免max_depth对少数类样本过拟合。\n",
    "\n",
    " 粗调，参数的步长为2。XGBoost的训练过程很慢，超参数调优无法很好进行。"
   ]
  },
  {
   "cell_type": "code",
   "execution_count": null,
   "metadata": {},
   "outputs": [],
   "source": [
    "#max_depth 建议3-10， min_child_weight=1／sqrt(ratio_rare_event) =5.5\n",
    "max_depth = range(5,10,2)\n",
    "min_child_weight = range(1,10,1)\n",
    "tuned_params = dict(max_depth=max_depth, min_child_weight=min_child_weight)\n",
    "\n",
    "params = {'learning_rate': 0.1,\n",
    "          'n_estimators': 636,   #第一轮参数调整得到的n_estimators最优值\n",
    "          #'min_child_weight': 1,\n",
    "          #'max_depth': 5,\n",
    "          'subsample': 0.8,\n",
    "          'colsample_bytree': 0.6,\n",
    "          'objective': 'binary:logistic',\n",
    "          'nthread': 4\n",
    "         }\n",
    "\n",
    "xgb_g = XGBClassifier(silent=False,  **params)\n",
    "grid_search = GridSearchCV(xgb_g, param_grid=tuned_params, scoring='roc_auc',n_jobs=4, cv=5,verbose=10, refit = False)\n",
    "grid_search.fit(X_train , y_train)"
   ]
  },
  {
   "cell_type": "markdown",
   "metadata": {},
   "source": [
    "选择最佳参数max_depth=7, min_child_weight=9 "
   ]
  },
  {
   "cell_type": "code",
   "execution_count": null,
   "metadata": {},
   "outputs": [],
   "source": [
    "## 最后，用树的最佳参数，再次调整学习率和基学习器的数目\n",
    "params = {'num_class':9,\n",
    "          'learning_rate': 0.05,\n",
    "          #'n_estimators': 636,   #第一轮参数调整得到的n_estimators最优值\n",
    "          'min_child_weight': 3,\n",
    "          'max_depth': 5,\n",
    "          'subsample': 0.8,\n",
    "          'colsample_bytree': 0.7,\n",
    "          'reg_lambda':2,\n",
    "          'reg_alpha':1,\n",
    "          'objective': 'binary:logistic',\n",
    "          'nthread': 4\n",
    "         }\n",
    "\n",
    "n_estimators_2 = get_n_estimators(params , X_train , y_train)"
   ]
  },
  {
   "cell_type": "markdown",
   "metadata": {},
   "source": [
    "## 3. 分类的Stacking\\Blending融合：\n",
    "\n",
    "stacking是一种分层模型集成框架。以两层为例，第一层由多个基学习器组成，其输入为原始训练集，第二层的模型则是以第一层基学习器的输出作为训练集进行再训练，从而得到完整的stacking模型, stacking两层模型都使用了全部的训练数据。\n",
    "\n"
   ]
  },
  {
   "cell_type": "code",
   "execution_count": null,
   "metadata": {},
   "outputs": [],
   "source": [
    "''' 五折Stacking'''\n",
    "from sklearn.ensemble import RandomForestClassifier\n",
    "from sklearn.ensemble import ExtraTreesClassifier,GradientBoostingClassifier\n",
    "\n",
    "#模型融合中使用到的各个单模型\n",
    "# clfs = [ExtraTreesClassifier(n_estimators=5, n_jobs=-1, criterion='entropy'),\n",
    "#         GradientBoostingClassifier(learning_rate=0.05, subsample=0.9, max_depth=7, n_estimators=5000),\n",
    "#         LGBMClassifier(objective='binary',boosting_type='gbdt',learning_rate=0.05, n_estimators=5000, \n",
    "#                       max_depth=7, num_leaves = 40, min_child_samples=30, \n",
    "#                       subsample=0.9, subsample_freq=1,colsample_bytree=0.7,\n",
    "#                       reg_alpha=16, reg_lambda=30,num_threads=16,verbose=100)]\n",
    "clfs = [\n",
    "        RandomForestClassifier(n_estimators=220, max_features=16, max_depth=16, min_samples_leaf=10,\n",
    "                              oob_score=True, random_state=2020),\n",
    "        LGBMClassifier(objective='binary', boosting_type='gbdt',learning_rate=0.05, n_estimators=10000, \n",
    "                      max_depth=7, num_leaves=40, min_child_samples=30, \n",
    "                      subsample=0.9, subsample_freq=1, colsample_bytree=0.7,\n",
    "                      reg_alpha=16, reg_lambda=30,num_threads=16,verbose=100)]\n",
    "\n",
    "#切分一部分数据作为测试集\n",
    "X, X_predict, y, y_predict = train_test_split(train_X, train_y, test_size=0.2, random_state=2020)\n",
    "\n",
    "dataset_blend_train = np.zeros((X.shape[0], len(clfs)))\n",
    "dataset_blend_test = np.zeros((X_predict.shape[0], len(clfs)))\n",
    "\n",
    "#5折stacking\n",
    "n_splits = 5\n",
    "skf = StratifiedKFold(n_splits)\n",
    "skf = skf.split(X, y)\n",
    "\n",
    "for j, clf in enumerate(clfs):\n",
    "    #依次训练各个单模型\n",
    "    dataset_blend_test_j = np.zeros((X_predict.shape[0], 5))\n",
    "    for i, (train, test) in enumerate(skf):\n",
    "        #5-Fold交叉训练，使用第i个部分作为预测，剩余的部分来训练模型，获得其预测的输出作为第i部分的新特征。\n",
    "        X_train, y_train, X_test, y_test = X.iloc[train], y.iloc[train], X.iloc[test], y.iloc[test]\n",
    "        clf.fit(X_train, y_train)\n",
    "        y_submission = clf.predict_proba(X_test)[:, 1]\n",
    "        dataset_blend_train[test, j] = y_submission\n",
    "        dataset_blend_test_j[:, i] = clf.predict_proba(X_predict)[:, 1]\n",
    "    #对于测试集，直接用这k个模型的预测值均值作为新的特征。\n",
    "    dataset_blend_test[:, j] = dataset_blend_test_j.mean(1)\n",
    "    print(\"val auc Score: %f\" % roc_auc_score(y_predict, dataset_blend_test[:, j]))\n",
    "\n",
    "clf = LogisticRegression(solver='lbfgs')\n",
    "clf.fit(dataset_blend_train, y)\n",
    "y_submission = clf.predict_proba(dataset_blend_test)[:, 1]\n",
    "\n",
    "print(\"Val auc Score of Stacking: %f\" % (roc_auc_score(y_predict, y_submission)))\n"
   ]
  },
  {
   "cell_type": "markdown",
   "metadata": {},
   "source": [
    "Blending，其实和Stacking是一种类似的多层模型融合的形式\n",
    "\n",
    "其主要思路是把原始的训练集先分成两部分，比如70%的数据作为新的训练集，剩下30%的数据作为测试集。\n",
    "在第一层，我们在这70%的数据上训练多个模型，然后去预测那30%数据的label，同时也预测test集的label。\n",
    "在第二层，我们就直接用这30%数据在第一层预测的结果做为新特征继续训练，然后用test集第一层预测的label做特征，用第二层训练的模型做进一步预测\n",
    "\n",
    "其优点在于：\n",
    "    1.比stacking简单（因为不用进行k次的交叉验证来获得stacker feature）\n",
    "    2.避开了一个信息泄露问题：generlizers和stacker使用了不一样的数据集\n",
    "\n",
    "缺点在于：\n",
    "    1.使用了很少的数据（第二阶段的blender只使用training set10%的量）\n",
    "    2.blender可能会过拟合\n",
    "    3.stacking使用多次的交叉验证会比较稳健 '''\n",
    "\n"
   ]
  },
  {
   "cell_type": "code",
   "execution_count": null,
   "metadata": {},
   "outputs": [],
   "source": [
    "'''Blending'''\n",
    "#模型融合中使用到的各个单模型\n",
    "clfs = [LogisticRegression(solver='lbfgs'),\n",
    "        ExtraTreesClassifier(n_estimators=5, n_jobs=-1, criterion='entropy'),\n",
    "        GradientBoostingClassifier(learning_rate=0.05, subsample=0.9, max_depth=7, n_estimators=5000),\n",
    "        LGBMClassifier(objective='binary',boosting_type='gbdt',learning_rate=0.05, n_estimators=5000, \n",
    "                      max_depth=7, num_leaves = 40, min_child_samples=30, \n",
    "                      subsample=0.9, subsample_freq=1,colsample_bytree=0.7,\n",
    "                      reg_alpha=16, reg_lambda=30,num_threads=16,verbose=100)]\n",
    " \n",
    "#切分一部分数据作为测试集\n",
    "X, X_predict, y, y_predict = train_test_split(train_X, train_y, test_size=0.2, random_state=2020)\n",
    "\n",
    "#切分训练数据集为d1,d2两部分\n",
    "X_d1, X_d2, y_d1, y_d2 = train_test_split(X, y, test_size=0.5, random_state=2020)\n",
    "dataset_d1 = np.zeros((X_d2.shape[0], len(clfs)))\n",
    "dataset_d2 = np.zeros((X_predict.shape[0], len(clfs)))\n",
    " \n",
    "for j, clf in enumerate(clfs):\n",
    "    #依次训练各个单模型\n",
    "    clf.fit(X_d1, y_d1)\n",
    "    y_submission = clf.predict_proba(X_d2)[:, 1]\n",
    "    dataset_d1[:, j] = y_submission\n",
    "    #对于测试集，直接用这k个模型的预测值作为新的特征。\n",
    "    dataset_d2[:, j] = clf.predict_proba(X_predict)[:, 1]\n",
    "    print(\"val auc Score: %f\" % roc_auc_score(y_predict, dataset_d2[:, j]))\n",
    "\n",
    "#融合使用的模型\n",
    "clf = GradientBoostingClassifier(learning_rate=0.05, subsample=0.8, max_depth=7, n_estimators=3000)\n",
    "clf.fit(dataset_d1, y_d2)\n",
    "y_submission = clf.predict_proba(dataset_d2)[:, 1]\n",
    "print(\"Val auc Score of Blending: %f\" % (roc_auc_score(y_predict, y_submission)))"
   ]
  },
  {
   "cell_type": "code",
   "execution_count": null,
   "metadata": {},
   "outputs": [],
   "source": []
  },
  {
   "cell_type": "markdown",
   "metadata": {},
   "source": [
    "## 训练多个模型做融合"
   ]
  },
  {
   "cell_type": "code",
   "execution_count": null,
   "metadata": {},
   "outputs": [],
   "source": [
    "def build_model_lr(x_train,y_train):\n",
    "    reg_model = linear_model.LinearRegression()\n",
    "    reg_model.fit(x_train,y_train)\n",
    "    return reg_model\n",
    "\n",
    "def build_model_ridge(x_train,y_train):\n",
    "    reg_model = linear_model.Ridge(alpha=0.8)#alphas=range(1,100,5)\n",
    "    reg_model.fit(x_train,y_train)\n",
    "    return reg_model\n",
    "\n",
    "def build_model_lasso(x_train,y_train):\n",
    "    reg_model = linear_model.LassoCV()\n",
    "    reg_model.fit(x_train,y_train)\n",
    "    return reg_model\n",
    "\n",
    "def build_model_gbdt(x_train,y_train):\n",
    "    estimator =GradientBoostingRegressor(loss='ls',subsample= 0.85,max_depth= 5,n_estimators = 100)\n",
    "    param_grid = { \n",
    "            'learning_rate': [0.05,0.08,0.1,0.2],\n",
    "            }\n",
    "    gbdt = GridSearchCV(estimator, param_grid,cv=3)\n",
    "    gbdt.fit(x_train,y_train)\n",
    "    print(gbdt.best_params_)\n",
    "    # print(gbdt.best_estimator_ )\n",
    "    return gbdt\n",
    "\n",
    "def build_model_xgb(x_train,y_train):\n",
    "    model = xgb.XGBRegressor(n_estimators=120, learning_rate=0.08, gamma=0, subsample=0.8,\\\n",
    "        colsample_bytree=0.9, max_depth=5) #, objective ='reg:squarederror'\n",
    "    model.fit(x_train, y_train)\n",
    "    return model\n",
    "\n",
    "def build_model_lgb(x_train,y_train):\n",
    "    estimator = lgb.LGBMRegressor(num_leaves=63,n_estimators = 100)\n",
    "    param_grid = {\n",
    "        'learning_rate': [0.01, 0.05, 0.1],\n",
    "    }\n",
    "    gbm = GridSearchCV(estimator, param_grid)\n",
    "    gbm.fit(x_train, y_train)\n",
    "    return gbm\n"
   ]
  },
  {
   "cell_type": "markdown",
   "metadata": {},
   "source": [
    "## 划分数据集，并用多种方法训练和预测"
   ]
  },
  {
   "cell_type": "code",
   "execution_count": null,
   "metadata": {},
   "outputs": [],
   "source": [
    "## Split data with val\n",
    "x_train,x_val,y_train,y_val = train_test_split(X_data,Y_data,test_size=0.3)\n",
    "\n",
    "## Train and Predict\n",
    "print('Predict LR...')\n",
    "model_lr = build_model_lr(x_train,y_train)\n",
    "val_lr = model_lr.predict(x_val)\n",
    "subA_lr = model_lr.predict(X_test)\n",
    "\n",
    "print('Predict Ridge...')\n",
    "model_ridge = build_model_ridge(x_train,y_train)\n",
    "val_ridge = model_ridge.predict(x_val)\n",
    "subA_ridge = model_ridge.predict(X_test)\n",
    "\n",
    "print('Predict Lasso...')\n",
    "model_lasso = build_model_lasso(x_train,y_train)\n",
    "val_lasso = model_lasso.predict(x_val)\n",
    "subA_lasso = model_lasso.predict(X_test)\n",
    "\n",
    "print('Predict GBDT...')\n",
    "model_gbdt = build_model_gbdt(x_train,y_train)\n",
    "val_gbdt = model_gbdt.predict(x_val)\n",
    "subA_gbdt = model_gbdt.predict(X_test)\n",
    "\n",
    "print('predict XGB...')\n",
    "model_xgb = build_model_xgb(x_train,y_train)\n",
    "val_xgb = model_xgb.predict(x_val)\n",
    "subA_xgb = model_xgb.predict(X_test)\n",
    "\n",
    "print('predict lgb...')\n",
    "model_lgb = build_model_lgb(x_train,y_train)\n",
    "val_lgb = model_lgb.predict(x_val)\n",
    "subA_lgb = model_lgb.predict(X_test)"
   ]
  },
  {
   "cell_type": "markdown",
   "metadata": {},
   "source": [
    "## Stacking融合"
   ]
  },
  {
   "cell_type": "code",
   "execution_count": null,
   "metadata": {},
   "outputs": [],
   "source": [
    "## Starking\n",
    "## 第一层\n",
    "train_lgb_pred = model_lgb.predict(x_train)\n",
    "train_xgb_pred = model_xgb.predict(x_train)\n",
    "train_gbdt_pred = model_gbdt.predict(x_train)\n",
    "\n",
    "Strak_X_train = pd.DataFrame()\n",
    "Strak_X_train['Method_1'] = train_lgb_pred\n",
    "Strak_X_train['Method_2'] = train_xgb_pred\n",
    "Strak_X_train['Method_3'] = train_gbdt_pred\n",
    "\n",
    "Strak_X_val = pd.DataFrame()\n",
    "Strak_X_val['Method_1'] = val_lgb\n",
    "Strak_X_val['Method_2'] = val_xgb\n",
    "Strak_X_val['Method_3'] = val_gbdt\n",
    "\n",
    "Strak_X_test = pd.DataFrame()\n",
    "Strak_X_test['Method_1'] = subA_lgb\n",
    "Strak_X_test['Method_2'] = subA_xgb\n",
    "Strak_X_test['Method_3'] = subA_gbdt\n",
    "\n",
    "## level2-method \n",
    "model_lr_Stacking = build_model_lr(Strak_X_train,y_train)\n",
    "## 训练集\n",
    "train_pre_Stacking = model_lr_Stacking.predict(Strak_X_train)\n",
    "print('AUC of Stacking-LR:', roc_auc_score(y_train,train_pre_Stacking))\n",
    "\n",
    "## 验证集\n",
    "val_pre_Stacking = model_lr_Stacking.predict(Strak_X_val)\n",
    "print('AUC of Stacking-LR:', roc_auc_score(y_val,val_pre_Stacking))\n",
    "\n",
    "## 预测集\n",
    "print('Predict Stacking-LR...')\n",
    "subA_Stacking = model_lr_Stacking.predict(Strak_X_test)\n",
    "\n",
    "sub = pd.DataFrame()\n",
    "sub['id'] = TestA_data.id\n",
    "sub['isDefault'] = subA_Stacking\n",
    "sub.to_csv('./submission_v2.csv',index=False)"
   ]
  }
 ],
 "metadata": {
  "kernelspec": {
   "display_name": "Python 3",
   "language": "python",
   "name": "python3"
  },
  "language_info": {
   "codemirror_mode": {
    "name": "ipython",
    "version": 3
   },
   "file_extension": ".py",
   "mimetype": "text/x-python",
   "name": "python",
   "nbconvert_exporter": "python",
   "pygments_lexer": "ipython3",
   "version": "3.6.7"
  }
 },
 "nbformat": 4,
 "nbformat_minor": 2
}
