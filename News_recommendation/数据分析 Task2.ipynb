{
 "cells": [
  {
   "cell_type": "markdown",
   "metadata": {},
   "source": [
    "# 数据分析 Task2"
   ]
  },
  {
   "cell_type": "code",
   "execution_count": 10,
   "metadata": {},
   "outputs": [],
   "source": [
    "import time, math, os\n",
    "from tqdm import tqdm\n",
    "import gc\n",
    "import pickle\n",
    "import random\n",
    "from datetime import datetime\n",
    "from operator import itemgetter\n",
    "import numpy as np\n",
    "import pandas as pd\n",
    "import warnings\n",
    "import collections\n",
    "from collections import defaultdict\n",
    "warnings.filterwarnings('ignore')\n",
    "\n",
    "import matplotlib.pyplot as plt\n",
    "import seaborn as sns\n",
    "plt.rc('font', family='SimHei', size=13)"
   ]
  },
  {
   "cell_type": "code",
   "execution_count": 2,
   "metadata": {},
   "outputs": [],
   "source": [
    "data_path = './data/source_data/'\n",
    "\n",
    "trn_click = pd.read_csv(data_path + 'train_click_log.csv')\n",
    "tst_click = pd.read_csv(data_path + 'testA_click_log.csv')\n",
    "item_df = pd.read_csv(data_path + 'articles.csv')\n",
    "item_df = item_df.rename(columns={'article_id': 'click_article_id'})  #重命名，方便后续match\n",
    "item_emb_df = pd.read_csv(data_path + 'articles_emb.csv')"
   ]
  },
  {
   "cell_type": "code",
   "execution_count": 3,
   "metadata": {},
   "outputs": [],
   "source": [
    "# 计算用户的点击rank\n",
    "trn_click['rank'] = trn_click.groupby(['user_id'])['click_timestamp'].rank(ascending=False).astype(int)\n",
    "tst_click['rank'] = tst_click.groupby(['user_id'])['click_timestamp'].rank(ascending=False).astype(int)\n",
    "\n",
    "# 计算用户点击文章的次数，并添加新的一列count\n",
    "trn_click['click_cnts'] = trn_click.groupby(['user_id'])['click_timestamp'].transform('count')\n",
    "tst_click['click_cnts'] = tst_click.groupby(['user_id'])['click_timestamp'].transform('count')"
   ]
  },
  {
   "cell_type": "markdown",
   "metadata": {},
   "source": [
    "## 查看数据集"
   ]
  },
  {
   "cell_type": "code",
   "execution_count": 14,
   "metadata": {},
   "outputs": [
    {
     "data": {
      "text/html": [
       "<div>\n",
       "<style scoped>\n",
       "    .dataframe tbody tr th:only-of-type {\n",
       "        vertical-align: middle;\n",
       "    }\n",
       "\n",
       "    .dataframe tbody tr th {\n",
       "        vertical-align: top;\n",
       "    }\n",
       "\n",
       "    .dataframe thead th {\n",
       "        text-align: right;\n",
       "    }\n",
       "</style>\n",
       "<table border=\"1\" class=\"dataframe\">\n",
       "  <thead>\n",
       "    <tr style=\"text-align: right;\">\n",
       "      <th></th>\n",
       "      <th>user_id</th>\n",
       "      <th>click_article_id</th>\n",
       "      <th>click_timestamp</th>\n",
       "      <th>click_environment</th>\n",
       "      <th>click_deviceGroup</th>\n",
       "      <th>click_os</th>\n",
       "      <th>click_country</th>\n",
       "      <th>click_region</th>\n",
       "      <th>click_referrer_type</th>\n",
       "      <th>rank</th>\n",
       "      <th>click_cnts</th>\n",
       "      <th>category_id_x</th>\n",
       "      <th>created_at_ts_x</th>\n",
       "      <th>words_count_x</th>\n",
       "      <th>category_id_y</th>\n",
       "      <th>created_at_ts_y</th>\n",
       "      <th>words_count_y</th>\n",
       "      <th>category_id</th>\n",
       "      <th>created_at_ts</th>\n",
       "      <th>words_count</th>\n",
       "    </tr>\n",
       "  </thead>\n",
       "  <tbody>\n",
       "    <tr>\n",
       "      <th>0</th>\n",
       "      <td>199999</td>\n",
       "      <td>160417</td>\n",
       "      <td>1507029570190</td>\n",
       "      <td>4</td>\n",
       "      <td>1</td>\n",
       "      <td>17</td>\n",
       "      <td>1</td>\n",
       "      <td>13</td>\n",
       "      <td>1</td>\n",
       "      <td>11</td>\n",
       "      <td>11</td>\n",
       "      <td>281</td>\n",
       "      <td>1506942089000</td>\n",
       "      <td>173</td>\n",
       "      <td>281</td>\n",
       "      <td>1506942089000</td>\n",
       "      <td>173</td>\n",
       "      <td>281</td>\n",
       "      <td>1506942089000</td>\n",
       "      <td>173</td>\n",
       "    </tr>\n",
       "    <tr>\n",
       "      <th>1</th>\n",
       "      <td>199999</td>\n",
       "      <td>5408</td>\n",
       "      <td>1507029571478</td>\n",
       "      <td>4</td>\n",
       "      <td>1</td>\n",
       "      <td>17</td>\n",
       "      <td>1</td>\n",
       "      <td>13</td>\n",
       "      <td>1</td>\n",
       "      <td>10</td>\n",
       "      <td>11</td>\n",
       "      <td>4</td>\n",
       "      <td>1506994257000</td>\n",
       "      <td>118</td>\n",
       "      <td>4</td>\n",
       "      <td>1506994257000</td>\n",
       "      <td>118</td>\n",
       "      <td>4</td>\n",
       "      <td>1506994257000</td>\n",
       "      <td>118</td>\n",
       "    </tr>\n",
       "    <tr>\n",
       "      <th>2</th>\n",
       "      <td>199999</td>\n",
       "      <td>50823</td>\n",
       "      <td>1507029601478</td>\n",
       "      <td>4</td>\n",
       "      <td>1</td>\n",
       "      <td>17</td>\n",
       "      <td>1</td>\n",
       "      <td>13</td>\n",
       "      <td>1</td>\n",
       "      <td>9</td>\n",
       "      <td>11</td>\n",
       "      <td>99</td>\n",
       "      <td>1507013614000</td>\n",
       "      <td>213</td>\n",
       "      <td>99</td>\n",
       "      <td>1507013614000</td>\n",
       "      <td>213</td>\n",
       "      <td>99</td>\n",
       "      <td>1507013614000</td>\n",
       "      <td>213</td>\n",
       "    </tr>\n",
       "    <tr>\n",
       "      <th>3</th>\n",
       "      <td>199998</td>\n",
       "      <td>157770</td>\n",
       "      <td>1507029532200</td>\n",
       "      <td>4</td>\n",
       "      <td>1</td>\n",
       "      <td>17</td>\n",
       "      <td>1</td>\n",
       "      <td>25</td>\n",
       "      <td>5</td>\n",
       "      <td>40</td>\n",
       "      <td>40</td>\n",
       "      <td>281</td>\n",
       "      <td>1506983935000</td>\n",
       "      <td>201</td>\n",
       "      <td>281</td>\n",
       "      <td>1506983935000</td>\n",
       "      <td>201</td>\n",
       "      <td>281</td>\n",
       "      <td>1506983935000</td>\n",
       "      <td>201</td>\n",
       "    </tr>\n",
       "    <tr>\n",
       "      <th>4</th>\n",
       "      <td>199998</td>\n",
       "      <td>96613</td>\n",
       "      <td>1507029671831</td>\n",
       "      <td>4</td>\n",
       "      <td>1</td>\n",
       "      <td>17</td>\n",
       "      <td>1</td>\n",
       "      <td>25</td>\n",
       "      <td>5</td>\n",
       "      <td>39</td>\n",
       "      <td>40</td>\n",
       "      <td>209</td>\n",
       "      <td>1506938444000</td>\n",
       "      <td>185</td>\n",
       "      <td>209</td>\n",
       "      <td>1506938444000</td>\n",
       "      <td>185</td>\n",
       "      <td>209</td>\n",
       "      <td>1506938444000</td>\n",
       "      <td>185</td>\n",
       "    </tr>\n",
       "  </tbody>\n",
       "</table>\n",
       "</div>"
      ],
      "text/plain": [
       "   user_id  click_article_id  click_timestamp  click_environment  \\\n",
       "0   199999            160417    1507029570190                  4   \n",
       "1   199999              5408    1507029571478                  4   \n",
       "2   199999             50823    1507029601478                  4   \n",
       "3   199998            157770    1507029532200                  4   \n",
       "4   199998             96613    1507029671831                  4   \n",
       "\n",
       "   click_deviceGroup  click_os  click_country  click_region  \\\n",
       "0                  1        17              1            13   \n",
       "1                  1        17              1            13   \n",
       "2                  1        17              1            13   \n",
       "3                  1        17              1            25   \n",
       "4                  1        17              1            25   \n",
       "\n",
       "   click_referrer_type  rank  click_cnts  category_id_x  created_at_ts_x  \\\n",
       "0                    1    11          11            281    1506942089000   \n",
       "1                    1    10          11              4    1506994257000   \n",
       "2                    1     9          11             99    1507013614000   \n",
       "3                    5    40          40            281    1506983935000   \n",
       "4                    5    39          40            209    1506938444000   \n",
       "\n",
       "   words_count_x  category_id_y  created_at_ts_y  words_count_y  category_id  \\\n",
       "0            173            281    1506942089000            173          281   \n",
       "1            118              4    1506994257000            118            4   \n",
       "2            213             99    1507013614000            213           99   \n",
       "3            201            281    1506983935000            201          281   \n",
       "4            185            209    1506938444000            185          209   \n",
       "\n",
       "   created_at_ts  words_count  \n",
       "0  1506942089000          173  \n",
       "1  1506994257000          118  \n",
       "2  1507013614000          213  \n",
       "3  1506983935000          201  \n",
       "4  1506938444000          185  "
      ]
     },
     "execution_count": 14,
     "metadata": {},
     "output_type": "execute_result"
    }
   ],
   "source": [
    "trn_click = trn_click.merge(item_df, how='left', on=['click_article_id'])\n",
    "tst_click = tst_click.merge(item_df, how='left', on=['click_article_id'])\n",
    "trn_click.head()"
   ]
  },
  {
   "cell_type": "code",
   "execution_count": 15,
   "metadata": {},
   "outputs": [
    {
     "data": {
      "text/html": [
       "<div>\n",
       "<style scoped>\n",
       "    .dataframe tbody tr th:only-of-type {\n",
       "        vertical-align: middle;\n",
       "    }\n",
       "\n",
       "    .dataframe tbody tr th {\n",
       "        vertical-align: top;\n",
       "    }\n",
       "\n",
       "    .dataframe thead th {\n",
       "        text-align: right;\n",
       "    }\n",
       "</style>\n",
       "<table border=\"1\" class=\"dataframe\">\n",
       "  <thead>\n",
       "    <tr style=\"text-align: right;\">\n",
       "      <th></th>\n",
       "      <th>user_id</th>\n",
       "      <th>click_article_id</th>\n",
       "      <th>click_timestamp</th>\n",
       "      <th>click_environment</th>\n",
       "      <th>click_deviceGroup</th>\n",
       "      <th>click_os</th>\n",
       "      <th>click_country</th>\n",
       "      <th>click_region</th>\n",
       "      <th>click_referrer_type</th>\n",
       "      <th>rank</th>\n",
       "      <th>click_cnts</th>\n",
       "      <th>category_id_x</th>\n",
       "      <th>created_at_ts_x</th>\n",
       "      <th>words_count_x</th>\n",
       "      <th>category_id_y</th>\n",
       "      <th>created_at_ts_y</th>\n",
       "      <th>words_count_y</th>\n",
       "    </tr>\n",
       "  </thead>\n",
       "  <tbody>\n",
       "    <tr>\n",
       "      <th>0</th>\n",
       "      <td>249999</td>\n",
       "      <td>160974</td>\n",
       "      <td>1506959142820</td>\n",
       "      <td>4</td>\n",
       "      <td>1</td>\n",
       "      <td>17</td>\n",
       "      <td>1</td>\n",
       "      <td>13</td>\n",
       "      <td>2</td>\n",
       "      <td>19</td>\n",
       "      <td>19</td>\n",
       "      <td>281</td>\n",
       "      <td>1506912747000</td>\n",
       "      <td>259</td>\n",
       "      <td>281</td>\n",
       "      <td>1506912747000</td>\n",
       "      <td>259</td>\n",
       "    </tr>\n",
       "    <tr>\n",
       "      <th>1</th>\n",
       "      <td>249999</td>\n",
       "      <td>160417</td>\n",
       "      <td>1506959172820</td>\n",
       "      <td>4</td>\n",
       "      <td>1</td>\n",
       "      <td>17</td>\n",
       "      <td>1</td>\n",
       "      <td>13</td>\n",
       "      <td>2</td>\n",
       "      <td>18</td>\n",
       "      <td>19</td>\n",
       "      <td>281</td>\n",
       "      <td>1506942089000</td>\n",
       "      <td>173</td>\n",
       "      <td>281</td>\n",
       "      <td>1506942089000</td>\n",
       "      <td>173</td>\n",
       "    </tr>\n",
       "    <tr>\n",
       "      <th>2</th>\n",
       "      <td>249998</td>\n",
       "      <td>160974</td>\n",
       "      <td>1506959056066</td>\n",
       "      <td>4</td>\n",
       "      <td>1</td>\n",
       "      <td>12</td>\n",
       "      <td>1</td>\n",
       "      <td>13</td>\n",
       "      <td>2</td>\n",
       "      <td>5</td>\n",
       "      <td>5</td>\n",
       "      <td>281</td>\n",
       "      <td>1506912747000</td>\n",
       "      <td>259</td>\n",
       "      <td>281</td>\n",
       "      <td>1506912747000</td>\n",
       "      <td>259</td>\n",
       "    </tr>\n",
       "    <tr>\n",
       "      <th>3</th>\n",
       "      <td>249998</td>\n",
       "      <td>202557</td>\n",
       "      <td>1506959086066</td>\n",
       "      <td>4</td>\n",
       "      <td>1</td>\n",
       "      <td>12</td>\n",
       "      <td>1</td>\n",
       "      <td>13</td>\n",
       "      <td>2</td>\n",
       "      <td>4</td>\n",
       "      <td>5</td>\n",
       "      <td>327</td>\n",
       "      <td>1506938401000</td>\n",
       "      <td>219</td>\n",
       "      <td>327</td>\n",
       "      <td>1506938401000</td>\n",
       "      <td>219</td>\n",
       "    </tr>\n",
       "    <tr>\n",
       "      <th>4</th>\n",
       "      <td>249997</td>\n",
       "      <td>183665</td>\n",
       "      <td>1506959088613</td>\n",
       "      <td>4</td>\n",
       "      <td>1</td>\n",
       "      <td>17</td>\n",
       "      <td>1</td>\n",
       "      <td>15</td>\n",
       "      <td>5</td>\n",
       "      <td>7</td>\n",
       "      <td>7</td>\n",
       "      <td>301</td>\n",
       "      <td>1500895686000</td>\n",
       "      <td>256</td>\n",
       "      <td>301</td>\n",
       "      <td>1500895686000</td>\n",
       "      <td>256</td>\n",
       "    </tr>\n",
       "  </tbody>\n",
       "</table>\n",
       "</div>"
      ],
      "text/plain": [
       "   user_id  click_article_id  click_timestamp  click_environment  \\\n",
       "0   249999            160974    1506959142820                  4   \n",
       "1   249999            160417    1506959172820                  4   \n",
       "2   249998            160974    1506959056066                  4   \n",
       "3   249998            202557    1506959086066                  4   \n",
       "4   249997            183665    1506959088613                  4   \n",
       "\n",
       "   click_deviceGroup  click_os  click_country  click_region  \\\n",
       "0                  1        17              1            13   \n",
       "1                  1        17              1            13   \n",
       "2                  1        12              1            13   \n",
       "3                  1        12              1            13   \n",
       "4                  1        17              1            15   \n",
       "\n",
       "   click_referrer_type  rank  click_cnts  category_id_x  created_at_ts_x  \\\n",
       "0                    2    19          19            281    1506912747000   \n",
       "1                    2    18          19            281    1506942089000   \n",
       "2                    2     5           5            281    1506912747000   \n",
       "3                    2     4           5            327    1506938401000   \n",
       "4                    5     7           7            301    1500895686000   \n",
       "\n",
       "   words_count_x  category_id_y  created_at_ts_y  words_count_y  \n",
       "0            259            281    1506912747000            259  \n",
       "1            173            281    1506942089000            173  \n",
       "2            259            281    1506912747000            259  \n",
       "3            219            327    1506938401000            219  \n",
       "4            256            301    1500895686000            256  "
      ]
     },
     "execution_count": 15,
     "metadata": {},
     "output_type": "execute_result"
    }
   ],
   "source": [
    "tst_click.head()"
   ]
  },
  {
   "cell_type": "code",
   "execution_count": 5,
   "metadata": {},
   "outputs": [
    {
     "name": "stdout",
     "output_type": "stream",
     "text": [
      "<class 'pandas.core.frame.DataFrame'>\n",
      "Int64Index: 1112623 entries, 0 to 1112622\n",
      "Data columns (total 14 columns):\n",
      " #   Column               Non-Null Count    Dtype\n",
      "---  ------               --------------    -----\n",
      " 0   user_id              1112623 non-null  int64\n",
      " 1   click_article_id     1112623 non-null  int64\n",
      " 2   click_timestamp      1112623 non-null  int64\n",
      " 3   click_environment    1112623 non-null  int64\n",
      " 4   click_deviceGroup    1112623 non-null  int64\n",
      " 5   click_os             1112623 non-null  int64\n",
      " 6   click_country        1112623 non-null  int64\n",
      " 7   click_region         1112623 non-null  int64\n",
      " 8   click_referrer_type  1112623 non-null  int64\n",
      " 9   rank                 1112623 non-null  int64\n",
      " 10  click_cnts           1112623 non-null  int64\n",
      " 11  category_id          1112623 non-null  int64\n",
      " 12  created_at_ts        1112623 non-null  int64\n",
      " 13  words_count          1112623 non-null  int64\n",
      "dtypes: int64(14)\n",
      "memory usage: 127.3 MB\n"
     ]
    }
   ],
   "source": [
    "trn_click.info()"
   ]
  },
  {
   "cell_type": "code",
   "execution_count": 6,
   "metadata": {},
   "outputs": [
    {
     "data": {
      "text/html": [
       "<div>\n",
       "<style scoped>\n",
       "    .dataframe tbody tr th:only-of-type {\n",
       "        vertical-align: middle;\n",
       "    }\n",
       "\n",
       "    .dataframe tbody tr th {\n",
       "        vertical-align: top;\n",
       "    }\n",
       "\n",
       "    .dataframe thead th {\n",
       "        text-align: right;\n",
       "    }\n",
       "</style>\n",
       "<table border=\"1\" class=\"dataframe\">\n",
       "  <thead>\n",
       "    <tr style=\"text-align: right;\">\n",
       "      <th></th>\n",
       "      <th>user_id</th>\n",
       "      <th>click_article_id</th>\n",
       "      <th>click_timestamp</th>\n",
       "      <th>click_environment</th>\n",
       "      <th>click_deviceGroup</th>\n",
       "      <th>click_os</th>\n",
       "      <th>click_country</th>\n",
       "      <th>click_region</th>\n",
       "      <th>click_referrer_type</th>\n",
       "      <th>rank</th>\n",
       "      <th>click_cnts</th>\n",
       "      <th>category_id</th>\n",
       "      <th>created_at_ts</th>\n",
       "      <th>words_count</th>\n",
       "    </tr>\n",
       "  </thead>\n",
       "  <tbody>\n",
       "    <tr>\n",
       "      <th>count</th>\n",
       "      <td>1.112623e+06</td>\n",
       "      <td>1.112623e+06</td>\n",
       "      <td>1.112623e+06</td>\n",
       "      <td>1.112623e+06</td>\n",
       "      <td>1.112623e+06</td>\n",
       "      <td>1.112623e+06</td>\n",
       "      <td>1.112623e+06</td>\n",
       "      <td>1.112623e+06</td>\n",
       "      <td>1.112623e+06</td>\n",
       "      <td>1.112623e+06</td>\n",
       "      <td>1.112623e+06</td>\n",
       "      <td>1.112623e+06</td>\n",
       "      <td>1.112623e+06</td>\n",
       "      <td>1.112623e+06</td>\n",
       "    </tr>\n",
       "    <tr>\n",
       "      <th>mean</th>\n",
       "      <td>1.221198e+05</td>\n",
       "      <td>1.951541e+05</td>\n",
       "      <td>1.507588e+12</td>\n",
       "      <td>3.947786e+00</td>\n",
       "      <td>1.815981e+00</td>\n",
       "      <td>1.301976e+01</td>\n",
       "      <td>1.310776e+00</td>\n",
       "      <td>1.813587e+01</td>\n",
       "      <td>1.910063e+00</td>\n",
       "      <td>7.118518e+00</td>\n",
       "      <td>1.323704e+01</td>\n",
       "      <td>3.056176e+02</td>\n",
       "      <td>1.506598e+12</td>\n",
       "      <td>2.011981e+02</td>\n",
       "    </tr>\n",
       "    <tr>\n",
       "      <th>std</th>\n",
       "      <td>5.540349e+04</td>\n",
       "      <td>9.292286e+04</td>\n",
       "      <td>3.363466e+08</td>\n",
       "      <td>3.276715e-01</td>\n",
       "      <td>1.035170e+00</td>\n",
       "      <td>6.967844e+00</td>\n",
       "      <td>1.618264e+00</td>\n",
       "      <td>7.105832e+00</td>\n",
       "      <td>1.220012e+00</td>\n",
       "      <td>1.016095e+01</td>\n",
       "      <td>1.631503e+01</td>\n",
       "      <td>1.155791e+02</td>\n",
       "      <td>8.343066e+09</td>\n",
       "      <td>5.223881e+01</td>\n",
       "    </tr>\n",
       "    <tr>\n",
       "      <th>min</th>\n",
       "      <td>0.000000e+00</td>\n",
       "      <td>3.000000e+00</td>\n",
       "      <td>1.507030e+12</td>\n",
       "      <td>1.000000e+00</td>\n",
       "      <td>1.000000e+00</td>\n",
       "      <td>2.000000e+00</td>\n",
       "      <td>1.000000e+00</td>\n",
       "      <td>1.000000e+00</td>\n",
       "      <td>1.000000e+00</td>\n",
       "      <td>1.000000e+00</td>\n",
       "      <td>2.000000e+00</td>\n",
       "      <td>1.000000e+00</td>\n",
       "      <td>1.166573e+12</td>\n",
       "      <td>0.000000e+00</td>\n",
       "    </tr>\n",
       "    <tr>\n",
       "      <th>25%</th>\n",
       "      <td>7.934700e+04</td>\n",
       "      <td>1.239090e+05</td>\n",
       "      <td>1.507297e+12</td>\n",
       "      <td>4.000000e+00</td>\n",
       "      <td>1.000000e+00</td>\n",
       "      <td>2.000000e+00</td>\n",
       "      <td>1.000000e+00</td>\n",
       "      <td>1.300000e+01</td>\n",
       "      <td>1.000000e+00</td>\n",
       "      <td>2.000000e+00</td>\n",
       "      <td>4.000000e+00</td>\n",
       "      <td>2.500000e+02</td>\n",
       "      <td>1.507220e+12</td>\n",
       "      <td>1.700000e+02</td>\n",
       "    </tr>\n",
       "    <tr>\n",
       "      <th>50%</th>\n",
       "      <td>1.309670e+05</td>\n",
       "      <td>2.038900e+05</td>\n",
       "      <td>1.507596e+12</td>\n",
       "      <td>4.000000e+00</td>\n",
       "      <td>1.000000e+00</td>\n",
       "      <td>1.700000e+01</td>\n",
       "      <td>1.000000e+00</td>\n",
       "      <td>2.100000e+01</td>\n",
       "      <td>2.000000e+00</td>\n",
       "      <td>4.000000e+00</td>\n",
       "      <td>8.000000e+00</td>\n",
       "      <td>3.280000e+02</td>\n",
       "      <td>1.507553e+12</td>\n",
       "      <td>1.970000e+02</td>\n",
       "    </tr>\n",
       "    <tr>\n",
       "      <th>75%</th>\n",
       "      <td>1.704010e+05</td>\n",
       "      <td>2.777120e+05</td>\n",
       "      <td>1.507841e+12</td>\n",
       "      <td>4.000000e+00</td>\n",
       "      <td>3.000000e+00</td>\n",
       "      <td>1.700000e+01</td>\n",
       "      <td>1.000000e+00</td>\n",
       "      <td>2.500000e+01</td>\n",
       "      <td>2.000000e+00</td>\n",
       "      <td>8.000000e+00</td>\n",
       "      <td>1.600000e+01</td>\n",
       "      <td>4.100000e+02</td>\n",
       "      <td>1.507756e+12</td>\n",
       "      <td>2.280000e+02</td>\n",
       "    </tr>\n",
       "    <tr>\n",
       "      <th>max</th>\n",
       "      <td>1.999990e+05</td>\n",
       "      <td>3.640460e+05</td>\n",
       "      <td>1.510603e+12</td>\n",
       "      <td>4.000000e+00</td>\n",
       "      <td>5.000000e+00</td>\n",
       "      <td>2.000000e+01</td>\n",
       "      <td>1.100000e+01</td>\n",
       "      <td>2.800000e+01</td>\n",
       "      <td>7.000000e+00</td>\n",
       "      <td>2.410000e+02</td>\n",
       "      <td>2.410000e+02</td>\n",
       "      <td>4.600000e+02</td>\n",
       "      <td>1.510666e+12</td>\n",
       "      <td>6.690000e+03</td>\n",
       "    </tr>\n",
       "  </tbody>\n",
       "</table>\n",
       "</div>"
      ],
      "text/plain": [
       "            user_id  click_article_id  click_timestamp  click_environment  \\\n",
       "count  1.112623e+06      1.112623e+06     1.112623e+06       1.112623e+06   \n",
       "mean   1.221198e+05      1.951541e+05     1.507588e+12       3.947786e+00   \n",
       "std    5.540349e+04      9.292286e+04     3.363466e+08       3.276715e-01   \n",
       "min    0.000000e+00      3.000000e+00     1.507030e+12       1.000000e+00   \n",
       "25%    7.934700e+04      1.239090e+05     1.507297e+12       4.000000e+00   \n",
       "50%    1.309670e+05      2.038900e+05     1.507596e+12       4.000000e+00   \n",
       "75%    1.704010e+05      2.777120e+05     1.507841e+12       4.000000e+00   \n",
       "max    1.999990e+05      3.640460e+05     1.510603e+12       4.000000e+00   \n",
       "\n",
       "       click_deviceGroup      click_os  click_country  click_region  \\\n",
       "count       1.112623e+06  1.112623e+06   1.112623e+06  1.112623e+06   \n",
       "mean        1.815981e+00  1.301976e+01   1.310776e+00  1.813587e+01   \n",
       "std         1.035170e+00  6.967844e+00   1.618264e+00  7.105832e+00   \n",
       "min         1.000000e+00  2.000000e+00   1.000000e+00  1.000000e+00   \n",
       "25%         1.000000e+00  2.000000e+00   1.000000e+00  1.300000e+01   \n",
       "50%         1.000000e+00  1.700000e+01   1.000000e+00  2.100000e+01   \n",
       "75%         3.000000e+00  1.700000e+01   1.000000e+00  2.500000e+01   \n",
       "max         5.000000e+00  2.000000e+01   1.100000e+01  2.800000e+01   \n",
       "\n",
       "       click_referrer_type          rank    click_cnts   category_id  \\\n",
       "count         1.112623e+06  1.112623e+06  1.112623e+06  1.112623e+06   \n",
       "mean          1.910063e+00  7.118518e+00  1.323704e+01  3.056176e+02   \n",
       "std           1.220012e+00  1.016095e+01  1.631503e+01  1.155791e+02   \n",
       "min           1.000000e+00  1.000000e+00  2.000000e+00  1.000000e+00   \n",
       "25%           1.000000e+00  2.000000e+00  4.000000e+00  2.500000e+02   \n",
       "50%           2.000000e+00  4.000000e+00  8.000000e+00  3.280000e+02   \n",
       "75%           2.000000e+00  8.000000e+00  1.600000e+01  4.100000e+02   \n",
       "max           7.000000e+00  2.410000e+02  2.410000e+02  4.600000e+02   \n",
       "\n",
       "       created_at_ts   words_count  \n",
       "count   1.112623e+06  1.112623e+06  \n",
       "mean    1.506598e+12  2.011981e+02  \n",
       "std     8.343066e+09  5.223881e+01  \n",
       "min     1.166573e+12  0.000000e+00  \n",
       "25%     1.507220e+12  1.700000e+02  \n",
       "50%     1.507553e+12  1.970000e+02  \n",
       "75%     1.507756e+12  2.280000e+02  \n",
       "max     1.510666e+12  6.690000e+03  "
      ]
     },
     "execution_count": 6,
     "metadata": {},
     "output_type": "execute_result"
    }
   ],
   "source": [
    "trn_click.describe()"
   ]
  },
  {
   "cell_type": "code",
   "execution_count": 13,
   "metadata": {},
   "outputs": [
    {
     "data": {
      "text/html": [
       "<div>\n",
       "<style scoped>\n",
       "    .dataframe tbody tr th:only-of-type {\n",
       "        vertical-align: middle;\n",
       "    }\n",
       "\n",
       "    .dataframe tbody tr th {\n",
       "        vertical-align: top;\n",
       "    }\n",
       "\n",
       "    .dataframe thead th {\n",
       "        text-align: right;\n",
       "    }\n",
       "</style>\n",
       "<table border=\"1\" class=\"dataframe\">\n",
       "  <thead>\n",
       "    <tr style=\"text-align: right;\">\n",
       "      <th></th>\n",
       "      <th>user_id</th>\n",
       "      <th>click_article_id</th>\n",
       "      <th>click_timestamp</th>\n",
       "      <th>click_environment</th>\n",
       "      <th>click_deviceGroup</th>\n",
       "      <th>click_os</th>\n",
       "      <th>click_country</th>\n",
       "      <th>click_region</th>\n",
       "      <th>click_referrer_type</th>\n",
       "      <th>rank</th>\n",
       "      <th>click_cnts</th>\n",
       "      <th>category_id</th>\n",
       "      <th>created_at_ts</th>\n",
       "      <th>words_count</th>\n",
       "    </tr>\n",
       "  </thead>\n",
       "  <tbody>\n",
       "    <tr>\n",
       "      <th>count</th>\n",
       "      <td>518010.000000</td>\n",
       "      <td>518010.000000</td>\n",
       "      <td>5.180100e+05</td>\n",
       "      <td>518010.000000</td>\n",
       "      <td>518010.000000</td>\n",
       "      <td>518010.000000</td>\n",
       "      <td>518010.000000</td>\n",
       "      <td>518010.000000</td>\n",
       "      <td>518010.000000</td>\n",
       "      <td>518010.000000</td>\n",
       "      <td>518010.000000</td>\n",
       "      <td>518010.000000</td>\n",
       "      <td>5.180100e+05</td>\n",
       "      <td>518010.000000</td>\n",
       "    </tr>\n",
       "    <tr>\n",
       "      <th>mean</th>\n",
       "      <td>227342.428169</td>\n",
       "      <td>193803.792550</td>\n",
       "      <td>1.507387e+12</td>\n",
       "      <td>3.947300</td>\n",
       "      <td>1.738285</td>\n",
       "      <td>13.628467</td>\n",
       "      <td>1.348209</td>\n",
       "      <td>18.250250</td>\n",
       "      <td>1.819614</td>\n",
       "      <td>15.521785</td>\n",
       "      <td>30.043586</td>\n",
       "      <td>305.324961</td>\n",
       "      <td>1.506883e+12</td>\n",
       "      <td>210.966331</td>\n",
       "    </tr>\n",
       "    <tr>\n",
       "      <th>std</th>\n",
       "      <td>14613.907188</td>\n",
       "      <td>88279.388177</td>\n",
       "      <td>3.706127e+08</td>\n",
       "      <td>0.323916</td>\n",
       "      <td>1.020858</td>\n",
       "      <td>6.625564</td>\n",
       "      <td>1.703524</td>\n",
       "      <td>7.060798</td>\n",
       "      <td>1.082657</td>\n",
       "      <td>33.957702</td>\n",
       "      <td>56.868021</td>\n",
       "      <td>110.411513</td>\n",
       "      <td>5.816668e+09</td>\n",
       "      <td>83.040065</td>\n",
       "    </tr>\n",
       "    <tr>\n",
       "      <th>min</th>\n",
       "      <td>200000.000000</td>\n",
       "      <td>137.000000</td>\n",
       "      <td>1.506959e+12</td>\n",
       "      <td>1.000000</td>\n",
       "      <td>1.000000</td>\n",
       "      <td>2.000000</td>\n",
       "      <td>1.000000</td>\n",
       "      <td>1.000000</td>\n",
       "      <td>1.000000</td>\n",
       "      <td>1.000000</td>\n",
       "      <td>1.000000</td>\n",
       "      <td>1.000000</td>\n",
       "      <td>1.265812e+12</td>\n",
       "      <td>0.000000</td>\n",
       "    </tr>\n",
       "    <tr>\n",
       "      <th>25%</th>\n",
       "      <td>214926.000000</td>\n",
       "      <td>128551.000000</td>\n",
       "      <td>1.507026e+12</td>\n",
       "      <td>4.000000</td>\n",
       "      <td>1.000000</td>\n",
       "      <td>12.000000</td>\n",
       "      <td>1.000000</td>\n",
       "      <td>13.000000</td>\n",
       "      <td>1.000000</td>\n",
       "      <td>4.000000</td>\n",
       "      <td>10.000000</td>\n",
       "      <td>252.000000</td>\n",
       "      <td>1.506970e+12</td>\n",
       "      <td>176.000000</td>\n",
       "    </tr>\n",
       "    <tr>\n",
       "      <th>50%</th>\n",
       "      <td>229109.000000</td>\n",
       "      <td>199197.000000</td>\n",
       "      <td>1.507308e+12</td>\n",
       "      <td>4.000000</td>\n",
       "      <td>1.000000</td>\n",
       "      <td>17.000000</td>\n",
       "      <td>1.000000</td>\n",
       "      <td>21.000000</td>\n",
       "      <td>2.000000</td>\n",
       "      <td>8.000000</td>\n",
       "      <td>19.000000</td>\n",
       "      <td>323.000000</td>\n",
       "      <td>1.507249e+12</td>\n",
       "      <td>199.000000</td>\n",
       "    </tr>\n",
       "    <tr>\n",
       "      <th>75%</th>\n",
       "      <td>240182.000000</td>\n",
       "      <td>272143.000000</td>\n",
       "      <td>1.507666e+12</td>\n",
       "      <td>4.000000</td>\n",
       "      <td>3.000000</td>\n",
       "      <td>17.000000</td>\n",
       "      <td>1.000000</td>\n",
       "      <td>25.000000</td>\n",
       "      <td>2.000000</td>\n",
       "      <td>18.000000</td>\n",
       "      <td>35.000000</td>\n",
       "      <td>399.000000</td>\n",
       "      <td>1.507630e+12</td>\n",
       "      <td>232.000000</td>\n",
       "    </tr>\n",
       "    <tr>\n",
       "      <th>max</th>\n",
       "      <td>249999.000000</td>\n",
       "      <td>364043.000000</td>\n",
       "      <td>1.508832e+12</td>\n",
       "      <td>4.000000</td>\n",
       "      <td>5.000000</td>\n",
       "      <td>20.000000</td>\n",
       "      <td>11.000000</td>\n",
       "      <td>28.000000</td>\n",
       "      <td>7.000000</td>\n",
       "      <td>938.000000</td>\n",
       "      <td>938.000000</td>\n",
       "      <td>460.000000</td>\n",
       "      <td>1.509949e+12</td>\n",
       "      <td>3082.000000</td>\n",
       "    </tr>\n",
       "  </tbody>\n",
       "</table>\n",
       "</div>"
      ],
      "text/plain": [
       "             user_id  click_article_id  click_timestamp  click_environment  \\\n",
       "count  518010.000000     518010.000000     5.180100e+05      518010.000000   \n",
       "mean   227342.428169     193803.792550     1.507387e+12           3.947300   \n",
       "std     14613.907188      88279.388177     3.706127e+08           0.323916   \n",
       "min    200000.000000        137.000000     1.506959e+12           1.000000   \n",
       "25%    214926.000000     128551.000000     1.507026e+12           4.000000   \n",
       "50%    229109.000000     199197.000000     1.507308e+12           4.000000   \n",
       "75%    240182.000000     272143.000000     1.507666e+12           4.000000   \n",
       "max    249999.000000     364043.000000     1.508832e+12           4.000000   \n",
       "\n",
       "       click_deviceGroup       click_os  click_country   click_region  \\\n",
       "count      518010.000000  518010.000000  518010.000000  518010.000000   \n",
       "mean            1.738285      13.628467       1.348209      18.250250   \n",
       "std             1.020858       6.625564       1.703524       7.060798   \n",
       "min             1.000000       2.000000       1.000000       1.000000   \n",
       "25%             1.000000      12.000000       1.000000      13.000000   \n",
       "50%             1.000000      17.000000       1.000000      21.000000   \n",
       "75%             3.000000      17.000000       1.000000      25.000000   \n",
       "max             5.000000      20.000000      11.000000      28.000000   \n",
       "\n",
       "       click_referrer_type           rank     click_cnts    category_id  \\\n",
       "count        518010.000000  518010.000000  518010.000000  518010.000000   \n",
       "mean              1.819614      15.521785      30.043586     305.324961   \n",
       "std               1.082657      33.957702      56.868021     110.411513   \n",
       "min               1.000000       1.000000       1.000000       1.000000   \n",
       "25%               1.000000       4.000000      10.000000     252.000000   \n",
       "50%               2.000000       8.000000      19.000000     323.000000   \n",
       "75%               2.000000      18.000000      35.000000     399.000000   \n",
       "max               7.000000     938.000000     938.000000     460.000000   \n",
       "\n",
       "       created_at_ts    words_count  \n",
       "count   5.180100e+05  518010.000000  \n",
       "mean    1.506883e+12     210.966331  \n",
       "std     5.816668e+09      83.040065  \n",
       "min     1.265812e+12       0.000000  \n",
       "25%     1.506970e+12     176.000000  \n",
       "50%     1.507249e+12     199.000000  \n",
       "75%     1.507630e+12     232.000000  \n",
       "max     1.509949e+12    3082.000000  "
      ]
     },
     "execution_count": 13,
     "metadata": {},
     "output_type": "execute_result"
    }
   ],
   "source": [
    "tst_click.describe()"
   ]
  },
  {
   "cell_type": "markdown",
   "metadata": {},
   "source": [
    "以上可以看出训练集和测试集的用户是完全不一样的，训练集的用户ID由0 ~ 199999，而测试集A的用户ID由200000 ~ 249999"
   ]
  },
  {
   "cell_type": "code",
   "execution_count": 7,
   "metadata": {},
   "outputs": [
    {
     "data": {
      "text/plain": [
       "200000"
      ]
     },
     "execution_count": 7,
     "metadata": {},
     "output_type": "execute_result"
    }
   ],
   "source": [
    "# 训练集的用户数量是20w\n",
    "trn_click.user_id.nunique()"
   ]
  },
  {
   "cell_type": "code",
   "execution_count": 16,
   "metadata": {},
   "outputs": [
    {
     "data": {
      "text/plain": [
       "50000"
      ]
     },
     "execution_count": 16,
     "metadata": {},
     "output_type": "execute_result"
    }
   ],
   "source": [
    "# 测试集的用户数量是5w\n",
    "tst_click.user_id.nunique()"
   ]
  },
  {
   "cell_type": "code",
   "execution_count": 8,
   "metadata": {},
   "outputs": [
    {
     "data": {
      "text/plain": [
       "2"
      ]
     },
     "execution_count": 8,
     "metadata": {},
     "output_type": "execute_result"
    }
   ],
   "source": [
    "# 训练集里面每个用户至少点击了两篇文章\n",
    "trn_click.groupby('user_id')['click_article_id'].count().min()  "
   ]
  },
  {
   "cell_type": "code",
   "execution_count": 17,
   "metadata": {},
   "outputs": [
    {
     "data": {
      "text/plain": [
       "1"
      ]
     },
     "execution_count": 17,
     "metadata": {},
     "output_type": "execute_result"
    }
   ],
   "source": [
    "# 注意测试集里面有只点击过一次文章的用户\n",
    "tst_click.groupby('user_id')['click_article_id'].count().min() "
   ]
  },
  {
   "cell_type": "markdown",
   "metadata": {},
   "source": [
    "## 查看训练集基本分布"
   ]
  },
  {
   "cell_type": "code",
   "execution_count": 11,
   "metadata": {},
   "outputs": [
    {
     "name": "stderr",
     "output_type": "stream",
     "text": [
      "findfont: Font family ['SimHei'] not found. Falling back to DejaVu Sans.\n",
      "findfont: Font family ['SimHei'] not found. Falling back to DejaVu Sans.\n"
     ]
    },
    {
     "data": {
      "text/plain": [
       "<Figure size 432x288 with 0 Axes>"
      ]
     },
     "metadata": {},
     "output_type": "display_data"
    },
    {
     "data": {
      "image/png": "[encoded data removed]",
      "text/plain": [
       "<Figure size 1080x1440 with 10 Axes>"
      ]
     },
     "metadata": {
      "needs_background": "light"
     },
     "output_type": "display_data"
    }
   ],
   "source": [
    "plt.figure()\n",
    "plt.figure(figsize=(15, 20))\n",
    "i = 1\n",
    "for col in ['click_article_id', 'click_timestamp', 'click_environment', 'click_deviceGroup', 'click_os', 'click_country', \n",
    "            'click_region', 'click_referrer_type', 'rank', 'click_cnts']:\n",
    "    plot_envs = plt.subplot(5, 2, i)\n",
    "    i += 1\n",
    "    v = trn_click[col].value_counts().reset_index()[:10]\n",
    "    fig = sns.barplot(x=v['index'], y=v[col])\n",
    "    for item in fig.get_xticklabels():\n",
    "        item.set_rotation(90)\n",
    "    plt.title(col)\n",
    "plt.tight_layout()\n",
    "plt.show()"
   ]
  },
  {
   "cell_type": "markdown",
   "metadata": {},
   "source": [
    "从点击时间clik_timestamp来看，分布较为平均，可不做特殊处理。由于时间戳是13位的，后续将时间格式转换成10位方便计算。\n",
    "\n",
    "从点击环境click_environment来看，仅有1922次（占0.1%）点击环境为1；仅有24617次（占2.3%）点击环境为2；剩余（占97.6%）点击环境为4。\n",
    "\n",
    "从点击设备组click_deviceGroup来看，设备1占大部分（60.4%），设备3占36%。"
   ]
  },
  {
   "cell_type": "markdown",
   "metadata": {},
   "source": [
    "## 新闻文章信息数据表"
   ]
  },
  {
   "cell_type": "code",
   "execution_count": 18,
   "metadata": {},
   "outputs": [
    {
     "data": {
      "text/html": [
       "<div>\n",
       "<style scoped>\n",
       "    .dataframe tbody tr th:only-of-type {\n",
       "        vertical-align: middle;\n",
       "    }\n",
       "\n",
       "    .dataframe tbody tr th {\n",
       "        vertical-align: top;\n",
       "    }\n",
       "\n",
       "    .dataframe thead th {\n",
       "        text-align: right;\n",
       "    }\n",
       "</style>\n",
       "<table border=\"1\" class=\"dataframe\">\n",
       "  <thead>\n",
       "    <tr style=\"text-align: right;\">\n",
       "      <th></th>\n",
       "      <th>click_article_id</th>\n",
       "      <th>category_id</th>\n",
       "      <th>created_at_ts</th>\n",
       "      <th>words_count</th>\n",
       "    </tr>\n",
       "  </thead>\n",
       "  <tbody>\n",
       "    <tr>\n",
       "      <th>0</th>\n",
       "      <td>0</td>\n",
       "      <td>0</td>\n",
       "      <td>1513144419000</td>\n",
       "      <td>168</td>\n",
       "    </tr>\n",
       "    <tr>\n",
       "      <th>1</th>\n",
       "      <td>1</td>\n",
       "      <td>1</td>\n",
       "      <td>1405341936000</td>\n",
       "      <td>189</td>\n",
       "    </tr>\n",
       "    <tr>\n",
       "      <th>2</th>\n",
       "      <td>2</td>\n",
       "      <td>1</td>\n",
       "      <td>1408667706000</td>\n",
       "      <td>250</td>\n",
       "    </tr>\n",
       "    <tr>\n",
       "      <th>3</th>\n",
       "      <td>3</td>\n",
       "      <td>1</td>\n",
       "      <td>1408468313000</td>\n",
       "      <td>230</td>\n",
       "    </tr>\n",
       "    <tr>\n",
       "      <th>4</th>\n",
       "      <td>4</td>\n",
       "      <td>1</td>\n",
       "      <td>1407071171000</td>\n",
       "      <td>162</td>\n",
       "    </tr>\n",
       "    <tr>\n",
       "      <th>364042</th>\n",
       "      <td>364042</td>\n",
       "      <td>460</td>\n",
       "      <td>1434034118000</td>\n",
       "      <td>144</td>\n",
       "    </tr>\n",
       "    <tr>\n",
       "      <th>364043</th>\n",
       "      <td>364043</td>\n",
       "      <td>460</td>\n",
       "      <td>1434148472000</td>\n",
       "      <td>463</td>\n",
       "    </tr>\n",
       "    <tr>\n",
       "      <th>364044</th>\n",
       "      <td>364044</td>\n",
       "      <td>460</td>\n",
       "      <td>1457974279000</td>\n",
       "      <td>177</td>\n",
       "    </tr>\n",
       "    <tr>\n",
       "      <th>364045</th>\n",
       "      <td>364045</td>\n",
       "      <td>460</td>\n",
       "      <td>1515964737000</td>\n",
       "      <td>126</td>\n",
       "    </tr>\n",
       "    <tr>\n",
       "      <th>364046</th>\n",
       "      <td>364046</td>\n",
       "      <td>460</td>\n",
       "      <td>1505811330000</td>\n",
       "      <td>479</td>\n",
       "    </tr>\n",
       "  </tbody>\n",
       "</table>\n",
       "</div>"
      ],
      "text/plain": [
       "        click_article_id  category_id  created_at_ts  words_count\n",
       "0                      0            0  1513144419000          168\n",
       "1                      1            1  1405341936000          189\n",
       "2                      2            1  1408667706000          250\n",
       "3                      3            1  1408468313000          230\n",
       "4                      4            1  1407071171000          162\n",
       "364042            364042          460  1434034118000          144\n",
       "364043            364043          460  1434148472000          463\n",
       "364044            364044          460  1457974279000          177\n",
       "364045            364045          460  1515964737000          126\n",
       "364046            364046          460  1505811330000          479"
      ]
     },
     "execution_count": 18,
     "metadata": {},
     "output_type": "execute_result"
    }
   ],
   "source": [
    "item_df.head().append(item_df.tail())"
   ]
  },
  {
   "cell_type": "code",
   "execution_count": 19,
   "metadata": {},
   "outputs": [
    {
     "data": {
      "text/plain": [
       "176     3485\n",
       "182     3480\n",
       "179     3463\n",
       "178     3458\n",
       "174     3456\n",
       "        ... \n",
       "845        1\n",
       "710        1\n",
       "965        1\n",
       "847        1\n",
       "1535       1\n",
       "Name: words_count, Length: 866, dtype: int64"
      ]
     },
     "execution_count": 19,
     "metadata": {},
     "output_type": "execute_result"
    }
   ],
   "source": [
    "item_df['words_count'].value_counts()"
   ]
  },
  {
   "cell_type": "code",
   "execution_count": 20,
   "metadata": {},
   "outputs": [
    {
     "name": "stdout",
     "output_type": "stream",
     "text": [
      "461\n"
     ]
    },
    {
     "data": {
      "text/plain": [
       "<matplotlib.axes._subplots.AxesSubplot at 0x117dda650>"
      ]
     },
     "execution_count": 20,
     "metadata": {},
     "output_type": "execute_result"
    },
    {
     "data": {
      "image/png": "[encoded data removed]",
      "text/plain": [
       "<Figure size 432x288 with 1 Axes>"
      ]
     },
     "metadata": {
      "needs_background": "light"
     },
     "output_type": "display_data"
    }
   ],
   "source": [
    "print(item_df['category_id'].nunique())     # 461个文章主题\n",
    "item_df['category_id'].hist()"
   ]
  },
  {
   "cell_type": "code",
   "execution_count": 21,
   "metadata": {},
   "outputs": [
    {
     "data": {
      "text/plain": [
       "(364047, 4)"
      ]
     },
     "execution_count": 21,
     "metadata": {},
     "output_type": "execute_result"
    }
   ],
   "source": [
    "# 364047篇文章\n",
    "item_df.shape"
   ]
  },
  {
   "cell_type": "code",
   "execution_count": 22,
   "metadata": {},
   "outputs": [
    {
     "data": {
      "text/html": [
       "<div>\n",
       "<style scoped>\n",
       "    .dataframe tbody tr th:only-of-type {\n",
       "        vertical-align: middle;\n",
       "    }\n",
       "\n",
       "    .dataframe tbody tr th {\n",
       "        vertical-align: top;\n",
       "    }\n",
       "\n",
       "    .dataframe thead th {\n",
       "        text-align: right;\n",
       "    }\n",
       "</style>\n",
       "<table border=\"1\" class=\"dataframe\">\n",
       "  <thead>\n",
       "    <tr style=\"text-align: right;\">\n",
       "      <th></th>\n",
       "      <th>article_id</th>\n",
       "      <th>emb_0</th>\n",
       "      <th>emb_1</th>\n",
       "      <th>emb_2</th>\n",
       "      <th>emb_3</th>\n",
       "      <th>emb_4</th>\n",
       "      <th>emb_5</th>\n",
       "      <th>emb_6</th>\n",
       "      <th>emb_7</th>\n",
       "      <th>emb_8</th>\n",
       "      <th>...</th>\n",
       "      <th>emb_240</th>\n",
       "      <th>emb_241</th>\n",
       "      <th>emb_242</th>\n",
       "      <th>emb_243</th>\n",
       "      <th>emb_244</th>\n",
       "      <th>emb_245</th>\n",
       "      <th>emb_246</th>\n",
       "      <th>emb_247</th>\n",
       "      <th>emb_248</th>\n",
       "      <th>emb_249</th>\n",
       "    </tr>\n",
       "  </thead>\n",
       "  <tbody>\n",
       "    <tr>\n",
       "      <th>0</th>\n",
       "      <td>0</td>\n",
       "      <td>-0.161183</td>\n",
       "      <td>-0.957233</td>\n",
       "      <td>-0.137944</td>\n",
       "      <td>0.050855</td>\n",
       "      <td>0.830055</td>\n",
       "      <td>0.901365</td>\n",
       "      <td>-0.335148</td>\n",
       "      <td>-0.559561</td>\n",
       "      <td>-0.500603</td>\n",
       "      <td>...</td>\n",
       "      <td>0.321248</td>\n",
       "      <td>0.313999</td>\n",
       "      <td>0.636412</td>\n",
       "      <td>0.169179</td>\n",
       "      <td>0.540524</td>\n",
       "      <td>-0.813182</td>\n",
       "      <td>0.286870</td>\n",
       "      <td>-0.231686</td>\n",
       "      <td>0.597416</td>\n",
       "      <td>0.409623</td>\n",
       "    </tr>\n",
       "    <tr>\n",
       "      <th>1</th>\n",
       "      <td>1</td>\n",
       "      <td>-0.523216</td>\n",
       "      <td>-0.974058</td>\n",
       "      <td>0.738608</td>\n",
       "      <td>0.155234</td>\n",
       "      <td>0.626294</td>\n",
       "      <td>0.485297</td>\n",
       "      <td>-0.715657</td>\n",
       "      <td>-0.897996</td>\n",
       "      <td>-0.359747</td>\n",
       "      <td>...</td>\n",
       "      <td>-0.487843</td>\n",
       "      <td>0.823124</td>\n",
       "      <td>0.412688</td>\n",
       "      <td>-0.338654</td>\n",
       "      <td>0.320786</td>\n",
       "      <td>0.588643</td>\n",
       "      <td>-0.594137</td>\n",
       "      <td>0.182828</td>\n",
       "      <td>0.397090</td>\n",
       "      <td>-0.834364</td>\n",
       "    </tr>\n",
       "    <tr>\n",
       "      <th>2</th>\n",
       "      <td>2</td>\n",
       "      <td>-0.619619</td>\n",
       "      <td>-0.972960</td>\n",
       "      <td>-0.207360</td>\n",
       "      <td>-0.128861</td>\n",
       "      <td>0.044748</td>\n",
       "      <td>-0.387535</td>\n",
       "      <td>-0.730477</td>\n",
       "      <td>-0.066126</td>\n",
       "      <td>-0.754899</td>\n",
       "      <td>...</td>\n",
       "      <td>0.454756</td>\n",
       "      <td>0.473184</td>\n",
       "      <td>0.377866</td>\n",
       "      <td>-0.863887</td>\n",
       "      <td>-0.383365</td>\n",
       "      <td>0.137721</td>\n",
       "      <td>-0.810877</td>\n",
       "      <td>-0.447580</td>\n",
       "      <td>0.805932</td>\n",
       "      <td>-0.285284</td>\n",
       "    </tr>\n",
       "    <tr>\n",
       "      <th>3</th>\n",
       "      <td>3</td>\n",
       "      <td>-0.740843</td>\n",
       "      <td>-0.975749</td>\n",
       "      <td>0.391698</td>\n",
       "      <td>0.641738</td>\n",
       "      <td>-0.268645</td>\n",
       "      <td>0.191745</td>\n",
       "      <td>-0.825593</td>\n",
       "      <td>-0.710591</td>\n",
       "      <td>-0.040099</td>\n",
       "      <td>...</td>\n",
       "      <td>0.271535</td>\n",
       "      <td>0.036040</td>\n",
       "      <td>0.480029</td>\n",
       "      <td>-0.763173</td>\n",
       "      <td>0.022627</td>\n",
       "      <td>0.565165</td>\n",
       "      <td>-0.910286</td>\n",
       "      <td>-0.537838</td>\n",
       "      <td>0.243541</td>\n",
       "      <td>-0.885329</td>\n",
       "    </tr>\n",
       "    <tr>\n",
       "      <th>4</th>\n",
       "      <td>4</td>\n",
       "      <td>-0.279052</td>\n",
       "      <td>-0.972315</td>\n",
       "      <td>0.685374</td>\n",
       "      <td>0.113056</td>\n",
       "      <td>0.238315</td>\n",
       "      <td>0.271913</td>\n",
       "      <td>-0.568816</td>\n",
       "      <td>0.341194</td>\n",
       "      <td>-0.600554</td>\n",
       "      <td>...</td>\n",
       "      <td>0.238286</td>\n",
       "      <td>0.809268</td>\n",
       "      <td>0.427521</td>\n",
       "      <td>-0.615932</td>\n",
       "      <td>-0.503697</td>\n",
       "      <td>0.614450</td>\n",
       "      <td>-0.917760</td>\n",
       "      <td>-0.424061</td>\n",
       "      <td>0.185484</td>\n",
       "      <td>-0.580292</td>\n",
       "    </tr>\n",
       "  </tbody>\n",
       "</table>\n",
       "<p>5 rows × 251 columns</p>\n",
       "</div>"
      ],
      "text/plain": [
       "   article_id     emb_0     emb_1     emb_2     emb_3     emb_4     emb_5  \\\n",
       "0           0 -0.161183 -0.957233 -0.137944  0.050855  0.830055  0.901365   \n",
       "1           1 -0.523216 -0.974058  0.738608  0.155234  0.626294  0.485297   \n",
       "2           2 -0.619619 -0.972960 -0.207360 -0.128861  0.044748 -0.387535   \n",
       "3           3 -0.740843 -0.975749  0.391698  0.641738 -0.268645  0.191745   \n",
       "4           4 -0.279052 -0.972315  0.685374  0.113056  0.238315  0.271913   \n",
       "\n",
       "      emb_6     emb_7     emb_8  ...   emb_240   emb_241   emb_242   emb_243  \\\n",
       "0 -0.335148 -0.559561 -0.500603  ...  0.321248  0.313999  0.636412  0.169179   \n",
       "1 -0.715657 -0.897996 -0.359747  ... -0.487843  0.823124  0.412688 -0.338654   \n",
       "2 -0.730477 -0.066126 -0.754899  ...  0.454756  0.473184  0.377866 -0.863887   \n",
       "3 -0.825593 -0.710591 -0.040099  ...  0.271535  0.036040  0.480029 -0.763173   \n",
       "4 -0.568816  0.341194 -0.600554  ...  0.238286  0.809268  0.427521 -0.615932   \n",
       "\n",
       "    emb_244   emb_245   emb_246   emb_247   emb_248   emb_249  \n",
       "0  0.540524 -0.813182  0.286870 -0.231686  0.597416  0.409623  \n",
       "1  0.320786  0.588643 -0.594137  0.182828  0.397090 -0.834364  \n",
       "2 -0.383365  0.137721 -0.810877 -0.447580  0.805932 -0.285284  \n",
       "3  0.022627  0.565165 -0.910286 -0.537838  0.243541 -0.885329  \n",
       "4 -0.503697  0.614450 -0.917760 -0.424061  0.185484 -0.580292  \n",
       "\n",
       "[5 rows x 251 columns]"
      ]
     },
     "execution_count": 22,
     "metadata": {},
     "output_type": "execute_result"
    }
   ],
   "source": [
    "# 新闻文章embedding向量表示\n",
    "item_emb_df.head()"
   ]
  },
  {
   "cell_type": "code",
   "execution_count": 23,
   "metadata": {},
   "outputs": [
    {
     "data": {
      "text/plain": [
       "(364047, 251)"
      ]
     },
     "execution_count": 23,
     "metadata": {},
     "output_type": "execute_result"
    }
   ],
   "source": [
    "item_emb_df.shape"
   ]
  },
  {
   "cell_type": "markdown",
   "metadata": {},
   "source": [
    "## 用户重复点击分析"
   ]
  },
  {
   "cell_type": "code",
   "execution_count": 24,
   "metadata": {},
   "outputs": [
    {
     "data": {
      "text/html": [
       "<div>\n",
       "<style scoped>\n",
       "    .dataframe tbody tr th:only-of-type {\n",
       "        vertical-align: middle;\n",
       "    }\n",
       "\n",
       "    .dataframe tbody tr th {\n",
       "        vertical-align: top;\n",
       "    }\n",
       "\n",
       "    .dataframe thead th {\n",
       "        text-align: right;\n",
       "    }\n",
       "</style>\n",
       "<table border=\"1\" class=\"dataframe\">\n",
       "  <thead>\n",
       "    <tr style=\"text-align: right;\">\n",
       "      <th></th>\n",
       "      <th>user_id</th>\n",
       "      <th>click_article_id</th>\n",
       "      <th>count</th>\n",
       "    </tr>\n",
       "  </thead>\n",
       "  <tbody>\n",
       "    <tr>\n",
       "      <th>0</th>\n",
       "      <td>0</td>\n",
       "      <td>30760</td>\n",
       "      <td>1</td>\n",
       "    </tr>\n",
       "    <tr>\n",
       "      <th>1</th>\n",
       "      <td>0</td>\n",
       "      <td>157507</td>\n",
       "      <td>1</td>\n",
       "    </tr>\n",
       "    <tr>\n",
       "      <th>2</th>\n",
       "      <td>1</td>\n",
       "      <td>63746</td>\n",
       "      <td>1</td>\n",
       "    </tr>\n",
       "    <tr>\n",
       "      <th>3</th>\n",
       "      <td>1</td>\n",
       "      <td>289197</td>\n",
       "      <td>1</td>\n",
       "    </tr>\n",
       "    <tr>\n",
       "      <th>4</th>\n",
       "      <td>2</td>\n",
       "      <td>36162</td>\n",
       "      <td>1</td>\n",
       "    </tr>\n",
       "    <tr>\n",
       "      <th>5</th>\n",
       "      <td>2</td>\n",
       "      <td>168401</td>\n",
       "      <td>1</td>\n",
       "    </tr>\n",
       "    <tr>\n",
       "      <th>6</th>\n",
       "      <td>3</td>\n",
       "      <td>36162</td>\n",
       "      <td>1</td>\n",
       "    </tr>\n",
       "    <tr>\n",
       "      <th>7</th>\n",
       "      <td>3</td>\n",
       "      <td>50644</td>\n",
       "      <td>1</td>\n",
       "    </tr>\n",
       "    <tr>\n",
       "      <th>8</th>\n",
       "      <td>4</td>\n",
       "      <td>39894</td>\n",
       "      <td>1</td>\n",
       "    </tr>\n",
       "    <tr>\n",
       "      <th>9</th>\n",
       "      <td>4</td>\n",
       "      <td>42567</td>\n",
       "      <td>1</td>\n",
       "    </tr>\n",
       "  </tbody>\n",
       "</table>\n",
       "</div>"
      ],
      "text/plain": [
       "   user_id  click_article_id  count\n",
       "0        0             30760      1\n",
       "1        0            157507      1\n",
       "2        1             63746      1\n",
       "3        1            289197      1\n",
       "4        2             36162      1\n",
       "5        2            168401      1\n",
       "6        3             36162      1\n",
       "7        3             50644      1\n",
       "8        4             39894      1\n",
       "9        4             42567      1"
      ]
     },
     "execution_count": 24,
     "metadata": {},
     "output_type": "execute_result"
    }
   ],
   "source": [
    "user_click_merge = trn_click.append(tst_click)\n",
    "\n",
    "#用户重复点击\n",
    "user_click_count = user_click_merge.groupby(['user_id', 'click_article_id'])['click_timestamp'].agg({'count'}).reset_index()\n",
    "user_click_count[:10]"
   ]
  },
  {
   "cell_type": "code",
   "execution_count": 25,
   "metadata": {},
   "outputs": [
    {
     "data": {
      "text/html": [
       "<div>\n",
       "<style scoped>\n",
       "    .dataframe tbody tr th:only-of-type {\n",
       "        vertical-align: middle;\n",
       "    }\n",
       "\n",
       "    .dataframe tbody tr th {\n",
       "        vertical-align: top;\n",
       "    }\n",
       "\n",
       "    .dataframe thead th {\n",
       "        text-align: right;\n",
       "    }\n",
       "</style>\n",
       "<table border=\"1\" class=\"dataframe\">\n",
       "  <thead>\n",
       "    <tr style=\"text-align: right;\">\n",
       "      <th></th>\n",
       "      <th>user_id</th>\n",
       "      <th>click_article_id</th>\n",
       "      <th>count</th>\n",
       "    </tr>\n",
       "  </thead>\n",
       "  <tbody>\n",
       "    <tr>\n",
       "      <th>311242</th>\n",
       "      <td>86295</td>\n",
       "      <td>74254</td>\n",
       "      <td>10</td>\n",
       "    </tr>\n",
       "    <tr>\n",
       "      <th>311243</th>\n",
       "      <td>86295</td>\n",
       "      <td>76268</td>\n",
       "      <td>10</td>\n",
       "    </tr>\n",
       "    <tr>\n",
       "      <th>393761</th>\n",
       "      <td>103237</td>\n",
       "      <td>205948</td>\n",
       "      <td>10</td>\n",
       "    </tr>\n",
       "    <tr>\n",
       "      <th>393763</th>\n",
       "      <td>103237</td>\n",
       "      <td>235689</td>\n",
       "      <td>10</td>\n",
       "    </tr>\n",
       "    <tr>\n",
       "      <th>576902</th>\n",
       "      <td>134850</td>\n",
       "      <td>69463</td>\n",
       "      <td>13</td>\n",
       "    </tr>\n",
       "  </tbody>\n",
       "</table>\n",
       "</div>"
      ],
      "text/plain": [
       "        user_id  click_article_id  count\n",
       "311242    86295             74254     10\n",
       "311243    86295             76268     10\n",
       "393761   103237            205948     10\n",
       "393763   103237            235689     10\n",
       "576902   134850             69463     13"
      ]
     },
     "execution_count": 25,
     "metadata": {},
     "output_type": "execute_result"
    }
   ],
   "source": [
    "user_click_count[user_click_count['count']>7]"
   ]
  },
  {
   "cell_type": "code",
   "execution_count": 26,
   "metadata": {},
   "outputs": [
    {
     "data": {
      "text/plain": [
       "array([ 1,  2,  4,  3,  6,  5, 10,  7, 13])"
      ]
     },
     "execution_count": 26,
     "metadata": {},
     "output_type": "execute_result"
    }
   ],
   "source": [
    "user_click_count['count'].unique()"
   ]
  },
  {
   "cell_type": "code",
   "execution_count": 27,
   "metadata": {},
   "outputs": [
    {
     "data": {
      "text/plain": [
       "1     1605541\n",
       "2       11621\n",
       "3         422\n",
       "4          77\n",
       "5          26\n",
       "6          12\n",
       "10          4\n",
       "7           3\n",
       "13          1\n",
       "Name: count, dtype: int64"
      ]
     },
     "execution_count": 27,
     "metadata": {},
     "output_type": "execute_result"
    }
   ],
   "source": [
    "#用户点击新闻次数\n",
    "user_click_count.loc[:,'count'].value_counts() "
   ]
  },
  {
   "cell_type": "markdown",
   "metadata": {},
   "source": [
    "可以看出：有1605541（约占99.2%）的用户未重复阅读过文章，仅有极少数用户重复点击过某篇文章。 这个也可以单独制作成特征"
   ]
  },
  {
   "cell_type": "markdown",
   "metadata": {},
   "source": [
    "## 用户点击环境变化分析\n",
    "\n",
    "可以看出绝大多数数的用户的点击环境是比较固定的。\n",
    "\n",
    "思路：可以基于这些环境的统计特征来代表该用户本身的属性"
   ]
  },
  {
   "cell_type": "code",
   "execution_count": 28,
   "metadata": {},
   "outputs": [
    {
     "data": {
      "text/plain": [
       "<Figure size 432x288 with 0 Axes>"
      ]
     },
     "metadata": {},
     "output_type": "display_data"
    },
    {
     "data": {
      "image/png": "[encoded data removed]",
      "text/plain": [
       "<Figure size 720x360 with 6 Axes>"
      ]
     },
     "metadata": {
      "needs_background": "light"
     },
     "output_type": "display_data"
    },
    {
     "data": {
      "text/plain": [
       "<Figure size 432x288 with 0 Axes>"
      ]
     },
     "metadata": {},
     "output_type": "display_data"
    },
    {
     "data": {
      "image/png": "[encoded data removed]",
      "text/plain": [
       "<Figure size 720x360 with 6 Axes>"
      ]
     },
     "metadata": {
      "needs_background": "light"
     },
     "output_type": "display_data"
    },
    {
     "data": {
      "text/plain": [
       "<Figure size 432x288 with 0 Axes>"
      ]
     },
     "metadata": {},
     "output_type": "display_data"
    },
    {
     "data": {
      "image/png": "[encoded data removed]",
      "text/plain": [
       "<Figure size 720x360 with 6 Axes>"
      ]
     },
     "metadata": {
      "needs_background": "light"
     },
     "output_type": "display_data"
    },
    {
     "data": {
      "text/plain": [
       "<Figure size 432x288 with 0 Axes>"
      ]
     },
     "metadata": {},
     "output_type": "display_data"
    },
    {
     "data": {
      "image/png": "[encoded data removed]",
      "text/plain": [
       "<Figure size 720x360 with 6 Axes>"
      ]
     },
     "metadata": {
      "needs_background": "light"
     },
     "output_type": "display_data"
    },
    {
     "data": {
      "text/plain": [
       "<Figure size 432x288 with 0 Axes>"
      ]
     },
     "metadata": {},
     "output_type": "display_data"
    },
    {
     "data": {
      "image/png": "[encoded data removed]",
      "text/plain": [
       "<Figure size 720x360 with 6 Axes>"
      ]
     },
     "metadata": {
      "needs_background": "light"
     },
     "output_type": "display_data"
    }
   ],
   "source": [
    "def plot_envs(df, cols, r, c):\n",
    "    plt.figure()\n",
    "    plt.figure(figsize=(10, 5))\n",
    "    i = 1\n",
    "    for col in cols:\n",
    "        plt.subplot(r, c, i)\n",
    "        i += 1\n",
    "        v = df[col].value_counts().reset_index()\n",
    "        fig = sns.barplot(x=v['index'], y=v[col])\n",
    "        for item in fig.get_xticklabels():\n",
    "            item.set_rotation(90)\n",
    "        plt.title(col)\n",
    "    plt.tight_layout()\n",
    "    plt.show()\n",
    "    \n",
    "# 分析用户点击环境变化是否明显，这里随机采样10个用户分析这些用户的点击环境分布\n",
    "sample_user_ids = np.random.choice(tst_click['user_id'].unique(), size=5, replace=False)\n",
    "sample_users = user_click_merge[user_click_merge['user_id'].isin(sample_user_ids)]\n",
    "cols = ['click_environment','click_deviceGroup', 'click_os', 'click_country', 'click_region','click_referrer_type']\n",
    "for _, user_df in sample_users.groupby('user_id'):\n",
    "    plot_envs(user_df, cols, 2, 3)\n",
    "    "
   ]
  },
  {
   "cell_type": "markdown",
   "metadata": {},
   "source": [
    "## 用户点击新闻数量的分布"
   ]
  },
  {
   "cell_type": "code",
   "execution_count": 29,
   "metadata": {},
   "outputs": [
    {
     "data": {
      "text/plain": [
       "[<matplotlib.lines.Line2D at 0x119458790>]"
      ]
     },
     "execution_count": 29,
     "metadata": {},
     "output_type": "execute_result"
    },
    {
     "data": {
      "image/png": "[encoded data removed]",
      "text/plain": [
       "<Figure size 432x288 with 1 Axes>"
      ]
     },
     "metadata": {
      "needs_background": "light"
     },
     "output_type": "display_data"
    }
   ],
   "source": [
    "# 可以根据用户的点击文章次数看出用户的活跃度\n",
    "\n",
    "user_click_item_count = sorted(user_click_merge.groupby('user_id')['click_article_id'].count(), reverse=True)\n",
    "plt.plot(user_click_item_count)"
   ]
  },
  {
   "cell_type": "code",
   "execution_count": 30,
   "metadata": {},
   "outputs": [
    {
     "data": {
      "text/plain": [
       "[<matplotlib.lines.Line2D at 0x11cbb4110>]"
      ]
     },
     "execution_count": 30,
     "metadata": {},
     "output_type": "execute_result"
    },
    {
     "data": {
      "image/png": "[encoded data removed]",
      "text/plain": [
       "<Figure size 432x288 with 1 Axes>"
      ]
     },
     "metadata": {
      "needs_background": "light"
     },
     "output_type": "display_data"
    }
   ],
   "source": [
    "# 点击次数在前50的用户\n",
    "plt.plot(user_click_item_count[:50])"
   ]
  },
  {
   "cell_type": "markdown",
   "metadata": {},
   "source": [
    "点击次数排前50的用户的点击次数都在100次以上。思路：我们可以定义点击次数大于等于100次的用户为活跃用户，这是一种简单的处理思路， 判断用户活跃度，更加全面的是再结合上点击时间，后面我们会基于点击次数和点击时间两个方面来判断用户活跃度。"
   ]
  },
  {
   "cell_type": "code",
   "execution_count": 31,
   "metadata": {},
   "outputs": [
    {
     "data": {
      "text/plain": [
       "[<matplotlib.lines.Line2D at 0x11c9e8210>]"
      ]
     },
     "execution_count": 31,
     "metadata": {},
     "output_type": "execute_result"
    },
    {
     "data": {
      "image/png": "[encoded data removed]",
      "text/plain": [
       "<Figure size 432x288 with 1 Axes>"
      ]
     },
     "metadata": {
      "needs_background": "light"
     },
     "output_type": "display_data"
    }
   ],
   "source": [
    "# 点击次数排名在[25000:50000]之间\n",
    "# 可以看出点击次数小于等于两次的用户非常的多，这些用户可以认为是非活跃用户\n",
    "plt.plot(user_click_item_count[25000:50000])"
   ]
  },
  {
   "cell_type": "markdown",
   "metadata": {},
   "source": [
    "## 新闻点击次数分析"
   ]
  },
  {
   "cell_type": "code",
   "execution_count": 33,
   "metadata": {},
   "outputs": [
    {
     "data": {
      "text/plain": [
       "[<matplotlib.lines.Line2D at 0x1192d5d90>]"
      ]
     },
     "execution_count": 33,
     "metadata": {},
     "output_type": "execute_result"
    },
    {
     "data": {
      "image/png": "[encoded data removed]",
      "text/plain": [
       "<Figure size 432x288 with 1 Axes>"
      ]
     },
     "metadata": {
      "needs_background": "light"
     },
     "output_type": "display_data"
    }
   ],
   "source": [
    "item_click_count = sorted(user_click_merge.groupby('click_article_id')['user_id'].count(), reverse=True)\n",
    "plt.plot(item_click_count)"
   ]
  },
  {
   "cell_type": "code",
   "execution_count": 34,
   "metadata": {},
   "outputs": [
    {
     "data": {
      "text/plain": [
       "[<matplotlib.lines.Line2D at 0x119517c50>]"
      ]
     },
     "execution_count": 34,
     "metadata": {},
     "output_type": "execute_result"
    },
    {
     "data": {
      "image/png": "[encoded data removed]",
      "text/plain": [
       "<Figure size 432x288 with 1 Axes>"
      ]
     },
     "metadata": {
      "needs_background": "light"
     },
     "output_type": "display_data"
    }
   ],
   "source": [
    "plt.plot(item_click_count[:100])"
   ]
  },
  {
   "cell_type": "markdown",
   "metadata": {},
   "source": [
    "可以看出点击次数最多的前100篇新闻，点击次数大于1000次"
   ]
  },
  {
   "cell_type": "code",
   "execution_count": 35,
   "metadata": {},
   "outputs": [
    {
     "data": {
      "text/plain": [
       "[<matplotlib.lines.Line2D at 0x11cd27790>]"
      ]
     },
     "execution_count": 35,
     "metadata": {},
     "output_type": "execute_result"
    },
    {
     "data": {
      "image/png": "[encoded data removed]",
      "text/plain": [
       "<Figure size 432x288 with 1 Axes>"
      ]
     },
     "metadata": {
      "needs_background": "light"
     },
     "output_type": "display_data"
    }
   ],
   "source": [
    "plt.plot(item_click_count[:20])"
   ]
  },
  {
   "cell_type": "markdown",
   "metadata": {},
   "source": [
    "点击次数最多的前20篇新闻，点击次数大于2500。思路：可以定义这些新闻为热门新闻， 这个也是简单的处理方式，后面我们也是根据点击次数和时间进行文章热度的一个划分。"
   ]
  },
  {
   "cell_type": "code",
   "execution_count": 36,
   "metadata": {},
   "outputs": [
    {
     "data": {
      "text/plain": [
       "[<matplotlib.lines.Line2D at 0x11cb47e10>]"
      ]
     },
     "execution_count": 36,
     "metadata": {},
     "output_type": "execute_result"
    },
    {
     "data": {
      "image/png": "[encoded data removed]",
      "text/plain": [
       "<Figure size 432x288 with 1 Axes>"
      ]
     },
     "metadata": {
      "needs_background": "light"
     },
     "output_type": "display_data"
    }
   ],
   "source": [
    "# 可以发现很多新闻只被点击过一两次。思路：可以定义这些新闻是冷门新闻。\n",
    "plt.plot(item_click_count[3500:])"
   ]
  },
  {
   "cell_type": "markdown",
   "metadata": {},
   "source": [
    "## 新闻共现频次分析：两篇新闻连续出现的次数"
   ]
  },
  {
   "cell_type": "code",
   "execution_count": 37,
   "metadata": {},
   "outputs": [
    {
     "data": {
      "text/html": [
       "<div>\n",
       "<style scoped>\n",
       "    .dataframe tbody tr th:only-of-type {\n",
       "        vertical-align: middle;\n",
       "    }\n",
       "\n",
       "    .dataframe tbody tr th {\n",
       "        vertical-align: top;\n",
       "    }\n",
       "\n",
       "    .dataframe thead th {\n",
       "        text-align: right;\n",
       "    }\n",
       "</style>\n",
       "<table border=\"1\" class=\"dataframe\">\n",
       "  <thead>\n",
       "    <tr style=\"text-align: right;\">\n",
       "      <th></th>\n",
       "      <th>count</th>\n",
       "    </tr>\n",
       "  </thead>\n",
       "  <tbody>\n",
       "    <tr>\n",
       "      <th>count</th>\n",
       "      <td>433597.000000</td>\n",
       "    </tr>\n",
       "    <tr>\n",
       "      <th>mean</th>\n",
       "      <td>3.184139</td>\n",
       "    </tr>\n",
       "    <tr>\n",
       "      <th>std</th>\n",
       "      <td>18.851753</td>\n",
       "    </tr>\n",
       "    <tr>\n",
       "      <th>min</th>\n",
       "      <td>1.000000</td>\n",
       "    </tr>\n",
       "    <tr>\n",
       "      <th>25%</th>\n",
       "      <td>1.000000</td>\n",
       "    </tr>\n",
       "    <tr>\n",
       "      <th>50%</th>\n",
       "      <td>1.000000</td>\n",
       "    </tr>\n",
       "    <tr>\n",
       "      <th>75%</th>\n",
       "      <td>2.000000</td>\n",
       "    </tr>\n",
       "    <tr>\n",
       "      <th>max</th>\n",
       "      <td>2202.000000</td>\n",
       "    </tr>\n",
       "  </tbody>\n",
       "</table>\n",
       "</div>"
      ],
      "text/plain": [
       "               count\n",
       "count  433597.000000\n",
       "mean        3.184139\n",
       "std        18.851753\n",
       "min         1.000000\n",
       "25%         1.000000\n",
       "50%         1.000000\n",
       "75%         2.000000\n",
       "max      2202.000000"
      ]
     },
     "execution_count": 37,
     "metadata": {},
     "output_type": "execute_result"
    }
   ],
   "source": [
    "tmp = user_click_merge.sort_values('click_timestamp')\n",
    "tmp['next_item'] = tmp.groupby(['user_id'])['click_article_id'].transform(lambda x:x.shift(-1))\n",
    "union_item = tmp.groupby(['click_article_id','next_item'])['click_timestamp'].agg({'count'}).reset_index().sort_values('count', ascending=False)\n",
    "union_item[['count']].describe()"
   ]
  },
  {
   "cell_type": "markdown",
   "metadata": {},
   "source": [
    "由统计数据可以看出，平均共现次数2.88，最高为1687。\n",
    "\n",
    "说明用户看的新闻，相关性是比较强的。"
   ]
  },
  {
   "cell_type": "code",
   "execution_count": 38,
   "metadata": {},
   "outputs": [
    {
     "data": {
      "text/plain": [
       "<matplotlib.collections.PathCollection at 0x11949fd50>"
      ]
     },
     "execution_count": 38,
     "metadata": {},
     "output_type": "execute_result"
    },
    {
     "data": {
      "image/png": "[encoded data removed]",
      "text/plain": [
       "<Figure size 432x288 with 1 Axes>"
      ]
     },
     "metadata": {
      "needs_background": "light"
     },
     "output_type": "display_data"
    }
   ],
   "source": [
    "x = union_item['click_article_id']\n",
    "y = union_item['count']\n",
    "plt.scatter(x, y)"
   ]
  },
  {
   "cell_type": "code",
   "execution_count": 39,
   "metadata": {},
   "outputs": [
    {
     "data": {
      "text/plain": [
       "[<matplotlib.lines.Line2D at 0x1194c5750>]"
      ]
     },
     "execution_count": 39,
     "metadata": {},
     "output_type": "execute_result"
    },
    {
     "data": {
      "image/png": "[encoded data removed]",
      "text/plain": [
       "<Figure size 432x288 with 1 Axes>"
      ]
     },
     "metadata": {
      "needs_background": "light"
     },
     "output_type": "display_data"
    }
   ],
   "source": [
    "# 大概有70000个pair至少共现一次。\n",
    "\n",
    "plt.plot(union_item['count'].values[40000:])"
   ]
  },
  {
   "cell_type": "code",
   "execution_count": 40,
   "metadata": {},
   "outputs": [
    {
     "data": {
      "text/plain": [
       "[<matplotlib.lines.Line2D at 0x11cd08450>]"
      ]
     },
     "execution_count": 40,
     "metadata": {},
     "output_type": "execute_result"
    },
    {
     "data": {
      "image/png": "[encoded data removed]",
      "text/plain": [
       "<Figure size 432x288 with 1 Axes>"
      ]
     },
     "metadata": {
      "needs_background": "light"
     },
     "output_type": "display_data"
    }
   ],
   "source": [
    "#不同类型的新闻出现的次数\n",
    "plt.plot(user_click_merge['category_id'].value_counts().values)"
   ]
  },
  {
   "cell_type": "code",
   "execution_count": 43,
   "metadata": {},
   "outputs": [
    {
     "data": {
      "text/plain": [
       "[<matplotlib.lines.Line2D at 0x1aa7c27b50>]"
      ]
     },
     "execution_count": 43,
     "metadata": {},
     "output_type": "execute_result"
    },
    {
     "data": {
      "image/png": "[encoded data removed]",
      "text/plain": [
       "<Figure size 432x288 with 1 Axes>"
      ]
     },
     "metadata": {
      "needs_background": "light"
     },
     "output_type": "display_data"
    }
   ],
   "source": [
    "#出现次数比较少的新闻类型, 有些新闻类型，基本上就出现过几次\n",
    "plt.plot(user_click_merge['category_id'].value_counts().values[150:])\n"
   ]
  },
  {
   "cell_type": "code",
   "execution_count": 42,
   "metadata": {},
   "outputs": [
    {
     "data": {
      "text/plain": [
       "count    1.112623e+06\n",
       "mean     2.011981e+02\n",
       "std      5.223881e+01\n",
       "min      0.000000e+00\n",
       "25%      1.700000e+02\n",
       "50%      1.970000e+02\n",
       "75%      2.280000e+02\n",
       "max      6.690000e+03\n",
       "Name: words_count, dtype: float64"
      ]
     },
     "execution_count": 42,
     "metadata": {},
     "output_type": "execute_result"
    }
   ],
   "source": [
    "#新闻字数的描述性统计\n",
    "user_click_merge['words_count'].describe()\n"
   ]
  },
  {
   "cell_type": "code",
   "execution_count": 44,
   "metadata": {},
   "outputs": [
    {
     "data": {
      "text/plain": [
       "[<matplotlib.lines.Line2D at 0x1aa7cc7110>]"
      ]
     },
     "execution_count": 44,
     "metadata": {},
     "output_type": "execute_result"
    },
    {
     "data": {
      "image/png": "[encoded data removed]",
      "text/plain": [
       "<Figure size 432x288 with 1 Axes>"
      ]
     },
     "metadata": {
      "needs_background": "light"
     },
     "output_type": "display_data"
    }
   ],
   "source": [
    "plt.plot(user_click_merge['words_count'].values)"
   ]
  },
  {
   "cell_type": "markdown",
   "metadata": {},
   "source": [
    "## 用户点击的新闻类型偏好"
   ]
  },
  {
   "cell_type": "code",
   "execution_count": 45,
   "metadata": {},
   "outputs": [
    {
     "data": {
      "text/plain": [
       "[<matplotlib.lines.Line2D at 0x1aa7d79350>]"
      ]
     },
     "execution_count": 45,
     "metadata": {},
     "output_type": "execute_result"
    },
    {
     "data": {
      "image/png": "[encoded data removed]",
      "text/plain": [
       "<Figure size 432x288 with 1 Axes>"
      ]
     },
     "metadata": {
      "needs_background": "light"
     },
     "output_type": "display_data"
    }
   ],
   "source": [
    "# 从上图中可以看出有一小部分用户阅读类型是极其广泛的，大部分人都处在20个新闻类型以下。\n",
    "\n",
    "plt.plot(sorted(user_click_merge.groupby('user_id')['category_id'].nunique(), reverse=True))\n"
   ]
  },
  {
   "cell_type": "code",
   "execution_count": 46,
   "metadata": {},
   "outputs": [
    {
     "data": {
      "text/html": [
       "<div>\n",
       "<style scoped>\n",
       "    .dataframe tbody tr th:only-of-type {\n",
       "        vertical-align: middle;\n",
       "    }\n",
       "\n",
       "    .dataframe tbody tr th {\n",
       "        vertical-align: top;\n",
       "    }\n",
       "\n",
       "    .dataframe thead th {\n",
       "        text-align: right;\n",
       "    }\n",
       "</style>\n",
       "<table border=\"1\" class=\"dataframe\">\n",
       "  <thead>\n",
       "    <tr style=\"text-align: right;\">\n",
       "      <th></th>\n",
       "      <th>user_id</th>\n",
       "      <th>category_id</th>\n",
       "    </tr>\n",
       "  </thead>\n",
       "  <tbody>\n",
       "    <tr>\n",
       "      <th>count</th>\n",
       "      <td>250000.000000</td>\n",
       "      <td>250000.000000</td>\n",
       "    </tr>\n",
       "    <tr>\n",
       "      <th>mean</th>\n",
       "      <td>124999.500000</td>\n",
       "      <td>3.256964</td>\n",
       "    </tr>\n",
       "    <tr>\n",
       "      <th>std</th>\n",
       "      <td>72168.927986</td>\n",
       "      <td>3.647648</td>\n",
       "    </tr>\n",
       "    <tr>\n",
       "      <th>min</th>\n",
       "      <td>0.000000</td>\n",
       "      <td>0.000000</td>\n",
       "    </tr>\n",
       "    <tr>\n",
       "      <th>25%</th>\n",
       "      <td>62499.750000</td>\n",
       "      <td>1.000000</td>\n",
       "    </tr>\n",
       "    <tr>\n",
       "      <th>50%</th>\n",
       "      <td>124999.500000</td>\n",
       "      <td>2.000000</td>\n",
       "    </tr>\n",
       "    <tr>\n",
       "      <th>75%</th>\n",
       "      <td>187499.250000</td>\n",
       "      <td>4.000000</td>\n",
       "    </tr>\n",
       "    <tr>\n",
       "      <th>max</th>\n",
       "      <td>249999.000000</td>\n",
       "      <td>62.000000</td>\n",
       "    </tr>\n",
       "  </tbody>\n",
       "</table>\n",
       "</div>"
      ],
      "text/plain": [
       "             user_id    category_id\n",
       "count  250000.000000  250000.000000\n",
       "mean   124999.500000       3.256964\n",
       "std     72168.927986       3.647648\n",
       "min         0.000000       0.000000\n",
       "25%     62499.750000       1.000000\n",
       "50%    124999.500000       2.000000\n",
       "75%    187499.250000       4.000000\n",
       "max    249999.000000      62.000000"
      ]
     },
     "execution_count": 46,
     "metadata": {},
     "output_type": "execute_result"
    }
   ],
   "source": [
    "user_click_merge.groupby('user_id')['category_id'].nunique().reset_index().describe()\n"
   ]
  },
  {
   "cell_type": "markdown",
   "metadata": {},
   "source": [
    "### 用户查看文章的长度的分布\n",
    "\n",
    "通过统计不同用户点击新闻的平均字数，这个可以反映用户是对长文更感兴趣还是对短文更感兴趣。"
   ]
  },
  {
   "cell_type": "code",
   "execution_count": 48,
   "metadata": {},
   "outputs": [
    {
     "data": {
      "text/plain": [
       "[<matplotlib.lines.Line2D at 0x1aa7e18ed0>]"
      ]
     },
     "execution_count": 48,
     "metadata": {},
     "output_type": "execute_result"
    },
    {
     "data": {
      "image/png": "[encoded data removed]",
      "text/plain": [
       "<Figure size 432x288 with 1 Axes>"
      ]
     },
     "metadata": {
      "needs_background": "light"
     },
     "output_type": "display_data"
    }
   ],
   "source": [
    "plt.plot(sorted(user_click_merge.groupby('user_id')['words_count'].mean(), reverse=True))"
   ]
  },
  {
   "cell_type": "markdown",
   "metadata": {},
   "source": [
    "从上图中可以发现有一小部分人看的文章平均词数非常高，也有一小部分人看的平均文章次数非常低。\n",
    "\n",
    "大多数人偏好于阅读字数在200-400字之间的新闻。"
   ]
  },
  {
   "cell_type": "code",
   "execution_count": 49,
   "metadata": {},
   "outputs": [
    {
     "data": {
      "text/plain": [
       "[<matplotlib.lines.Line2D at 0x1aa7ed3810>]"
      ]
     },
     "execution_count": 49,
     "metadata": {},
     "output_type": "execute_result"
    },
    {
     "data": {
      "image/png": "[encoded data removed]",
      "text/plain": [
       "<Figure size 432x288 with 1 Axes>"
      ]
     },
     "metadata": {
      "needs_background": "light"
     },
     "output_type": "display_data"
    }
   ],
   "source": [
    "# 可以发现大多数人都是看250字以下的文章\n",
    "plt.plot(sorted(user_click_merge.groupby('user_id')['words_count'].mean(), reverse=True)[1000:45000])"
   ]
  },
  {
   "cell_type": "code",
   "execution_count": 50,
   "metadata": {},
   "outputs": [
    {
     "data": {
      "text/html": [
       "<div>\n",
       "<style scoped>\n",
       "    .dataframe tbody tr th:only-of-type {\n",
       "        vertical-align: middle;\n",
       "    }\n",
       "\n",
       "    .dataframe tbody tr th {\n",
       "        vertical-align: top;\n",
       "    }\n",
       "\n",
       "    .dataframe thead th {\n",
       "        text-align: right;\n",
       "    }\n",
       "</style>\n",
       "<table border=\"1\" class=\"dataframe\">\n",
       "  <thead>\n",
       "    <tr style=\"text-align: right;\">\n",
       "      <th></th>\n",
       "      <th>user_id</th>\n",
       "      <th>words_count</th>\n",
       "    </tr>\n",
       "  </thead>\n",
       "  <tbody>\n",
       "    <tr>\n",
       "      <th>count</th>\n",
       "      <td>250000.000000</td>\n",
       "      <td>200000.000000</td>\n",
       "    </tr>\n",
       "    <tr>\n",
       "      <th>mean</th>\n",
       "      <td>124999.500000</td>\n",
       "      <td>201.307200</td>\n",
       "    </tr>\n",
       "    <tr>\n",
       "      <th>std</th>\n",
       "      <td>72168.927986</td>\n",
       "      <td>32.694738</td>\n",
       "    </tr>\n",
       "    <tr>\n",
       "      <th>min</th>\n",
       "      <td>0.000000</td>\n",
       "      <td>16.000000</td>\n",
       "    </tr>\n",
       "    <tr>\n",
       "      <th>25%</th>\n",
       "      <td>62499.750000</td>\n",
       "      <td>185.000000</td>\n",
       "    </tr>\n",
       "    <tr>\n",
       "      <th>50%</th>\n",
       "      <td>124999.500000</td>\n",
       "      <td>200.500000</td>\n",
       "    </tr>\n",
       "    <tr>\n",
       "      <th>75%</th>\n",
       "      <td>187499.250000</td>\n",
       "      <td>216.050658</td>\n",
       "    </tr>\n",
       "    <tr>\n",
       "      <th>max</th>\n",
       "      <td>249999.000000</td>\n",
       "      <td>3434.500000</td>\n",
       "    </tr>\n",
       "  </tbody>\n",
       "</table>\n",
       "</div>"
      ],
      "text/plain": [
       "             user_id    words_count\n",
       "count  250000.000000  200000.000000\n",
       "mean   124999.500000     201.307200\n",
       "std     72168.927986      32.694738\n",
       "min         0.000000      16.000000\n",
       "25%     62499.750000     185.000000\n",
       "50%    124999.500000     200.500000\n",
       "75%    187499.250000     216.050658\n",
       "max    249999.000000    3434.500000"
      ]
     },
     "execution_count": 50,
     "metadata": {},
     "output_type": "execute_result"
    }
   ],
   "source": [
    "#更加详细的参数\n",
    "user_click_merge.groupby('user_id')['words_count'].mean().reset_index().describe()"
   ]
  },
  {
   "cell_type": "markdown",
   "metadata": {},
   "source": [
    "## 用户点击新闻的时间分析"
   ]
  },
  {
   "cell_type": "code",
   "execution_count": 51,
   "metadata": {},
   "outputs": [
    {
     "data": {
      "text/html": [
       "<div>\n",
       "<style scoped>\n",
       "    .dataframe tbody tr th:only-of-type {\n",
       "        vertical-align: middle;\n",
       "    }\n",
       "\n",
       "    .dataframe tbody tr th {\n",
       "        vertical-align: top;\n",
       "    }\n",
       "\n",
       "    .dataframe thead th {\n",
       "        text-align: right;\n",
       "    }\n",
       "</style>\n",
       "<table border=\"1\" class=\"dataframe\">\n",
       "  <thead>\n",
       "    <tr style=\"text-align: right;\">\n",
       "      <th></th>\n",
       "      <th>user_id</th>\n",
       "      <th>click_article_id</th>\n",
       "      <th>click_timestamp</th>\n",
       "      <th>click_environment</th>\n",
       "      <th>click_deviceGroup</th>\n",
       "      <th>click_os</th>\n",
       "      <th>click_country</th>\n",
       "      <th>click_region</th>\n",
       "      <th>click_referrer_type</th>\n",
       "      <th>rank</th>\n",
       "      <th>click_cnts</th>\n",
       "      <th>category_id_x</th>\n",
       "      <th>created_at_ts_x</th>\n",
       "      <th>words_count_x</th>\n",
       "      <th>category_id_y</th>\n",
       "      <th>created_at_ts_y</th>\n",
       "      <th>words_count_y</th>\n",
       "      <th>category_id</th>\n",
       "      <th>created_at_ts</th>\n",
       "      <th>words_count</th>\n",
       "    </tr>\n",
       "  </thead>\n",
       "  <tbody>\n",
       "    <tr>\n",
       "      <th>18</th>\n",
       "      <td>249990</td>\n",
       "      <td>162300</td>\n",
       "      <td>0.000000</td>\n",
       "      <td>4</td>\n",
       "      <td>3</td>\n",
       "      <td>20</td>\n",
       "      <td>1</td>\n",
       "      <td>25</td>\n",
       "      <td>2</td>\n",
       "      <td>5</td>\n",
       "      <td>5</td>\n",
       "      <td>281</td>\n",
       "      <td>1506945129000</td>\n",
       "      <td>193</td>\n",
       "      <td>281</td>\n",
       "      <td>1506945129000</td>\n",
       "      <td>193</td>\n",
       "      <td>NaN</td>\n",
       "      <td>NaN</td>\n",
       "      <td>NaN</td>\n",
       "    </tr>\n",
       "    <tr>\n",
       "      <th>2</th>\n",
       "      <td>249998</td>\n",
       "      <td>160974</td>\n",
       "      <td>0.000002</td>\n",
       "      <td>4</td>\n",
       "      <td>1</td>\n",
       "      <td>12</td>\n",
       "      <td>1</td>\n",
       "      <td>13</td>\n",
       "      <td>2</td>\n",
       "      <td>5</td>\n",
       "      <td>5</td>\n",
       "      <td>281</td>\n",
       "      <td>1506912747000</td>\n",
       "      <td>259</td>\n",
       "      <td>281</td>\n",
       "      <td>1506912747000</td>\n",
       "      <td>259</td>\n",
       "      <td>NaN</td>\n",
       "      <td>NaN</td>\n",
       "      <td>NaN</td>\n",
       "    </tr>\n",
       "    <tr>\n",
       "      <th>30</th>\n",
       "      <td>249985</td>\n",
       "      <td>160974</td>\n",
       "      <td>0.000003</td>\n",
       "      <td>4</td>\n",
       "      <td>1</td>\n",
       "      <td>17</td>\n",
       "      <td>1</td>\n",
       "      <td>8</td>\n",
       "      <td>2</td>\n",
       "      <td>8</td>\n",
       "      <td>8</td>\n",
       "      <td>281</td>\n",
       "      <td>1506912747000</td>\n",
       "      <td>259</td>\n",
       "      <td>281</td>\n",
       "      <td>1506912747000</td>\n",
       "      <td>259</td>\n",
       "      <td>NaN</td>\n",
       "      <td>NaN</td>\n",
       "      <td>NaN</td>\n",
       "    </tr>\n",
       "    <tr>\n",
       "      <th>50</th>\n",
       "      <td>249979</td>\n",
       "      <td>162300</td>\n",
       "      <td>0.000004</td>\n",
       "      <td>4</td>\n",
       "      <td>1</td>\n",
       "      <td>17</td>\n",
       "      <td>1</td>\n",
       "      <td>25</td>\n",
       "      <td>2</td>\n",
       "      <td>2</td>\n",
       "      <td>2</td>\n",
       "      <td>281</td>\n",
       "      <td>1506945129000</td>\n",
       "      <td>193</td>\n",
       "      <td>281</td>\n",
       "      <td>1506945129000</td>\n",
       "      <td>193</td>\n",
       "      <td>NaN</td>\n",
       "      <td>NaN</td>\n",
       "      <td>NaN</td>\n",
       "    </tr>\n",
       "    <tr>\n",
       "      <th>25</th>\n",
       "      <td>249988</td>\n",
       "      <td>160974</td>\n",
       "      <td>0.000004</td>\n",
       "      <td>4</td>\n",
       "      <td>1</td>\n",
       "      <td>17</td>\n",
       "      <td>1</td>\n",
       "      <td>21</td>\n",
       "      <td>2</td>\n",
       "      <td>17</td>\n",
       "      <td>17</td>\n",
       "      <td>281</td>\n",
       "      <td>1506912747000</td>\n",
       "      <td>259</td>\n",
       "      <td>281</td>\n",
       "      <td>1506912747000</td>\n",
       "      <td>259</td>\n",
       "      <td>NaN</td>\n",
       "      <td>NaN</td>\n",
       "      <td>NaN</td>\n",
       "    </tr>\n",
       "  </tbody>\n",
       "</table>\n",
       "</div>"
      ],
      "text/plain": [
       "    user_id  click_article_id  click_timestamp  click_environment  \\\n",
       "18   249990            162300         0.000000                  4   \n",
       "2    249998            160974         0.000002                  4   \n",
       "30   249985            160974         0.000003                  4   \n",
       "50   249979            162300         0.000004                  4   \n",
       "25   249988            160974         0.000004                  4   \n",
       "\n",
       "    click_deviceGroup  click_os  click_country  click_region  \\\n",
       "18                  3        20              1            25   \n",
       "2                   1        12              1            13   \n",
       "30                  1        17              1             8   \n",
       "50                  1        17              1            25   \n",
       "25                  1        17              1            21   \n",
       "\n",
       "    click_referrer_type  rank  click_cnts  category_id_x  created_at_ts_x  \\\n",
       "18                    2     5           5            281    1506945129000   \n",
       "2                     2     5           5            281    1506912747000   \n",
       "30                    2     8           8            281    1506912747000   \n",
       "50                    2     2           2            281    1506945129000   \n",
       "25                    2    17          17            281    1506912747000   \n",
       "\n",
       "    words_count_x  category_id_y  created_at_ts_y  words_count_y  category_id  \\\n",
       "18            193            281    1506945129000            193          NaN   \n",
       "2             259            281    1506912747000            259          NaN   \n",
       "30            259            281    1506912747000            259          NaN   \n",
       "50            193            281    1506945129000            193          NaN   \n",
       "25            259            281    1506912747000            259          NaN   \n",
       "\n",
       "    created_at_ts  words_count  \n",
       "18            NaN          NaN  \n",
       "2             NaN          NaN  \n",
       "30            NaN          NaN  \n",
       "50            NaN          NaN  \n",
       "25            NaN          NaN  "
      ]
     },
     "execution_count": 51,
     "metadata": {},
     "output_type": "execute_result"
    }
   ],
   "source": [
    "#为了更好的可视化，这里把时间进行归一化操作\n",
    "from sklearn.preprocessing import MinMaxScaler\n",
    "mm = MinMaxScaler()\n",
    "user_click_merge['click_timestamp'] = mm.fit_transform(user_click_merge[['click_timestamp']])\n",
    "user_click_merge['created_at_ts'] = mm.fit_transform(user_click_merge[['created_at_ts']])\n",
    "\n",
    "user_click_merge = user_click_merge.sort_values('click_timestamp')\n",
    "user_click_merge.head()"
   ]
  },
  {
   "cell_type": "code",
   "execution_count": 52,
   "metadata": {},
   "outputs": [
    {
     "data": {
      "text/plain": [
       "[<matplotlib.lines.Line2D at 0x12b8efa90>]"
      ]
     },
     "execution_count": 52,
     "metadata": {},
     "output_type": "execute_result"
    },
    {
     "data": {
      "image/png": "[encoded data removed]",
      "text/plain": [
       "<Figure size 432x288 with 1 Axes>"
      ]
     },
     "metadata": {
      "needs_background": "light"
     },
     "output_type": "display_data"
    }
   ],
   "source": [
    "def mean_diff_time_func(df, col):\n",
    "    df = pd.DataFrame(df, columns={col})\n",
    "    df['time_shift1'] = df[col].shift(1).fillna(0)\n",
    "    df['diff_time'] = abs(df[col] - df['time_shift1'])\n",
    "    return df['diff_time'].mean()\n",
    "\n",
    "# 点击时间差的平均值\n",
    "mean_diff_click_time = user_click_merge.groupby('user_id')['click_timestamp', 'created_at_ts'].apply(lambda x: mean_diff_time_func(x, 'click_timestamp'))\n",
    "plt.plot(sorted(mean_diff_click_time.values, reverse=True))\n"
   ]
  },
  {
   "cell_type": "markdown",
   "metadata": {},
   "source": [
    "从上图可以发现不同用户点击文章的时间差是有差异的。"
   ]
  },
  {
   "cell_type": "code",
   "execution_count": null,
   "metadata": {},
   "outputs": [],
   "source": [
    "# 前后点击文章的创建时间差的平均值\n",
    "mean_diff_created_time = user_click_merge.groupby('user_id')['click_timestamp', 'created_at_ts'].apply(lambda x: mean_diff_time_func(x, 'created_at_ts'))\n"
   ]
  },
  {
   "cell_type": "code",
   "execution_count": null,
   "metadata": {},
   "outputs": [],
   "source": [
    "# 从下图可以发现不同用户点击文章的时间差是有差异的。\n",
    "plt.plot(sorted(mean_diff_click_time.values, reverse=True))\n"
   ]
  },
  {
   "cell_type": "code",
   "execution_count": null,
   "metadata": {},
   "outputs": [],
   "source": [
    "# 用户前后点击文章的相似性分布\n",
    "item_idx_2_rawid_dict = dict(zip(item_emb_df['article_id'], item_emb_df.index))\n",
    "del item_emb_df['article_id']\n",
    "\n",
    "item_emb_np = np.ascontiguousarray(item_emb_df.values, dtype=np.float32)\n",
    "\n",
    "# 随机选择5个用户，查看这些用户前后查看文章的相似性\n",
    "sub_user_ids = np.random.choice(user_click_merge.user_id.unique(), size=15, replace=False)\n",
    "sub_user_info = user_click_merge[user_click_merge['user_id'].isin(sub_user_ids)]\n",
    "\n",
    "sub_user_info.head()\n"
   ]
  },
  {
   "cell_type": "code",
   "execution_count": null,
   "metadata": {},
   "outputs": [],
   "source": [
    "def get_item_sim_list(df):\n",
    "    sim_list = []\n",
    "    item_list = df['click_article_id'].values\n",
    "    for i in range(0, len(item_list)-1):\n",
    "        emb1 = item_emb_np[item_idx_2_rawid_dict[item_list[i]]]\n",
    "        emb2 = item_emb_np[item_idx_2_rawid_dict[item_list[i+1]]]\n",
    "        sim_list.append(np.dot(emb1,emb2)/(np.linalg.norm(emb1)*(np.linalg.norm(emb2))))\n",
    "    sim_list.append(0)\n",
    "    return sim_list\n",
    "\n",
    "# 从图中可以看出有些用户前后看的商品的相似度波动比较大，\n",
    "# 有些波动比较小，也是有一定的区分度的。\n",
    "for _, user_df in sub_user_info.groupby('user_id'):\n",
    "    item_sim_list = get_item_sim_list(user_df)\n",
    "    plt.plot(item_sim_list)\n",
    "    "
   ]
  },
  {
   "cell_type": "markdown",
   "metadata": {},
   "source": [
    "## 总结\n",
    "\n",
    "通过数据分析的过程， 我们目前可以得到以下几点重要的信息， 这个对于我们进行后面的特征制作和分析非常有帮助：\n",
    "\n",
    "- 1.训练集和测试集的用户id没有重复，也就是测试集里面的用户模型是没有见过的\n",
    "- 2.训练集中用户最少的点击文章数是2， 而测试集里面用户最少的点击文章数是1\n",
    "- 3.用户对于文章存在重复点击的情况， 但这个都存在于训练集里面\n",
    "- 4.同一用户的点击环境存在不唯一的情况，后面做这部分特征的时候可以采用统计特征\n",
    "- 5.用户点击文章的次数有很大的区分度，后面可以根据这个制作衡量用户活跃度的特征\n",
    "- 6.文章被用户点击的次数也有很大的区分度，后面可根据这个制作衡量文章热度的特征\n",
    "- 7.用户看的新闻，相关性是比较强的，所以往往我们判断用户是否对某篇文章感兴趣的时候， 在很大程度上会和他历史点击过的文章有关\n",
    "- 8.用户点击的文章字数有比较大的区别， 这个可以反映用户对于文章字数的区别\n",
    "- 9.用户点击过的文章主题也有很大的区别， 这个可以反映用户的主题偏好\n",
    "- 10.不同用户点击文章的时间差也会有所区别， 这个可以反映用户对于文章时效性的偏好\n",
    "所以根据上面的一些分析，可以更好的帮助我们后面做好特征工程， 充分挖掘数据的隐含信息。"
   ]
  },
  {
   "cell_type": "code",
   "execution_count": null,
   "metadata": {},
   "outputs": [],
   "source": []
  },
  {
   "cell_type": "code",
   "execution_count": null,
   "metadata": {},
   "outputs": [],
   "source": []
  },
  {
   "cell_type": "code",
   "execution_count": null,
   "metadata": {},
   "outputs": [],
   "source": []
  },
  {
   "cell_type": "code",
   "execution_count": null,
   "metadata": {},
   "outputs": [],
   "source": []
  },
  {
   "cell_type": "code",
   "execution_count": null,
   "metadata": {},
   "outputs": [],
   "source": []
  }
 ],
 "metadata": {
  "kernelspec": {
   "display_name": "Python 3",
   "language": "python",
   "name": "python3"
  },
  "language_info": {
   "codemirror_mode": {
    "name": "ipython",
    "version": 3
   },
   "file_extension": ".py",
   "mimetype": "text/x-python",
   "name": "python",
   "nbconvert_exporter": "python",
   "pygments_lexer": "ipython3",
   "version": "3.7.4"
  }
 },
 "nbformat": 4,
 "nbformat_minor": 2
}
